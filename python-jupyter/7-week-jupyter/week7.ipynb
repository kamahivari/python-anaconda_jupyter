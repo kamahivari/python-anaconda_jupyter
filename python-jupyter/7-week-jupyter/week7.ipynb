{
 "cells": [
  {
   "cell_type": "code",
   "execution_count": 3,
   "id": "8a747d16-5519-414e-9b19-c31adeedcf32",
   "metadata": {},
   "outputs": [
    {
     "name": "stdout",
     "output_type": "stream",
     "text": [
      "Merhaba10\n",
      "Merhaba 10\n"
     ]
    }
   ],
   "source": [
    "#10.bölüm - I/O islemleri\n",
    "#10.1 - terminal ekrani I/O \n",
    "\n",
    "a,b ='Merhaba',10\n",
    "print(a + str(b))\n",
    "print(a,b)"
   ]
  },
  {
   "cell_type": "code",
   "execution_count": 5,
   "id": "6d92b824-751d-480e-9c24-9a10f65f02b4",
   "metadata": {},
   "outputs": [
    {
     "name": "stdout",
     "output_type": "stream",
     "text": [
      "X degeri : 20 Y degeri : 230\n"
     ]
    }
   ],
   "source": [
    "#formatli gosterim\n",
    "x,y=20,230\n",
    "print(f'X degeri : {x} Y degeri : {y}')\n"
   ]
  },
  {
   "cell_type": "code",
   "execution_count": 11,
   "id": "59dfede6-6308-4b23-bdf1-6a77c7726278",
   "metadata": {},
   "outputs": [
    {
     "name": "stdout",
     "output_type": "stream",
     "text": [
      " 42572654 EVET 49.67%\n",
      "42572654 EVET 49.673391%\n",
      "Farklı gösterim : 0.497\n"
     ]
    }
   ],
   "source": [
    "#buyuk sayilarda formatli gosterim\n",
    "\n",
    "evet = 42_572_654\n",
    "hayir = 43_132_495\n",
    "yuzde = evet / (evet + hayir)\n",
    "print('{:-9} EVET {:2.2%}'.format(evet, yuzde))\n",
    "print('{:-5} EVET {:2.6%}'.format(evet, yuzde))\n",
    "print(f'Farklı gösterim : {yuzde:.3f}')"
   ]
  },
  {
   "cell_type": "code",
   "execution_count": 14,
   "id": "90e5c031-5ac9-4310-a890-aace7d5ddc19",
   "metadata": {},
   "outputs": [
    {
     "name": "stdout",
     "output_type": "stream",
     "text": [
      "1. değer Merhaba ve 2. değer \"Python!\"\n",
      "1. değer Merhaba ve 2. değer \"Python!\"\n",
      "2. değer Python ve 1. değer \"Merhaba!\"\n",
      "1. değer Merhaba ve 2. değer \"Python!\"\n",
      "1. değer Merhaba ve 2. değer \"Python!\"\n"
     ]
    }
   ],
   "source": [
    "#format metodu farkli kullanimlar\n",
    "\n",
    "print('1. değer {} ve 2. değer \"{}!\"'.format('Merhaba', 'Python')) #sıralı erişim\n",
    "print('1. değer {0} ve 2. değer \"{1}!\"'.format('Merhaba', 'Python')) #index ile erişim\n",
    "print('2. değer {1} ve 1. değer \"{0}!\"'.format('Merhaba', 'Python')) #sıralama\n",
    "print('1. değer {deg1} ve 2. değer \"{deg2}!\"'.format(deg1='Merhaba', deg2='Python')) #değişken üzerinden erişim\n",
    "print('1. değer {0} ve 2. değer \"{deg2}!\"'.format('Merhaba', deg2='Python')) # hem index hem de değişken ile erişim\n",
    "\n"
   ]
  },
  {
   "cell_type": "code",
   "execution_count": 15,
   "id": "a1a8ca0a-4f71-42e5-b6e7-57927dccac53",
   "metadata": {},
   "outputs": [
    {
     "name": "stdout",
     "output_type": "stream",
     "text": [
      "             Merhaba\n",
      "Merhaba             \n",
      "      Merhaba       \n",
      "0000000012\n",
      "0000012.02\n",
      "Merhaba sayı      8.146\n"
     ]
    }
   ],
   "source": [
    "#Python’da katar üzerine sağa, sola ve ortaya yaslama gibi özellikleri de destekler. \n",
    "\n",
    "degisken = 'Merhaba'\n",
    "print(degisken.rjust(20))#karakter sayısı, sağa yasla\n",
    "print(degisken.ljust(20))#karakter sayısı, sola yasla\n",
    "print(degisken.center(20))#karakter sayısı, ortala\n",
    "print('12'.zfill(10))#karakter sayısı, kalan karakterler için 0 ekle\n",
    "print('12.02'.zfill(10))#karakter sayısı, kalan karakter için 0 ekle\n",
    "sayi = 8.1456789\n",
    "print('Merhaba sayı %10.3f' % sayi) #%'den sonra karakter sayısı, f virgüllü kısım"
   ]
  },
  {
   "cell_type": "code",
   "execution_count": 16,
   "id": "d3942048-6658-4d26-bc54-e1b065e9a3b8",
   "metadata": {},
   "outputs": [
    {
     "name": "stdin",
     "output_type": "stream",
     "text": [
      "Adiniz ve soyadiniz :  Onur Doğan\n"
     ]
    }
   ],
   "source": [
    "#klavyeden girdi alma - input()\n",
    "\n",
    "i = input(\"Adiniz ve soyadiniz : \")"
   ]
  },
  {
   "cell_type": "code",
   "execution_count": 17,
   "id": "fe645f68-a74a-4c57-8f8f-a562db84ea7b",
   "metadata": {},
   "outputs": [
    {
     "name": "stdout",
     "output_type": "stream",
     "text": [
      "Onur Doğan\n"
     ]
    }
   ],
   "source": [
    "print(i)"
   ]
  },
  {
   "cell_type": "code",
   "execution_count": 18,
   "id": "57d37040-4fd6-4a7a-b063-8f33b73ad40f",
   "metadata": {},
   "outputs": [
    {
     "name": "stdin",
     "output_type": "stream",
     "text": [
      "bir sayi girin :  23432\n"
     ]
    }
   ],
   "source": [
    "#input() type\n",
    "\n",
    "x = input(\"bir sayi girin : \" )"
   ]
  },
  {
   "cell_type": "code",
   "execution_count": 22,
   "id": "ae46dbfd-72c9-4895-b225-8979ba993512",
   "metadata": {},
   "outputs": [
    {
     "name": "stdout",
     "output_type": "stream",
     "text": [
      "23432\n",
      "234322343223432\n",
      "70296\n"
     ]
    }
   ],
   "source": [
    "print(x)\n",
    "print(x*3)\n",
    "#string ceviriyor input() metodu\n",
    "#o yuzden donusum yapilarak matematiksel islem yapilir\n",
    "\n",
    "print(int(x)*3)"
   ]
  },
  {
   "cell_type": "code",
   "execution_count": 23,
   "id": "69d79269-f9cf-45c6-8c2d-05ebeb7d9fc2",
   "metadata": {},
   "outputs": [
    {
     "name": "stdout",
     "output_type": "stream",
     "text": [
      "Dosya:  dosya.txt\n",
      "Kapalı mı değil mi :  False\n",
      "Erişim modu :  w\n"
     ]
    }
   ],
   "source": [
    "#10.2 ----- DOSYA İSLEMLERİ - I/O\n",
    "\n",
    "fo = open(\"dosya.txt\", \"w\")\n",
    "print(\"Dosya: \", fo.name)\n",
    "print(\"Kapalı mı değil mi : \", fo.closed)\n",
    "print(\"Erişim modu : \", fo.mode)"
   ]
  },
  {
   "cell_type": "code",
   "execution_count": 24,
   "id": "69be00ef-a520-420a-9b48-926459409a08",
   "metadata": {},
   "outputs": [
    {
     "name": "stdout",
     "output_type": "stream",
     "text": [
      "Kapalı mı değil mi :  True\n"
     ]
    }
   ],
   "source": [
    "fo.close()\n",
    "print(\"Kapalı mı değil mi : \", fo.closed)"
   ]
  },
  {
   "cell_type": "code",
   "execution_count": 26,
   "id": "ab225164-25b9-49d4-936d-2cf9cc41e5f4",
   "metadata": {},
   "outputs": [
    {
     "data": {
      "text/plain": [
       "3"
      ]
     },
     "execution_count": 26,
     "metadata": {},
     "output_type": "execute_result"
    }
   ],
   "source": [
    "#dosya su an dizinde zaten var , \"w\" modu tekrar open() yapilirsa yeni bir dosya olusacak ve eskisi silinir\n",
    "# ekleme modunda acilir : \"a\"\n",
    "\n",
    "fo = open(\"dosya.txt\",\"a\")\n",
    "fo.write(\"Merhaba Python dosya dünyası.\\nİkinci satıra geçtik!!\\n\")\n",
    "fo.write(\"Üçüncü satır çalışmaya devam\")\n",
    "fo.write(\"!!!\")\n"
   ]
  },
  {
   "cell_type": "code",
   "execution_count": 27,
   "id": "e031a137-f110-469b-9882-d840deadda25",
   "metadata": {},
   "outputs": [],
   "source": [
    "# dizine gidip kontrol ederseniz , ust satirlar calissada text dosyasina veriler eklenmemistir\n",
    "\n",
    "# yalnizca dosyayi kapattiginizda veriler eklenir\n",
    "\n",
    "fo.close()"
   ]
  },
  {
   "cell_type": "code",
   "execution_count": 29,
   "id": "d7d24b15-fda3-4c56-a3d0-bd4a990b2a83",
   "metadata": {},
   "outputs": [
    {
     "data": {
      "text/plain": [
       "'Merhaba Python dosya dünyası.\\nİkinci satıra geçtik!!\\nÜçüncü satır çalışmaya devam!!!'"
      ]
     },
     "execution_count": 29,
     "metadata": {},
     "output_type": "execute_result"
    }
   ],
   "source": [
    "#read modu\n",
    "# default olarak read modunda 'r' acacaktir , deneyelim\n",
    "\n",
    "fo = open(\"dosya.txt\")\n",
    "fo.read()"
   ]
  },
  {
   "cell_type": "code",
   "execution_count": 31,
   "id": "af9c3a6f-536e-4be8-8103-4889197cccce",
   "metadata": {},
   "outputs": [
    {
     "data": {
      "text/plain": [
       "''"
      ]
     },
     "execution_count": 31,
     "metadata": {},
     "output_type": "execute_result"
    }
   ],
   "source": [
    "fo.read(10)\n",
    "#su an dosya acik ve tum dosyayi okuttugumuz icin isaretci en sonda bulunuyor o sebeple 10 karakter okutamadik\n"
   ]
  },
  {
   "cell_type": "code",
   "execution_count": 36,
   "id": "e748c354-0fe2-4b2c-8984-cd1189a437a2",
   "metadata": {},
   "outputs": [
    {
     "data": {
      "text/plain": [
       "'Merhaba Py'"
      ]
     },
     "execution_count": 36,
     "metadata": {},
     "output_type": "execute_result"
    }
   ],
   "source": [
    "#dosyayi close() yapmadan denedik bir sorun olmadi , tekrar open() yapalim ki isaretci dosya basini gostersin ve 10 karakter okuyalim.\n",
    "\n",
    "fo = open(\"dosya.txt\")\n",
    "fo.read(10)"
   ]
  },
  {
   "cell_type": "code",
   "execution_count": 37,
   "id": "a1da37e5-d2f2-4e50-90e0-52dfc8369295",
   "metadata": {},
   "outputs": [
    {
     "data": {
      "text/plain": [
       "'thon dosya'"
      ]
     },
     "execution_count": 37,
     "metadata": {},
     "output_type": "execute_result"
    }
   ],
   "source": [
    "fo.read(10)\n"
   ]
  },
  {
   "cell_type": "code",
   "execution_count": 39,
   "id": "a1a4480f-fd22-445a-9f28-efaf4e3f61da",
   "metadata": {},
   "outputs": [],
   "source": [
    "#isimiz bitince dosya kapatmayi unutma , bunu unutacagini dusunuyorsan bir cozumu var.\n",
    "fo.close()"
   ]
  },
  {
   "cell_type": "code",
   "execution_count": 40,
   "id": "098aa4ae-48cd-4e30-8e6e-e17244bbbf51",
   "metadata": {},
   "outputs": [
    {
     "name": "stdout",
     "output_type": "stream",
     "text": [
      "1. okunan :  Merhaba Py\n",
      "Şu anki pozisyon :  10\n",
      "2. okunan :  Merhaba Py\n"
     ]
    }
   ],
   "source": [
    "#dosya pozisyonlari\n",
    "#seek() ve tell() komutlari ile pozisyon bilgisi uzerinde islem\n",
    "\n",
    "fo = open(\"dosya.txt\", \"r+\")\n",
    "str = fo.read(10);\n",
    "print(\"1. okunan : \", str)\n",
    "position = fo.tell(); #pozisyon bilgisi\n",
    "print(\"Şu anki pozisyon : \", position)\n",
    "#tekrar başa konumlan\n",
    "position = fo.seek(0, 0);\n",
    "str = fo.read(10);\n",
    "print(\"2. okunan : \", str)\n",
    "fo.close()"
   ]
  },
  {
   "cell_type": "code",
   "execution_count": 42,
   "id": "6373a230-3a45-46bf-a108-63653fa68a0a",
   "metadata": {},
   "outputs": [],
   "source": [
    "#with kullanimi , close unutulabilir\n",
    "#blok disina cikinca dosya otomatik olarak kapanir 'with' kullaniminda\n",
    "with open(\"dosya.txt\", \"a\") as myfile:\n",
    "    myfile.write(\"Merhaba with\\n\")\n",
    "    myfile.write(\"Merhaba with\\n\")\n",
    "    myfile.write(\"Merhaba with\")"
   ]
  },
  {
   "cell_type": "code",
   "execution_count": 43,
   "id": "5cea560b-e080-4d21-982f-1b6384e356b0",
   "metadata": {},
   "outputs": [],
   "source": [
    "# OS module\n",
    "\n",
    "import os #os modülü ekleniyor\n",
    "os.rename( \"dosya.txt\", \"dosya1.txt\" ) # dosya ismi değiştiriliyor.\n"
   ]
  },
  {
   "cell_type": "code",
   "execution_count": 46,
   "id": "7a2744cb-78a8-41d0-a747-d2c512c790b6",
   "metadata": {},
   "outputs": [
    {
     "data": {
      "text/plain": [
       "'C:\\\\Users\\\\Onur\\\\Documents\\\\GitHub\\\\python-anaconda_jupyter\\\\python-jupyter\\\\7-week-jupyter'"
      ]
     },
     "execution_count": 46,
     "metadata": {},
     "output_type": "execute_result"
    }
   ],
   "source": [
    "# Directory islemleri\n",
    "\n",
    "os.getcwd()\n"
   ]
  },
  {
   "cell_type": "code",
   "execution_count": null,
   "id": "3758856f-5614-4f00-a683-3a9919fa8d35",
   "metadata": {},
   "outputs": [],
   "source": [
    "os.mkdir('yenidizin')"
   ]
  },
  {
   "cell_type": "code",
   "execution_count": 47,
   "id": "c3dab62f-8366-46d4-990e-530141ed54c9",
   "metadata": {},
   "outputs": [
    {
     "data": {
      "text/plain": [
       "2024"
      ]
     },
     "execution_count": 47,
     "metadata": {},
     "output_type": "execute_result"
    }
   ],
   "source": [
    "#docs.python.org/osmodule daha fazla OS module komutlarina ulas\n",
    "os.getpid()"
   ]
  }
 ],
 "metadata": {
  "kernelspec": {
   "display_name": "Python 3 (ipykernel)",
   "language": "python",
   "name": "python3"
  },
  "language_info": {
   "codemirror_mode": {
    "name": "ipython",
    "version": 3
   },
   "file_extension": ".py",
   "mimetype": "text/x-python",
   "name": "python",
   "nbconvert_exporter": "python",
   "pygments_lexer": "ipython3",
   "version": "3.11.7"
  }
 },
 "nbformat": 4,
 "nbformat_minor": 5
}
