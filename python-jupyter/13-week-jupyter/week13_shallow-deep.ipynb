{
 "cells": [
  {
   "cell_type": "code",
   "execution_count": 2,
   "id": "ecfa7e25-de94-45ed-bb92-c962dccce4f7",
   "metadata": {},
   "outputs": [
    {
     "name": "stdout",
     "output_type": "stream",
     "text": [
      "Eski Liste: [[10, 20.2, 30], [-40, 50, 60], [70, 80, 9.9]]\n",
      "Eski liste ID si: 3011173247680\n",
      "Yeni Liste: [[10, 20.2, 30], [-40, 50, 60], [70, 80, 9.9]]\n",
      "Yeni Liste ID si: 3011173247680\n"
     ]
    }
   ],
   "source": [
    "#referans bazlı atama\n",
    "eski_list = [[10, 20.2, 30], [-40, 50, 60], [70, 80, 'Test']]\n",
    "yeni_list = eski_list\n",
    "\n",
    "yeni_list[2][2] = 9.9 #bir değeri update işlemi\n",
    "\n",
    "print('Eski Liste:', eski_list)\n",
    "print('Eski liste ID si:', id(eski_list))\n",
    "\n",
    "print('Yeni Liste:', yeni_list)\n",
    "print('Yeni Liste ID si:', id(yeni_list))"
   ]
  },
  {
   "cell_type": "code",
   "execution_count": 3,
   "id": "14a4dc96-efdb-44ac-8f88-89939aefcd3e",
   "metadata": {},
   "outputs": [
    {
     "name": "stdout",
     "output_type": "stream",
     "text": [
      "Eski Liste: [[10, 20.2, 30], [-40, 50, 60], [70, 80, 9.9], ['Yeni liste', -67, 23]]\n",
      "Eski liste ID si: 3011173247680\n",
      "Yeni Liste: [[10, 20.2, 30], [-40, 50, 60], [70, 80, 9.9], ['Yeni liste', -67, 23]]\n",
      "Yeni Liste ID si: 3011173247680\n"
     ]
    }
   ],
   "source": [
    "#append() ile de degisir , adres bazlı atar\n",
    "yeni_list.append([\"Yeni liste\", -67, 23])\n",
    "print('Eski Liste:', eski_list)\n",
    "print('Eski liste ID si:', id(eski_list))\n",
    "\n",
    "print('Yeni Liste:', yeni_list)\n",
    "print('Yeni Liste ID si:', id(yeni_list))"
   ]
  },
  {
   "cell_type": "code",
   "execution_count": 5,
   "id": "a52b2414-04a8-46d2-bbe6-6b64165d2142",
   "metadata": {},
   "outputs": [
    {
     "name": "stdout",
     "output_type": "stream",
     "text": [
      "Eski Liste: [[10, 20.2, 30], [-40, 50, 60], [70, 80, 'Test']]\n",
      "Eski liste ID si: 3011173243584\n",
      "Eski liste 1. eleman ID si 3011173242304\n",
      "Yeni Liste: [[10, 20.2, 30], [-40, 50, 60], [70, 80, 'Test']]\n",
      "Yeni Liste ID si: 3011173242112\n",
      "Yeni liste 1. eleman ID si 3011173242304\n"
     ]
    }
   ],
   "source": [
    "#kopyalama : \n",
    "#1-Shallow and 2-Deep\n",
    "\n",
    "#shallow\n",
    "\n",
    "import copy\n",
    "\n",
    "eski_list = [[10, 20.2, 30], [-40, 50, 60], [70, 80, 'Test']]\n",
    "yeni_list = copy.copy(eski_list)\n",
    "\n",
    "print('Eski Liste:', eski_list)\n",
    "print('Eski liste ID si:', id(eski_list))\n",
    "print('Eski liste 1. eleman ID si', id(eski_list[0]))\n",
    "\n",
    "print('Yeni Liste:', yeni_list)\n",
    "print('Yeni Liste ID si:', id(yeni_list))\n",
    "print('Yeni liste 1. eleman ID si', id(yeni_list[0]))"
   ]
  },
  {
   "cell_type": "code",
   "execution_count": 6,
   "id": "81915b96-b27e-4913-abb8-0750b5f664e2",
   "metadata": {},
   "outputs": [
    {
     "name": "stdout",
     "output_type": "stream",
     "text": [
      "Eski liste: [[10, 20.2, 30], [-40, 50, 60], [70, 80, 'Test']]\n",
      "Yeni Liste: [[10, 20.2, 30], [-40, 50, 60], [70, 80, 'Test'], ['Yeni liste', -67, 23]]\n"
     ]
    }
   ],
   "source": [
    "#shallow - append()\n",
    "\n",
    "yeni_list.append([\"Yeni liste\", -67, 23])\n",
    "print('Eski liste:', eski_list)\n",
    "print('Yeni Liste:', yeni_list)"
   ]
  },
  {
   "cell_type": "code",
   "execution_count": 8,
   "id": "e9abeb5b-ff69-4749-a092-da53b1d30b79",
   "metadata": {},
   "outputs": [
    {
     "name": "stdout",
     "output_type": "stream",
     "text": [
      "Eski liste: [['Güncelleme', 20.2, 30], [-40, 50, 60], [70, 80, 'Test']]\n",
      "Yeni Liste: [['Güncelleme', 20.2, 30], [-40, 50, 60], [70, 80, 'Test'], ['Yeni liste', -67, 23]]\n"
     ]
    }
   ],
   "source": [
    "#shallow - ic adres ayni\n",
    "\n",
    "yeni_list[0][0] = \"Güncelleme\"\n",
    "print('Eski liste:', eski_list)\n",
    "print('Yeni Liste:', yeni_list)"
   ]
  },
  {
   "cell_type": "code",
   "execution_count": 9,
   "id": "ab98bbc2-232f-4f3d-b92d-4d3819b5f0e2",
   "metadata": {},
   "outputs": [
    {
     "name": "stdout",
     "output_type": "stream",
     "text": [
      "Eski Liste: [[10, 20.2, 30], [-40, 50, 60], [70, 80, 'Test']]\n",
      "Eski liste ID si: 3011173112320\n",
      "Eski liste 1. eleman ID si 3011173121920\n",
      "Yeni Liste: [[10, 20.2, 30], [-40, 50, 60], [70, 80, 'Test']]\n",
      "Yeni Liste ID si: 3011173244160\n",
      "Yeni liste 1. eleman ID si 3011173243840\n"
     ]
    }
   ],
   "source": [
    "#deep kopyalama\n",
    "\n",
    "import copy\n",
    "\n",
    "eski_list = [[10, 20.2, 30], [-40, 50, 60], [70, 80, 'Test']]\n",
    "yeni_list = copy.deepcopy(eski_list)\n",
    "\n",
    "print('Eski Liste:', eski_list)\n",
    "print('Eski liste ID si:', id(eski_list))\n",
    "print('Eski liste 1. eleman ID si', id(eski_list[0]))\n",
    "\n",
    "print('Yeni Liste:', yeni_list)\n",
    "print('Yeni Liste ID si:', id(yeni_list))\n",
    "print('Yeni liste 1. eleman ID si', id(yeni_list[0]))"
   ]
  },
  {
   "cell_type": "code",
   "execution_count": 10,
   "id": "e1877d70-38d7-4e24-a824-192577d31de8",
   "metadata": {},
   "outputs": [
    {
     "name": "stdout",
     "output_type": "stream",
     "text": [
      "Eski liste: [[10, 20.2, 30], [-40, 50, 60], [70, 80, 'Test']]\n",
      "Yeni Liste: [[10, 20.2, 30], [-40, 50, 60], [70, 80, 'Test'], ['Yeni liste', -67, 23]]\n",
      "Eski liste: [[10, 20.2, 30], [-40, 50, 60], [70, 80, 'Test']]\n",
      "Yeni Liste: [['Güncelleme', 20.2, 30], [-40, 50, 60], [70, 80, 'Test'], ['Yeni liste', -67, 23]]\n"
     ]
    }
   ],
   "source": [
    "yeni_list.append([\"Yeni liste\", -67, 23])\n",
    "print('Eski liste:', eski_list)\n",
    "print('Yeni Liste:', yeni_list)\n",
    "yeni_list[0][0] = \"Güncelleme\"\n",
    "print('Eski liste:', eski_list)\n",
    "print('Yeni Liste:', yeni_list)"
   ]
  },
  {
   "cell_type": "code",
   "execution_count": null,
   "id": "230160bf-0002-45bf-808a-c9c38dcd6d83",
   "metadata": {},
   "outputs": [],
   "source": []
  }
 ],
 "metadata": {
  "kernelspec": {
   "display_name": "Python 3 (ipykernel)",
   "language": "python",
   "name": "python3"
  },
  "language_info": {
   "codemirror_mode": {
    "name": "ipython",
    "version": 3
   },
   "file_extension": ".py",
   "mimetype": "text/x-python",
   "name": "python",
   "nbconvert_exporter": "python",
   "pygments_lexer": "ipython3",
   "version": "3.11.7"
  }
 },
 "nbformat": 4,
 "nbformat_minor": 5
}
