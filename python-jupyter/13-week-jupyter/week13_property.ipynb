{
 "cells": [
  {
   "cell_type": "code",
   "execution_count": 2,
   "id": "96f382aa-e2ba-49eb-a0b7-abcf89172857",
   "metadata": {},
   "outputs": [],
   "source": [
    "#property\n",
    "class santigrat:\n",
    "    def __init__(self, sicaklik = 0):\n",
    "        self.sicaklik = sicaklik\n",
    "\n",
    "    def fahrenhayt(self):\n",
    "        return (self.sicaklik * 1.8) + 32\n"
   ]
  },
  {
   "cell_type": "code",
   "execution_count": 3,
   "id": "ba43af59-698a-45ad-9af0-4cb748576dad",
   "metadata": {},
   "outputs": [
    {
     "name": "stdout",
     "output_type": "stream",
     "text": [
      "40\n",
      "104.0\n",
      "80\n",
      "176.0\n",
      "-40\n",
      "-40.0\n"
     ]
    }
   ],
   "source": [
    "n01 = santigrat(40)\n",
    "print(n01.sicaklik)\n",
    "print(n01.fahrenhayt())\n",
    "n01.sicaklik = 80\n",
    "print(n01.sicaklik)\n",
    "print(n01.fahrenhayt())\n",
    "\n",
    "n02 = santigrat(-40)\n",
    "print(n02.sicaklik)\n",
    "print(n02.fahrenhayt())"
   ]
  },
  {
   "cell_type": "code",
   "execution_count": 6,
   "id": "2b5a89e2-5060-4509-9259-27db7decfe29",
   "metadata": {},
   "outputs": [],
   "source": [
    "#get ve set ile cozum\n",
    "\n",
    "class santigrat:\n",
    "    def __init__(self, sicaklik = 0):\n",
    "        self.set_sicaklik(sicaklik)\n",
    "\n",
    "    def fahrenhayt(self):\n",
    "        return (self.get_sicaklik()  * 1.8) + 32\n",
    "    \n",
    "    #get bölümü\n",
    "    def get_sicaklik(self):\n",
    "        return self.__sicaklik\n",
    "\n",
    "    #set bölümü\n",
    "    def set_sicaklik(self, deger):\n",
    "        if deger < -273:\n",
    "            raise ValueError(\"Temperature below -273 is not possible\")\n",
    "        self.__sicaklik = deger"
   ]
  },
  {
   "cell_type": "code",
   "execution_count": 7,
   "id": "32328fb5-22c1-48ec-813a-19f428b7fe3f",
   "metadata": {},
   "outputs": [
    {
     "ename": "AttributeError",
     "evalue": "'santigrat' object has no attribute 'sicaklik'",
     "output_type": "error",
     "traceback": [
      "\u001b[1;31m---------------------------------------------------------------------------\u001b[0m",
      "\u001b[1;31mAttributeError\u001b[0m                            Traceback (most recent call last)",
      "Cell \u001b[1;32mIn[7], line 2\u001b[0m\n\u001b[0;32m      1\u001b[0m n03 \u001b[38;5;241m=\u001b[39m santigrat(\u001b[38;5;241m-\u001b[39m\u001b[38;5;241m40\u001b[39m)\n\u001b[1;32m----> 2\u001b[0m \u001b[38;5;28mprint\u001b[39m(n03\u001b[38;5;241m.\u001b[39msicaklik)\n\u001b[0;32m      3\u001b[0m \u001b[38;5;28mprint\u001b[39m(n03\u001b[38;5;241m.\u001b[39mfahrenhayt())\n",
      "\u001b[1;31mAttributeError\u001b[0m: 'santigrat' object has no attribute 'sicaklik'"
     ]
    }
   ],
   "source": [
    "n03 = santigrat(-40)\n",
    "print(n03.sicaklik)\n",
    "print(n03.fahrenhayt())"
   ]
  },
  {
   "cell_type": "code",
   "execution_count": 9,
   "id": "592824bd-4b61-4164-8614-4e26de2f037d",
   "metadata": {},
   "outputs": [
    {
     "name": "stdout",
     "output_type": "stream",
     "text": [
      "-40\n"
     ]
    }
   ],
   "source": [
    "#sicaklik degiskenine dogrudan erisilemez 'private'\n",
    "#encapsulation - oop\n",
    "print(n03.get_sicaklik())"
   ]
  },
  {
   "cell_type": "code",
   "execution_count": 14,
   "id": "6ceb1662-cfd8-4907-9316-33be52ebf61c",
   "metadata": {},
   "outputs": [],
   "source": [
    "#property cozumu\n",
    "#sadece property ozelligi ekle classına\n",
    "\n",
    "class santigrat:\n",
    "    def __init__(self, sicaklik = 0):\n",
    "        self.sicaklik = sicaklik \n",
    "\n",
    "    def fahrenhayt(self):\n",
    "        return (self.sicaklik * 1.8) + 32\n",
    "    \n",
    "    #get bölümü\n",
    "    def get_sicaklik(self):\n",
    "        print(\"Değer döndürülüyor\")\n",
    "        return self.__sicaklik\n",
    "\n",
    "    #set bölümü\n",
    "    def set_sicaklik(self, deger):\n",
    "        print(\"Değer alınıyor\")\n",
    "        if deger < -273:\n",
    "            raise ValueError(\"Sıcaklık 273 altı olamaz\")\n",
    "        self.__sicaklik = deger\n",
    "\n",
    "    #propety özelliği ekleniyor    \n",
    "    sicaklik = property(get_sicaklik,set_sicaklik)"
   ]
  },
  {
   "cell_type": "code",
   "execution_count": 16,
   "id": "b96267e3-6990-4bdf-a054-97ced81c8293",
   "metadata": {},
   "outputs": [
    {
     "name": "stdout",
     "output_type": "stream",
     "text": [
      "80\n",
      "40\n"
     ]
    }
   ],
   "source": [
    "#property kullanimi\n",
    "\n",
    "print(n01.sicaklik)#property get\n",
    "n01.sicaklik = 40 #property set\n",
    "print(n01.sicaklik)#property get"
   ]
  },
  {
   "cell_type": "code",
   "execution_count": 20,
   "id": "d13524d9-9812-43e5-a39e-5e6efff37eeb",
   "metadata": {},
   "outputs": [],
   "source": [
    "#property ve decorators\n",
    "class santigrat:\n",
    "    def __init__(self, sicaklik = 0):\n",
    "        self.sicaklik = sicaklik \n",
    "\n",
    "    def fahrenhayt(self):\n",
    "        return (self.sicaklik * 1.8) + 32\n",
    "    \n",
    "    @property\n",
    "    def sicaklik(self):\n",
    "        print(\"Değer döndürülüyor\")\n",
    "        return self.__sicaklik\n",
    "\n",
    "    @sicaklik.setter\n",
    "    def set_sicaklik(self, deger):\n",
    "        print(\"Değer alınıyor\")\n",
    "        if deger < -273:\n",
    "            raise ValueError(\"Sıcaklık 273 altı olamaz\")\n",
    "        self.__sicaklik = deger"
   ]
  },
  {
   "cell_type": "code",
   "execution_count": null,
   "id": "3ec7a86e-ca75-4a8e-a7da-3a815a9ddaa4",
   "metadata": {},
   "outputs": [],
   "source": []
  }
 ],
 "metadata": {
  "kernelspec": {
   "display_name": "Python 3 (ipykernel)",
   "language": "python",
   "name": "python3"
  },
  "language_info": {
   "codemirror_mode": {
    "name": "ipython",
    "version": 3
   },
   "file_extension": ".py",
   "mimetype": "text/x-python",
   "name": "python",
   "nbconvert_exporter": "python",
   "pygments_lexer": "ipython3",
   "version": "3.11.7"
  }
 },
 "nbformat": 4,
 "nbformat_minor": 5
}
