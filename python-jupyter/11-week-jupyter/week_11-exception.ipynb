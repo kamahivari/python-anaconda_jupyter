{
 "cells": [
  {
   "cell_type": "code",
   "execution_count": 1,
   "id": "0200c3c5-72b9-4f93-9528-466f862b0791",
   "metadata": {},
   "outputs": [
    {
     "ename": "IndexError",
     "evalue": "list index out of range",
     "output_type": "error",
     "traceback": [
      "\u001b[1;31m---------------------------------------------------------------------------\u001b[0m",
      "\u001b[1;31mIndexError\u001b[0m                                Traceback (most recent call last)",
      "Cell \u001b[1;32mIn[1], line 2\u001b[0m\n\u001b[0;32m      1\u001b[0m a \u001b[38;5;241m=\u001b[39m [\u001b[38;5;241m3\u001b[39m,\u001b[38;5;241m4\u001b[39m,\u001b[38;5;241m5\u001b[39m]\n\u001b[1;32m----> 2\u001b[0m a[\u001b[38;5;241m6\u001b[39m]\n",
      "\u001b[1;31mIndexError\u001b[0m: list index out of range"
     ]
    }
   ],
   "source": [
    "a = [3,4,5]\n",
    "a[6] \n",
    "# index error"
   ]
  },
  {
   "cell_type": "code",
   "execution_count": 2,
   "id": "d2d3a005-9d99-4319-b13f-6dabe349d17d",
   "metadata": {},
   "outputs": [
    {
     "name": "stdout",
     "output_type": "stream",
     "text": [
      "32.0\n",
      "451\n"
     ]
    },
    {
     "ename": "AssertionError",
     "evalue": "Mutlak sıfırdan daha soğuk!!!",
     "output_type": "error",
     "traceback": [
      "\u001b[1;31m---------------------------------------------------------------------------\u001b[0m",
      "\u001b[1;31mAssertionError\u001b[0m                            Traceback (most recent call last)",
      "Cell \u001b[1;32mIn[2], line 7\u001b[0m\n\u001b[0;32m      5\u001b[0m \u001b[38;5;28mprint\u001b[39m(KelvinToFahrenheit(\u001b[38;5;241m273\u001b[39m))\n\u001b[0;32m      6\u001b[0m \u001b[38;5;28mprint\u001b[39m(\u001b[38;5;28mint\u001b[39m(KelvinToFahrenheit(\u001b[38;5;241m505.78\u001b[39m)))\n\u001b[1;32m----> 7\u001b[0m \u001b[38;5;28mprint\u001b[39m(KelvinToFahrenheit(\u001b[38;5;241m-\u001b[39m\u001b[38;5;241m5\u001b[39m))\n",
      "Cell \u001b[1;32mIn[2], line 2\u001b[0m, in \u001b[0;36mKelvinToFahrenheit\u001b[1;34m(sicaklik)\u001b[0m\n\u001b[0;32m      1\u001b[0m \u001b[38;5;28;01mdef\u001b[39;00m \u001b[38;5;21mKelvinToFahrenheit\u001b[39m(sicaklik):\n\u001b[1;32m----> 2\u001b[0m    \u001b[38;5;28;01massert\u001b[39;00m (sicaklik \u001b[38;5;241m>\u001b[39m\u001b[38;5;241m=\u001b[39m \u001b[38;5;241m0\u001b[39m),\u001b[38;5;124m\"\u001b[39m\u001b[38;5;124mMutlak sıfırdan daha soğuk!!!\u001b[39m\u001b[38;5;124m\"\u001b[39m\n\u001b[0;32m      3\u001b[0m    \u001b[38;5;28;01mreturn\u001b[39;00m ((sicaklik\u001b[38;5;241m-\u001b[39m\u001b[38;5;241m273\u001b[39m)\u001b[38;5;241m*\u001b[39m\u001b[38;5;241m1.8\u001b[39m)\u001b[38;5;241m+\u001b[39m\u001b[38;5;241m32\u001b[39m\n",
      "\u001b[1;31mAssertionError\u001b[0m: Mutlak sıfırdan daha soğuk!!!"
     ]
    }
   ],
   "source": [
    "def KelvinToFahrenheit(sicaklik):\n",
    "   assert (sicaklik >= 0),\"Mutlak sıfırdan daha soğuk!!!\"\n",
    "   return ((sicaklik-273)*1.8)+32\n",
    "\n",
    "print(KelvinToFahrenheit(273))\n",
    "print(int(KelvinToFahrenheit(505.78)))\n",
    "print(KelvinToFahrenheit(-5)) # assert ifadesi devreye girer. Onay şartı gerçekleşmez.\n",
    "\n",
    "\n",
    "#assert\n"
   ]
  },
  {
   "cell_type": "code",
   "execution_count": 3,
   "id": "93df1a99-8baa-407a-9fe9-838bfb9dba17",
   "metadata": {},
   "outputs": [
    {
     "name": "stdout",
     "output_type": "stream",
     "text": [
      "hata\n"
     ]
    }
   ],
   "source": [
    "try:\n",
    "    a=5/0\n",
    "except:\n",
    "    print(\"hata\")\n"
   ]
  },
  {
   "cell_type": "code",
   "execution_count": 5,
   "id": "490ca0e4-0592-4214-bfd9-4f287d3e8f90",
   "metadata": {},
   "outputs": [
    {
     "name": "stdout",
     "output_type": "stream",
     "text": [
      "Dosya kapanıyor\n"
     ]
    }
   ],
   "source": [
    "#try-finally\n",
    "try:\n",
    "   fh = open(\"testfile\", \"w\")\n",
    "   try:\n",
    "      fh.write(\"Bir hata yakalama örneği!!\")\n",
    "   finally:\n",
    "      print(\"Dosya kapanıyor\")\n",
    "      fh.close()\n",
    "except IOError:\n",
    "   print(\"Bir IO hatası oluştu!!!\")"
   ]
  },
  {
   "cell_type": "code",
   "execution_count": 6,
   "id": "af7009ec-bed9-4e95-b68d-2a149adb928f",
   "metadata": {},
   "outputs": [],
   "source": [
    "#raise\n",
    "\n",
    "def fonksiyonAdi( level ):\n",
    "   if level < 1:\n",
    "      raise(\"Geçerli seviye!\", level)\n",
    "    # Aşağıdaki kod çalıştırılamaz\n",
    "    # Eğer istisna raise edilmezse\n"
   ]
  },
  {
   "cell_type": "code",
   "execution_count": 7,
   "id": "76d40353-374d-402b-9c25-f0de62dc48ba",
   "metadata": {},
   "outputs": [],
   "source": [
    "#kullanici tanimli hata\n",
    "\n",
    "class AgHatasi(RuntimeError):\n",
    "   def __init__(self, arg):\n",
    "      self.args = arg"
   ]
  },
  {
   "cell_type": "code",
   "execution_count": 8,
   "id": "091846a2-106b-4cd6-9c81-a47d42d962a4",
   "metadata": {},
   "outputs": [
    {
     "name": "stdout",
     "output_type": "stream",
     "text": [
      "('H', 'a', 't', 'a', 'l', 'ı', ' ', 'h', 'o', 's', 't', ' ', 'a', 'd', 'ı')\n"
     ]
    }
   ],
   "source": [
    "try:\n",
    "   raise AgHatasi(\"Hatalı host adı\")\n",
    "except AgHatasi as e:\n",
    "   print(e.args)"
   ]
  }
 ],
 "metadata": {
  "kernelspec": {
   "display_name": "Python 3 (ipykernel)",
   "language": "python",
   "name": "python3"
  },
  "language_info": {
   "codemirror_mode": {
    "name": "ipython",
    "version": 3
   },
   "file_extension": ".py",
   "mimetype": "text/x-python",
   "name": "python",
   "nbconvert_exporter": "python",
   "pygments_lexer": "ipython3",
   "version": "3.11.7"
  }
 },
 "nbformat": 4,
 "nbformat_minor": 5
}
