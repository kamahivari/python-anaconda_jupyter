{
 "cells": [
  {
   "cell_type": "code",
   "execution_count": 1,
   "id": "0a0069aa-8d72-42d3-a44e-a7b260a9a6d7",
   "metadata": {},
   "outputs": [],
   "source": [
    "class Ogrenci:\n",
    "    'Tüm öğrenciler için temel sınıf'\n",
    "    Ogrenci_sayisi = 0\n",
    "    \n",
    "    def __init__(self, adi, numarasi):\n",
    "        self.adi = adi\n",
    "        self.numarasi = numarasi\n",
    "        Ogrenci.Ogrenci_sayisi += 1\n",
    "        \n",
    "    def OgrenciSayisiGoster(self):\n",
    "        print(\"Toplam öğrenci: %d\" % Ogrenci.Ogrenci_sayisi)\n",
    "\n",
    "    def OgrenciGoster(self):\n",
    "        print(\"Adi : \", self.adi,  \", Numarası: \", self.numarasi)"
   ]
  },
  {
   "cell_type": "code",
   "execution_count": 2,
   "id": "db35e9b0-a545-4562-9cdb-3363def72289",
   "metadata": {},
   "outputs": [],
   "source": [
    "ogr1 = Ogrenci(\"Öğrenci1\", 1000)\n",
    "ogr2 = Ogrenci(\"Öğrenci2\", 2000)\n",
    "ogr3 = Ogrenci(\"Öğrenci3\", 3000)"
   ]
  },
  {
   "cell_type": "code",
   "execution_count": 3,
   "id": "0e3058db-f7ee-4ec0-823c-c349d997d424",
   "metadata": {},
   "outputs": [
    {
     "name": "stdout",
     "output_type": "stream",
     "text": [
      "Adi :  Öğrenci1 , Numarası:  1000\n",
      "Adi :  Öğrenci2 , Numarası:  2000\n",
      "Adi :  Öğrenci3 , Numarası:  3000\n",
      "Toplam öğrenci 3\n"
     ]
    }
   ],
   "source": [
    "ogr1.OgrenciGoster()\n",
    "ogr2.OgrenciGoster()\n",
    "ogr3.OgrenciGoster()\n",
    "print(\"Toplam öğrenci %d\" % Ogrenci.Ogrenci_sayisi)"
   ]
  },
  {
   "cell_type": "code",
   "execution_count": 17,
   "id": "e93807b2-0fee-4faa-b426-7335924fd808",
   "metadata": {},
   "outputs": [],
   "source": [
    "class Ogrenci1:\n",
    "    ogr_no=0\n",
    "    def __init__():\n",
    "        Ogrenci1.ogr_no+=1\n",
    "#static member\n",
    "\n"
   ]
  },
  {
   "cell_type": "code",
   "execution_count": 25,
   "id": "62b3b7c3-9170-4b80-b76d-fc3d4e25e80c",
   "metadata": {},
   "outputs": [],
   "source": [
    "class ogr:\n",
    "    sayi=0\n",
    "    \"ogr sinifi aciklamasi\"\n"
   ]
  },
  {
   "cell_type": "code",
   "execution_count": 21,
   "id": "af2387a5-35bb-46f3-80cf-ebac340565f2",
   "metadata": {},
   "outputs": [
    {
     "data": {
      "text/plain": [
       "'ogr sinifi aciklamasi'"
      ]
     },
     "execution_count": 21,
     "metadata": {},
     "output_type": "execute_result"
    }
   ],
   "source": [
    "ogr.__doc__"
   ]
  },
  {
   "cell_type": "code",
   "execution_count": 22,
   "id": "506445b7-2772-4857-a1e0-62adf5c5ec48",
   "metadata": {},
   "outputs": [
    {
     "data": {
      "text/plain": [
       "(object,)"
      ]
     },
     "execution_count": 22,
     "metadata": {},
     "output_type": "execute_result"
    }
   ],
   "source": [
    "ogr.__bases__"
   ]
  },
  {
   "cell_type": "code",
   "execution_count": 23,
   "id": "0478653f-b787-4119-ad8c-16f61f4c8740",
   "metadata": {},
   "outputs": [
    {
     "data": {
      "text/plain": [
       "'ogr'"
      ]
     },
     "execution_count": 23,
     "metadata": {},
     "output_type": "execute_result"
    }
   ],
   "source": [
    "ogr.__name__"
   ]
  },
  {
   "cell_type": "code",
   "execution_count": 26,
   "id": "b0c512fd-841d-4f40-897f-227a8a1154af",
   "metadata": {},
   "outputs": [
    {
     "data": {
      "text/plain": [
       "mappingproxy({'__module__': '__main__',\n",
       "              'sayi': 0,\n",
       "              '__dict__': <attribute '__dict__' of 'ogr' objects>,\n",
       "              '__weakref__': <attribute '__weakref__' of 'ogr' objects>,\n",
       "              '__doc__': None})"
      ]
     },
     "execution_count": 26,
     "metadata": {},
     "output_type": "execute_result"
    }
   ],
   "source": [
    "ogr.__dict__\n"
   ]
  },
  {
   "cell_type": "code",
   "execution_count": 27,
   "id": "66a5491e-9f9b-4756-adaf-bba7e9ac713c",
   "metadata": {},
   "outputs": [
    {
     "name": "stdout",
     "output_type": "stream",
     "text": [
      "1696355106384 1696355106384 1696355106384\n",
      "Nokta yok edildi!!!\n"
     ]
    }
   ],
   "source": [
    "#destructor \n",
    "#garbage collection\n",
    "\n",
    "class Nokta:\n",
    "    def __init__( self, x=0, y=0):\n",
    "        self.x = x\n",
    "        self.y = y\n",
    "    def __del__(self):\n",
    "        class_name = self.__class__.__name__\n",
    "        print(class_name, \"yok edildi!!!\")\n",
    "\n",
    "pt1 = Nokta()\n",
    "pt2 = pt1\n",
    "pt3 = pt1\n",
    "print(id(pt1), id(pt2), id(pt3)) # nesnelerin id'leri\n",
    "del pt1\n",
    "del pt2\n",
    "del pt3"
   ]
  },
  {
   "cell_type": "code",
   "execution_count": 28,
   "id": "0ab7fe2d-295a-487b-9861-1102e7fb3892",
   "metadata": {},
   "outputs": [
    {
     "name": "stdout",
     "output_type": "stream",
     "text": [
      "Cocuk constructor'ı çağırma\n",
      "Cocuk methotu çağırma\n",
      "Ana metotu çağırma\n",
      "Ana attribute : 200\n"
     ]
    }
   ],
   "source": [
    "#inheritance\n",
    "\n",
    "class Ana:        # ana sinif\n",
    "    AnaAttr = 100\n",
    "    def __init__(self):\n",
    "        print(\"Ana constructor'ı çağırma\")\n",
    "    \n",
    "    def AnaMethod(self):\n",
    "        print('Ana metotu çağırma')\n",
    "\n",
    "    def setAttr(self, attr):\n",
    "        Ana.AnaAttr = attr\n",
    "\n",
    "    def getAttr(self):\n",
    "        print('Ana attribute :', Ana.AnaAttr)\n",
    "\n",
    "class Cocuk(Ana): # cocuk sinif\n",
    "    def __init__(self):\n",
    "        print(\"Cocuk constructor'ı çağırma\")\n",
    "    def CocukMethod(self):\n",
    "        print('Cocuk methotu çağırma')\n",
    "\n",
    "c = Cocuk()          # Cocuk ornegi\n",
    "c.CocukMethod()      # Cocuk metodu cagirma\n",
    "c.AnaMethod()     \t # Ana'nin metodunu cagirma\n",
    "c.setAttr(200)       # Ana'nin metodunu set icin cagirma\n",
    "c.getAttr()          # Ana'nin metodunu get icin cagirma"
   ]
  },
  {
   "cell_type": "code",
   "execution_count": 29,
   "id": "80b24329-a5bb-4d09-9c6a-67dc57f5059c",
   "metadata": {},
   "outputs": [
    {
     "name": "stdout",
     "output_type": "stream",
     "text": [
      "Cocuk sınıf içindeki metodu çağırma\n"
     ]
    }
   ],
   "source": [
    "#override\n",
    "\n",
    "class Ana:        # Ana sinif tanimlama\n",
    "   def myMethod(self):\n",
    "      print('Ana sınıf içindeki metodu çağırma')\n",
    "\n",
    "class Cocuk(Ana): # Cocuk sinif tanimlama\n",
    "   def myMethod(self):\n",
    "      print('Cocuk sınıf içindeki metodu çağırma')\n",
    "\n",
    "c = Cocuk()          # Bir cocuk örnegi\n",
    "c.myMethod()         # Cocuk overridden edilmis metodu cagiriyor"
   ]
  },
  {
   "cell_type": "code",
   "execution_count": 32,
   "id": "2a33dfbb-1cce-485e-8cb7-93ade72f9020",
   "metadata": {},
   "outputs": [
    {
     "data": {
      "text/plain": [
       "<__main__.Cocuk at 0x18af68df7d0>"
      ]
     },
     "execution_count": 32,
     "metadata": {},
     "output_type": "execute_result"
    }
   ],
   "source": [
    "#__str__ = toString()\n",
    "\n",
    "c #referans to classs\n",
    "\n"
   ]
  },
  {
   "cell_type": "code",
   "execution_count": 34,
   "id": "688a392f-6609-44d0-9d0d-301b12549ea3",
   "metadata": {},
   "outputs": [],
   "source": [
    "#realpython.com examp - __Str__\n",
    "class Car:\n",
    "    def __init__(self, color, mileage):\n",
    "        self.color = color\n",
    "        self.mileage = mileage\n",
    "\n",
    "    def __str__(self):\n",
    "        return 'a {self.color} car'.format(self=self)"
   ]
  },
  {
   "cell_type": "code",
   "execution_count": 39,
   "id": "33bf2c41-c522-4bdc-8a97-7108c9078c2a",
   "metadata": {},
   "outputs": [
    {
     "data": {
      "text/plain": [
       "<__main__.Car at 0x18af6a61ed0>"
      ]
     },
     "execution_count": 39,
     "metadata": {},
     "output_type": "execute_result"
    }
   ],
   "source": [
    "a1 = Car(\"green\",212)\n",
    "a1"
   ]
  },
  {
   "cell_type": "code",
   "execution_count": 40,
   "id": "40f45f3d-a949-4f51-bf61-466b64fa4145",
   "metadata": {},
   "outputs": [
    {
     "data": {
      "text/plain": [
       "'a green car'"
      ]
     },
     "execution_count": 40,
     "metadata": {},
     "output_type": "execute_result"
    }
   ],
   "source": [
    "str(a1)"
   ]
  },
  {
   "cell_type": "code",
   "execution_count": 46,
   "id": "a1d279b2-5049-4282-acef-c6963d5f38c5",
   "metadata": {},
   "outputs": [
    {
     "name": "stdout",
     "output_type": "stream",
     "text": [
      "Vektör (7, 8)\n"
     ]
    }
   ],
   "source": [
    "#operator overloading\n",
    "\n",
    "class Vektor:\n",
    "    def __init__(self, x, y):\n",
    "        self.x = x\n",
    "        self.y = y\n",
    "        \n",
    "    def __str__(self):\n",
    "        return 'Vektör (%d, %d)' % (self.x, self.y) \n",
    "    \n",
    "    def __add__(self,other):\n",
    "        return Vektor(self.x + other.x, self.y + other.y)\n",
    "\n",
    "    \n",
    "\n",
    "v1 = Vektor(2,10)\n",
    "v2 = Vektor(5,-2)\n",
    "print(v1 + v2)"
   ]
  },
  {
   "cell_type": "code",
   "execution_count": 47,
   "id": "a46d6d71-ed45-481e-810b-4ca10892eb42",
   "metadata": {},
   "outputs": [
    {
     "name": "stdout",
     "output_type": "stream",
     "text": [
      "Vektör (7, 8)\n"
     ]
    }
   ],
   "source": [
    "v3 = v1 + v2\n",
    "print(v3)"
   ]
  },
  {
   "cell_type": "code",
   "execution_count": 48,
   "id": "fdf0f2e5-4467-4705-a245-a34fabd76b89",
   "metadata": {},
   "outputs": [
    {
     "name": "stdout",
     "output_type": "stream",
     "text": [
      "Vektör (16, 26)\n"
     ]
    }
   ],
   "source": [
    "v4 = v3 + (v2+v1) + v1\n",
    "print(v4)"
   ]
  },
  {
   "cell_type": "code",
   "execution_count": 50,
   "id": "25e5d4bb-839a-4bb5-bb69-840bd80bfb13",
   "metadata": {},
   "outputs": [
    {
     "ename": "TypeError",
     "evalue": "unsupported operand type(s) for -: 'Vektor' and 'Vektor'",
     "output_type": "error",
     "traceback": [
      "\u001b[1;31m---------------------------------------------------------------------------\u001b[0m",
      "\u001b[1;31mTypeError\u001b[0m                                 Traceback (most recent call last)",
      "Cell \u001b[1;32mIn[50], line 1\u001b[0m\n\u001b[1;32m----> 1\u001b[0m v5 \u001b[38;5;241m=\u001b[39m v4\u001b[38;5;241m-\u001b[39mv1\n\u001b[0;32m      2\u001b[0m \u001b[38;5;28mprint\u001b[39m(v5)\n",
      "\u001b[1;31mTypeError\u001b[0m: unsupported operand type(s) for -: 'Vektor' and 'Vektor'"
     ]
    }
   ],
   "source": [
    "v5 = v4-v1\n",
    "print(v5)\n",
    "#def __alt__()\n"
   ]
  },
  {
   "cell_type": "code",
   "execution_count": 52,
   "id": "240d40b7-db36-409e-9eb3-47ab9b63fec7",
   "metadata": {},
   "outputs": [
    {
     "name": "stdout",
     "output_type": "stream",
     "text": [
      "1\n",
      "2\n"
     ]
    },
    {
     "ename": "AttributeError",
     "evalue": "'Sayac' object has no attribute '__priSayac'",
     "output_type": "error",
     "traceback": [
      "\u001b[1;31m---------------------------------------------------------------------------\u001b[0m",
      "\u001b[1;31mAttributeError\u001b[0m                            Traceback (most recent call last)",
      "Cell \u001b[1;32mIn[52], line 12\u001b[0m\n\u001b[0;32m     10\u001b[0m syc\u001b[38;5;241m.\u001b[39msay()\n\u001b[0;32m     11\u001b[0m syc\u001b[38;5;241m.\u001b[39msay()\n\u001b[1;32m---> 12\u001b[0m \u001b[38;5;28mprint\u001b[39m(syc\u001b[38;5;241m.\u001b[39m__priSayac)\n",
      "\u001b[1;31mAttributeError\u001b[0m: 'Sayac' object has no attribute '__priSayac'"
     ]
    }
   ],
   "source": [
    "#veri gizleme\n",
    "class Sayac:\n",
    "    __priSayac = 0\n",
    "    \n",
    "    def say(self):\n",
    "        self.__priSayac += 1\n",
    "        print(self.__priSayac)\n",
    "\n",
    "syc = Sayac()\n",
    "syc.say()\n",
    "syc.say()\n",
    "print(syc.__priSayac)"
   ]
  }
 ],
 "metadata": {
  "kernelspec": {
   "display_name": "Python 3 (ipykernel)",
   "language": "python",
   "name": "python3"
  },
  "language_info": {
   "codemirror_mode": {
    "name": "ipython",
    "version": 3
   },
   "file_extension": ".py",
   "mimetype": "text/x-python",
   "name": "python",
   "nbconvert_exporter": "python",
   "pygments_lexer": "ipython3",
   "version": "3.11.7"
  }
 },
 "nbformat": 4,
 "nbformat_minor": 5
}
