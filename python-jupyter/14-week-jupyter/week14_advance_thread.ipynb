{
 "cells": [
  {
   "cell_type": "code",
   "execution_count": 58,
   "id": "ab2c8391-e106-4106-ae9e-29d26660c1c5",
   "metadata": {},
   "outputs": [
    {
     "name": "stdout",
     "output_type": "stream",
     "text": [
      "thread-1 çalışıyor\n",
      "thread-1 çalışıyor\n",
      "thread-1 çalışıyor\n",
      "thread-1 çalışıyor\n",
      "thread-1 çalışıyor\n",
      "thread-1 çalışıyor\n",
      "thread-1 çalışıyor\n",
      "thread-2 çalışıyor\n",
      "thread-2 çalışıyor\n",
      "thread-2 çalışıyor\n",
      "thread-2 çalışıyor\n",
      "thread-2 çalışıyor\n",
      "thread-2 çalışıyor\n",
      "thread-2 çalışıyor\n"
     ]
    },
    {
     "data": {
      "text/plain": [
       "10960"
      ]
     },
     "execution_count": 58,
     "metadata": {},
     "output_type": "execute_result"
    }
   ],
   "source": [
    "#multithreading module\n",
    "\n",
    "import _thread #_thread modülünü import ettik\n",
    "\n",
    "def f(threadName):  #threadin hedefi olan fonksiyon\n",
    "    i =0\n",
    "    \n",
    "    while i<7:\n",
    "        print(threadName ,\"çalışıyor\")\n",
    "        i=i+1\n",
    "\n",
    "_thread.start_new_thread(f,(\"thread-1\",)) #thread tanımladık ve aynı zamanda threadi start metodu ile çalıştırdık\n",
    "_thread.start_new_thread(f,(\"thread-2\",))"
   ]
  },
  {
   "cell_type": "code",
   "execution_count": 106,
   "id": "859a5c71-a024-47a6-9e5c-7bd1ecd3cb38",
   "metadata": {},
   "outputs": [
    {
     "name": "stdout",
     "output_type": "stream",
     "text": [
      "thread-1 çalışıyor\n",
      "thread-1 çalışıyor\n",
      "thread-1 çalışıyor\n",
      "thread-1 çalışıyor\n",
      "thread-1 çalışıyor\n",
      "thread-1 çalışıyor\n",
      "thread-1 çalışıyor\n",
      "thread-2 çalışıyor\n",
      "thread-2 çalışıyor\n",
      "thread-2 çalışıyor\n",
      "thread-2 çalışıyor\n",
      "thread-2 çalışıyor\n",
      "thread-2 çalışıyor\n",
      "thread-2 çalışıyor\n"
     ]
    }
   ],
   "source": [
    "#threading module\n",
    "\n",
    "import threading #threading modülünü import ettik\n",
    "\n",
    "def f(threadName): \n",
    "    i =0\n",
    "    while i<7:\n",
    "        print(threadName ,\"çalışıyor\")\n",
    "        i=i+1\n",
    "\n",
    "t1 = threading.Thread(target=f,args = (\"thread-1\", ))  #threadi tanımladık ve f fonksiyonunu hedef gösterdik\n",
    "t1.start() #threadi çalıştırdık\n",
    "t2 = threading.Thread(target=f,args = (\"thread-2\", ))\n",
    "t2.start()"
   ]
  },
  {
   "cell_type": "code",
   "execution_count": 108,
   "id": "7ced676f-05e2-4e76-ac02-24f4af5c5b95",
   "metadata": {},
   "outputs": [
    {
     "name": "stdout",
     "output_type": "stream",
     "text": [
      "Thread-1: Sat Jun 22 15:55:02 2024\n",
      "Starting Thread-1\n",
      "Starting Thread-2\n",
      "Thread-1: Sat Jun 22 15:55:03 2024\n",
      "Thread-1: Sat Jun 22 15:55:03 2024\n",
      "Thread-1: Sat Jun 22 15:55:04 2024\n",
      "Thread-1: Sat Jun 22 15:55:04 2024\n",
      "Thread-1: Sat Jun 22 15:55:05 2024\n",
      "Thread-1: Sat Jun 22 15:55:05 2024\n",
      "Thread-1: Sat Jun 22 15:55:06 2024\n",
      "Thread-1: Sat Jun 22 15:55:06 2024\n",
      "Thread-1: Sat Jun 22 15:55:07 2024\n",
      "Thread-2: Sat Jun 22 15:55:08 2024\n",
      "Thread-1: Sat Jun 22 15:55:08 2024\n",
      "Thread-1: Sat Jun 22 15:55:09 2024\n",
      "Thread-2: Sat Jun 22 15:55:10 2024\n",
      "Thread-1: Sat Jun 22 15:55:10 2024\n",
      "Thread-1: Sat Jun 22 15:55:11 2024\n",
      "Thread-2: Sat Jun 22 15:55:12 2024\n",
      "Thread-1: Sat Jun 22 15:55:12 2024\n",
      "Thread-2: Sat Jun 22 15:55:14 2024\n",
      "Thread-2: Sat Jun 22 15:55:16 2024\n",
      "Thread-2: Sat Jun 22 15:55:18 2024\n",
      "Thread-2: Sat Jun 22 15:55:20 2024\n",
      "Thread-2: Sat Jun 22 15:55:22 2024\n",
      "Thread-2: Sat Jun 22 15:55:24 2024\n"
     ]
    },
    {
     "name": "stderr",
     "output_type": "stream",
     "text": [
      "Exception in thread Thread-2:\n",
      "Traceback (most recent call last):\n",
      "  File \"C:\\Users\\Onur\\anaconda3\\Lib\\threading.py\", line 1045, in _bootstrap_inner\n",
      "    self.run()\n",
      "  File \"C:\\Users\\Onur\\AppData\\Local\\Temp\\ipykernel_11016\\2204037420.py\", line 17, in run\n",
      "RuntimeError: release unlocked lock\n"
     ]
    },
    {
     "name": "stdout",
     "output_type": "stream",
     "text": [
      "Thread-2: Sat Jun 22 15:55:26 2024\n"
     ]
    }
   ],
   "source": [
    "#thread senkronizasyon\n",
    "\n",
    "import threading\n",
    "import time\n",
    "\n",
    "class myThread (threading.Thread):\n",
    "    def __init__(self, threadID, name, counter):\n",
    "        threading.Thread.__init__(self)\n",
    "        self.threadID = threadID\n",
    "        self.name = name\n",
    "        self.counter = counter\n",
    "        \n",
    "    def run(self):\n",
    "        print (\"Starting \" + self.name)\n",
    "        threadLock.acquire() #threadleri senkronize etmek için kilitledik\n",
    "        print_time(self.name, self.counter, 10)\n",
    "        threadLock.release() # kiliti açtık\n",
    "\n",
    "def print_time(threadName, beklemeSuresi, counter):\n",
    "    while counter:\n",
    "        time.sleep(beklemeSuresi)\n",
    "        print (\"%s: %s\" % (threadName, time.ctime(time.time())))\n",
    "        counter -= 1\n",
    "\n",
    "threadLock = threading.Lock()\n",
    "threads = []\n",
    "\n",
    "thread1 = myThread(1, \"Thread-1\", 1) #thread oluşturduk\n",
    "thread2 = myThread(2, \"Thread-2\", 2)\n",
    "\n",
    "thread1.start() # threadleri çalıştırmaya başladık\n",
    "thread2.start()"
   ]
  },
  {
   "cell_type": "code",
   "execution_count": null,
   "id": "dbc8b713-f9bb-497d-99a9-e562eb9b83f5",
   "metadata": {},
   "outputs": [],
   "source": []
  }
 ],
 "metadata": {
  "kernelspec": {
   "display_name": "Python 3 (ipykernel)",
   "language": "python",
   "name": "python3"
  },
  "language_info": {
   "codemirror_mode": {
    "name": "ipython",
    "version": 3
   },
   "file_extension": ".py",
   "mimetype": "text/x-python",
   "name": "python",
   "nbconvert_exporter": "python",
   "pygments_lexer": "ipython3",
   "version": "3.11.7"
  }
 },
 "nbformat": 4,
 "nbformat_minor": 5
}
