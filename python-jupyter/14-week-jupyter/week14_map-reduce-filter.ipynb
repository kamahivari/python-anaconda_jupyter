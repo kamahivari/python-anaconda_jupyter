{
 "cells": [
  {
   "cell_type": "code",
   "execution_count": 1,
   "id": "dd98cb4e-bcd1-46d2-8ff7-8730802b4c3d",
   "metadata": {},
   "outputs": [
    {
     "name": "stdout",
     "output_type": "stream",
     "text": [
      "[1, 2, 3, 4, 5]\n",
      "[1, 4, 9, 16, 25]\n"
     ]
    }
   ],
   "source": [
    "l = [1, 2, 3, 4, 5]\n",
    "l_karesi = []\n",
    "for i in l:\n",
    "    l_karesi.append(i**2)\n",
    "\n",
    "print(l)\n",
    "print(l_karesi)"
   ]
  },
  {
   "cell_type": "code",
   "execution_count": 2,
   "id": "76b20a03-56f5-4734-b48b-bfc90e70e142",
   "metadata": {},
   "outputs": [],
   "source": [
    "# Map\n",
    "\n",
    "l_karesi2 = map(lambda x : x*x,l)\n"
   ]
  },
  {
   "cell_type": "code",
   "execution_count": 6,
   "id": "e794c03c-df2e-4560-bad6-cb2358d51795",
   "metadata": {},
   "outputs": [
    {
     "name": "stdout",
     "output_type": "stream",
     "text": [
      "<map object at 0x000002340DBC7B20>\n"
     ]
    }
   ],
   "source": [
    "print(l_karesi2)\n",
    "#map objesi doner ve iterator ile alabilirsin bunu\n",
    "#list cevirmek gerekiyor\n",
    "\n"
   ]
  },
  {
   "cell_type": "code",
   "execution_count": 9,
   "id": "a45e40b8-65de-466c-8693-34e88b4cd0dd",
   "metadata": {},
   "outputs": [
    {
     "name": "stdout",
     "output_type": "stream",
     "text": [
      "[1, 4, 9, 16, 25]\n"
     ]
    }
   ],
   "source": [
    "l_karesi3=list(map(lambda x:x*x,l))\n",
    "print(l_karesi3)"
   ]
  },
  {
   "cell_type": "code",
   "execution_count": 10,
   "id": "24abe545-23c0-4c0a-b2fe-047fdb70e49f",
   "metadata": {},
   "outputs": [],
   "source": [
    "#isimsiz func yerine normal bir fonk verilebilir\n",
    "\n",
    "def kareal(x):\n",
    "    return x**2\n"
   ]
  },
  {
   "cell_type": "code",
   "execution_count": 11,
   "id": "a13b00d4-175b-458c-9196-910f64c7fbd8",
   "metadata": {},
   "outputs": [],
   "source": [
    "l_karesi4=list(map(kareal,l))"
   ]
  },
  {
   "cell_type": "code",
   "execution_count": 12,
   "id": "be59ce42-c216-4988-aedb-eb58484765fb",
   "metadata": {},
   "outputs": [
    {
     "name": "stdout",
     "output_type": "stream",
     "text": [
      "[1, 4, 9, 16, 25]\n"
     ]
    }
   ],
   "source": [
    "print(l_karesi4)"
   ]
  },
  {
   "cell_type": "code",
   "execution_count": 13,
   "id": "6edb816f-27e6-4283-977b-c9a7d1612ce7",
   "metadata": {},
   "outputs": [
    {
     "name": "stdout",
     "output_type": "stream",
     "text": [
      "[0, 0]\n",
      "[1, 2]\n",
      "[4, 4]\n",
      "[9, 6]\n",
      "[16, 8]\n"
     ]
    }
   ],
   "source": [
    "#map-examp\n",
    "\n",
    "def carpma(x):\n",
    "    return (x*x)\n",
    "def toplama(x):\n",
    "    return (x+x)\n",
    "\n",
    "fonks = [carpma, toplama]\n",
    "for i in range(5):\n",
    "    deger = list(map(lambda x: x(i), fonks))\n",
    "    print(deger)\n"
   ]
  },
  {
   "cell_type": "code",
   "execution_count": 14,
   "id": "a830a2e4-74ec-4286-b202-c61a1cdbbe6c",
   "metadata": {},
   "outputs": [
    {
     "name": "stdout",
     "output_type": "stream",
     "text": [
      "[-5, -4, -3, -2, -1, 0, 1, 2, 3, 4]\n",
      "[1, 2, 3, 4]\n"
     ]
    }
   ],
   "source": [
    "#filter\n",
    "\n",
    "l = list(range(-5, 5))\n",
    "print(l)\n",
    "sifirdanbuyuk_l = list(filter(lambda x: x > 0, l))\n",
    "print(sifirdanbuyuk_l)"
   ]
  },
  {
   "cell_type": "code",
   "execution_count": 15,
   "id": "443a1018-a21d-4139-b4af-e3688af6543d",
   "metadata": {},
   "outputs": [
    {
     "name": "stdout",
     "output_type": "stream",
     "text": [
      "<filter object at 0x000002340DBC7160>\n"
     ]
    }
   ],
   "source": [
    "#iteratif deger doner yine\n",
    "sifirdanbuyuk_l = filter(lambda x: x > 0, l)\n",
    "print(sifirdanbuyuk_l)"
   ]
  },
  {
   "cell_type": "code",
   "execution_count": 17,
   "id": "c53a77d1-dc72-4e35-8739-ea18797a5864",
   "metadata": {},
   "outputs": [
    {
     "name": "stdout",
     "output_type": "stream",
     "text": [
      "[1, 2, 3, 4]\n"
     ]
    }
   ],
   "source": [
    "def buyuk(x):\n",
    "    if x>0:\n",
    "        return True\n",
    "    else:\n",
    "        return False\n",
    "\n",
    "buyukmu = list(filter(buyuk,l))\n",
    "print(buyukmu)"
   ]
  },
  {
   "cell_type": "code",
   "execution_count": 19,
   "id": "34826070-2429-4bfd-98dd-fa6962c2812d",
   "metadata": {},
   "outputs": [
    {
     "name": "stdout",
     "output_type": "stream",
     "text": [
      "720\n"
     ]
    }
   ],
   "source": [
    "#reduce\n",
    "\n",
    "sonuc = 1\n",
    "l = [1, 2, 3, 4, 5, 6]\n",
    "for oge in l:\n",
    "    sonuc *= oge\n",
    "\n",
    "print(sonuc)"
   ]
  },
  {
   "cell_type": "code",
   "execution_count": 21,
   "id": "02994e56-8013-4302-9551-12eef408e648",
   "metadata": {},
   "outputs": [
    {
     "name": "stdout",
     "output_type": "stream",
     "text": [
      "720\n"
     ]
    }
   ],
   "source": [
    "from functools import reduce\n",
    "l = [1, 2, 3, 4, 5, 6]\n",
    "sonuc = reduce((lambda x, y: x * y), l)\n",
    "print(sonuc)"
   ]
  }
 ],
 "metadata": {
  "kernelspec": {
   "display_name": "Python 3 (ipykernel)",
   "language": "python",
   "name": "python3"
  },
  "language_info": {
   "codemirror_mode": {
    "name": "ipython",
    "version": 3
   },
   "file_extension": ".py",
   "mimetype": "text/x-python",
   "name": "python",
   "nbconvert_exporter": "python",
   "pygments_lexer": "ipython3",
   "version": "3.11.7"
  }
 },
 "nbformat": 4,
 "nbformat_minor": 5
}
