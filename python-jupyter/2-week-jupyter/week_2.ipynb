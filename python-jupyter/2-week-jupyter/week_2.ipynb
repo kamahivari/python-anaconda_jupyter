{
 "cells": [
  {
   "cell_type": "code",
   "execution_count": 1,
   "id": "ae048fe1-363b-4738-aedc-73fe51063249",
   "metadata": {},
   "outputs": [
    {
     "name": "stdout",
     "output_type": "stream",
     "text": [
      "<class 'str'>\n"
     ]
    }
   ],
   "source": [
    "sayac=100\n",
    "ad=\"Onur\"\n",
    "noktalı=100.0\n",
    "print(type(ad))"
   ]
  },
  {
   "cell_type": "code",
   "execution_count": 2,
   "id": "6db7d9fe-9369-4baa-9a81-65c77e79b2fa",
   "metadata": {},
   "outputs": [
    {
     "name": "stdout",
     "output_type": "stream",
     "text": [
      "100 100 100\n"
     ]
    }
   ],
   "source": [
    "d1=d2=d3=100\n",
    "print(d1,d2,d3)"
   ]
  },
  {
   "cell_type": "code",
   "execution_count": 3,
   "id": "1749df92-5163-4207-aebb-3fa0cfae9b0c",
   "metadata": {},
   "outputs": [
    {
     "name": "stdout",
     "output_type": "stream",
     "text": [
      "10 20 30\n"
     ]
    }
   ],
   "source": [
    "x1,x2,x3=10,20,30\n",
    "print(x1,x2,x3)"
   ]
  },
  {
   "cell_type": "code",
   "execution_count": 4,
   "id": "6ee79b26-efaf-4063-a9dd-3b3d209b3b7a",
   "metadata": {},
   "outputs": [
    {
     "name": "stdout",
     "output_type": "stream",
     "text": [
      "140733719564168 140733719564168\n"
     ]
    }
   ],
   "source": [
    "degisken1=100\n",
    "degisken2=100\n",
    "print(id(degisken1),id(degisken2))"
   ]
  },
  {
   "cell_type": "code",
   "execution_count": 5,
   "id": "5dcf0367-f524-46ad-949d-a67df24c6847",
   "metadata": {},
   "outputs": [
    {
     "name": "stdout",
     "output_type": "stream",
     "text": [
      "100 140733719564168 <class 'int'>\n"
     ]
    }
   ],
   "source": [
    "deg1=100\n",
    "print(deg1,id(deg1),type(deg1))"
   ]
  },
  {
   "cell_type": "code",
   "execution_count": 14,
   "id": "e5433939-486a-4862-96c6-757ab8a59219",
   "metadata": {},
   "outputs": [
    {
     "name": "stdout",
     "output_type": "stream",
     "text": [
      "70\n"
     ]
    }
   ],
   "source": [
    "a=20\n",
    "b=50\n",
    "print(a+b)"
   ]
  },
  {
   "cell_type": "code",
   "execution_count": 16,
   "id": "de02e33b-ae33-4830-9a5b-24946b29d9d4",
   "metadata": {},
   "outputs": [
    {
     "ename": "NameError",
     "evalue": "name 'a' is not defined",
     "output_type": "error",
     "traceback": [
      "\u001b[1;31m---------------------------------------------------------------------------\u001b[0m",
      "\u001b[1;31mNameError\u001b[0m                                 Traceback (most recent call last)",
      "Cell \u001b[1;32mIn[16], line 1\u001b[0m\n\u001b[1;32m----> 1\u001b[0m \u001b[38;5;28;01mdel\u001b[39;00m a\n\u001b[0;32m      2\u001b[0m \u001b[38;5;28mprint\u001b[39m(a\u001b[38;5;241m+\u001b[39mb)\n",
      "\u001b[1;31mNameError\u001b[0m: name 'a' is not defined"
     ]
    }
   ],
   "source": [
    "del a\n",
    "print(a+b)"
   ]
  },
  {
   "cell_type": "code",
   "execution_count": 21,
   "id": "5295d733-fd2a-449e-8be5-27eaa3a041eb",
   "metadata": {},
   "outputs": [
    {
     "name": "stdout",
     "output_type": "stream",
     "text": [
      "P\n",
      "Python Dünyası\n",
      "Python\n",
      "Python Python \n"
     ]
    }
   ],
   "source": [
    "merhaba=\"Merhaba Python Dünyası\"\n",
    "print(merhaba[8])\n",
    "print(merhaba[8:])\n",
    "print(merhaba[8:14])\n",
    "print((merhaba[8:14]+\" \")*2)"
   ]
  },
  {
   "cell_type": "code",
   "execution_count": 24,
   "id": "b5d4349f-253c-4f7f-816a-f37337cc9ba3",
   "metadata": {},
   "outputs": [
    {
     "name": "stdout",
     "output_type": "stream",
     "text": [
      "1523568048256\n",
      "1523568035120 1523568296144\n",
      "['abcd', 786, 2.23, 'Çorlu', 70.2]\n",
      "abcd\n",
      "[786, 2.23]\n",
      "[2.23, 'Çorlu', 70.2]\n",
      "[123, 'Merhaba', 123, 'Merhaba']\n",
      "['abcd', 786, 2.23, 'Çorlu', 70.2, 123, 'Merhaba']\n"
     ]
    }
   ],
   "source": [
    "list1 = [ 'abcd', 786 , 2.23, 'Çorlu', 70.2 ]\n",
    "list2 = [123, 'Merhaba']\n",
    "print(id(list1))\n",
    "print(id(list1[0]),id(list1[1]))\n",
    "print(list1)          # Tüm listeyi yazar\n",
    "print(list1[0])       # İlk öğeyi yazar\n",
    "print(list1[1:3])     # 2. öğe ile 3. öğeyi yazar\n",
    "print(list1[2:])      # 3. öğeden sonrasını yazar\n",
    "print(list2 * 2)  # İki kere yazar\n",
    "print(list1 + list2) # İki listeyi birleştirir"
   ]
  },
  {
   "cell_type": "code",
   "execution_count": 28,
   "id": "d9e1e318-b560-4b17-a32d-c43464098fc1",
   "metadata": {},
   "outputs": [
    {
     "name": "stdout",
     "output_type": "stream",
     "text": [
      "['abcd', 786, 2.23, 'Çorlu', 70.2]\n",
      "('abcd', 786, 2.23, 'Çorlu', 70.2)\n",
      "abcd\n",
      "(786, 2.23)\n",
      "(2.23, 'Çorlu', 70.2)\n",
      "(123, 'Merhaba', 123, 'Merhaba')\n",
      "('abcd', 786, 2.23, 'Çorlu', 70.2, 123, 'Merhaba')\n"
     ]
    }
   ],
   "source": [
    "tuple1 = ('abcd', 786 , 2.23, 'Çorlu', 70.2)\n",
    "#tuple1[0] = \"merhaba\"\n",
    "print(list1)\n",
    "\n",
    "tuple1 = ('abcd', 786 , 2.23, 'Çorlu', 70.2)\n",
    "tuple2 = (123, 'Merhaba')\n",
    "print(tuple1)          # Tüm tuple öğelerini yazar\n",
    "print(tuple1[0])       # İlk öğeyi yazar\n",
    "print(tuple1[1:3])     # 2. öğe ile 3. öğeyi yazar\n",
    "print(tuple1[2:])      # 3. öğeden sonrasını yazar\n",
    "print(tuple2 * 2)  # İki kere yazar\n",
    "print(tuple1 + tuple2) # İki tupleyi birleştirir\n"
   ]
  },
  {
   "cell_type": "code",
   "execution_count": 29,
   "id": "893f46e6-f140-4af5-a9b3-daca1defedf4",
   "metadata": {},
   "outputs": [
    {
     "name": "stdout",
     "output_type": "stream",
     "text": [
      "{'key01': 100, 'key02': 'onur', 'key03': ['abcd', 786, 2.23, 'Çorlu', 70.2], 'key04': ('abcd', 786, 2.23, 'Çorlu', 70.2)}\n"
     ]
    }
   ],
   "source": [
    "dict1 = {}\n",
    "dict1[\"key01\"]=100\n",
    "dict1[\"key02\"]=\"onur\"\n",
    "dict1[\"key03\"]=[ 'abcd', 786 , 2.23, 'Çorlu', 70.2 ]\n",
    "dict1[\"key04\"]= ('abcd', 786 , 2.23, 'Çorlu', 70.2)\n",
    "print(dict1)"
   ]
  },
  {
   "cell_type": "code",
   "execution_count": 38,
   "id": "30e4731b-0181-4cd5-9858-0a317641fa91",
   "metadata": {},
   "outputs": [
    {
     "name": "stdout",
     "output_type": "stream",
     "text": [
      "100\n",
      "['merhaba', 786, 2.23, 'Çorlu', 70.2]\n",
      "{'key01': 100, 'key02': 'onur', 'key03': ['merhaba', 786, 2.23, 'Çorlu', 70.2], 'key04': ('abcd', 786, 2.23, 'Çorlu', 70.2)}\n",
      "1523555000512 1523555000512\n"
     ]
    }
   ],
   "source": [
    "print(dict1[\"key01\"])\n",
    "x=dict1[\"key03\"]\n",
    "x[0]=\"merhaba\"\n",
    "print(x)\n",
    "print(dict1)\n",
    "print(id(dict1[\"key03\"]),id(x))"
   ]
  },
  {
   "cell_type": "code",
   "execution_count": 42,
   "id": "55893821-12a6-4769-83ce-6d5b5ce34ac4",
   "metadata": {},
   "outputs": [
    {
     "name": "stdout",
     "output_type": "stream",
     "text": [
      "{'key01': {'name': 'Çorlu', 'code': 5901, 'dept': 'Bilgisayar Mühendisliği'}, 'key02': 'onur', 'key03': ['merhaba', 786, 2.23, 'Çorlu', 70.2], 'key04': ('abcd', 786, 2.23, 'Çorlu', 70.2)}\n",
      "dict_keys(['key01', 'key02', 'key03', 'key04'])\n",
      "dict_values([{'name': 'Çorlu', 'code': 5901, 'dept': 'Bilgisayar Mühendisliği'}, 'onur', ['merhaba', 786, 2.23, 'Çorlu', 70.2], ('abcd', 786, 2.23, 'Çorlu', 70.2)])\n"
     ]
    }
   ],
   "source": [
    "dict2 = {'name': 'Çorlu','code':5901, 'dept': 'Bilgisayar Mühendisliği'}\n",
    "dict1[\"key01\"]=dict2\n",
    "print(dict1)\n",
    "print(dict1.keys())\n",
    "print(dict1.values())\n"
   ]
  },
  {
   "cell_type": "code",
   "execution_count": 53,
   "id": "353ef8b3-a1c1-4887-8a12-d6e772d56930",
   "metadata": {},
   "outputs": [
    {
     "name": "stdout",
     "output_type": "stream",
     "text": [
      "['key01', 'key02', 'key03', 'key04']\n",
      "key02\n",
      "20\n",
      "<class 'str'>\n",
      "<class 'int'>\n",
      "0x78\n"
     ]
    }
   ],
   "source": [
    "#Veri dönüşümleri\n",
    "l = list(dict1.keys())\n",
    "print(l)\n",
    "print(l[1])\n",
    "#integer dönüsüm\n",
    "metin = \"10\"\n",
    "print(int(metin)*2)\n",
    "print(type(metin))\n",
    "print(type(int(metin)*2))\n",
    "#hex çevrim\n",
    "print(hex(120))"
   ]
  }
 ],
 "metadata": {
  "kernelspec": {
   "display_name": "Python 3 (ipykernel)",
   "language": "python",
   "name": "python3"
  },
  "language_info": {
   "codemirror_mode": {
    "name": "ipython",
    "version": 3
   },
   "file_extension": ".py",
   "mimetype": "text/x-python",
   "name": "python",
   "nbconvert_exporter": "python",
   "pygments_lexer": "ipython3",
   "version": "3.11.7"
  }
 },
 "nbformat": 4,
 "nbformat_minor": 5
}
