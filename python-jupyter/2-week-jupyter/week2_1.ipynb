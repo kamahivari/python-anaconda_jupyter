{
 "cells": [
  {
   "cell_type": "code",
   "execution_count": 1,
   "id": "2cb0cdc6-5234-4df3-bc77-dccc9d242ab6",
   "metadata": {},
   "outputs": [
    {
     "name": "stdout",
     "output_type": "stream",
     "text": [
      "56\n",
      "11\n",
      "56\n",
      "5 6\n"
     ]
    }
   ],
   "source": [
    "#BÖLÜM-4 \n",
    "#Temel Operatörler\n",
    "\n",
    "print(\"5\"+\"6\")\n",
    "print (5 + 6)\n",
    "print(\"5\"+ str(6) )\n",
    "print(\"5\",6)"
   ]
  },
  {
   "cell_type": "code",
   "execution_count": 2,
   "id": "627e5d5c-6586-4aec-9262-856b673a3017",
   "metadata": {},
   "outputs": [
    {
     "name": "stdout",
     "output_type": "stream",
     "text": [
      "[1, 2, 3, 4, 2, 5, 6, '6']\n"
     ]
    }
   ],
   "source": [
    "l1=[1,2,3,4]\n",
    "l2=[2,5,6,\"6\"]\n",
    "l3 = l1 + l2\n",
    "print(l3)"
   ]
  },
  {
   "cell_type": "code",
   "execution_count": 5,
   "id": "8fa1f0fd-44de-43ca-b74d-a9e1ca017176",
   "metadata": {},
   "outputs": [
    {
     "name": "stdout",
     "output_type": "stream",
     "text": [
      "10\n",
      "[2, 5, 6, '6', '9']\n",
      "True\n"
     ]
    }
   ],
   "source": [
    "#print(l1+\"9\") #hata verir\n",
    "#liste elemanları toplama sum() function\n",
    "print(sum(l1))\n",
    "#print(sum(l2)) #liste integer olmalı tamamen\n",
    "print(l2+[\"9\"])\n",
    "print(5<10)\n"
   ]
  },
  {
   "cell_type": "code",
   "execution_count": 7,
   "id": "aa9de4d6-3e8b-4287-9151-cd46924e8c6a",
   "metadata": {},
   "outputs": [
    {
     "name": "stdout",
     "output_type": "stream",
     "text": [
      "140733719561288\n"
     ]
    }
   ],
   "source": [
    "a=10\n",
    "print(id(a))"
   ]
  },
  {
   "cell_type": "code",
   "execution_count": 8,
   "id": "6a9ebe4a-e236-4509-a8d7-ae810c19193a",
   "metadata": {},
   "outputs": [
    {
     "name": "stdout",
     "output_type": "stream",
     "text": [
      "15 140733719561448\n"
     ]
    }
   ],
   "source": [
    "a+=5\n",
    "print(a,id(a))\n"
   ]
  },
  {
   "cell_type": "code",
   "execution_count": 9,
   "id": "5749e939-6068-4cf3-a4d3-83213619661e",
   "metadata": {},
   "outputs": [
    {
     "name": "stdout",
     "output_type": "stream",
     "text": [
      "True\n"
     ]
    }
   ],
   "source": [
    "print(4<5 or 5>2 or 10<2)"
   ]
  },
  {
   "cell_type": "code",
   "execution_count": 15,
   "id": "9754f0e4-f157-46de-b5ca-58756df93e8a",
   "metadata": {},
   "outputs": [
    {
     "name": "stdout",
     "output_type": "stream",
     "text": [
      "[['15', 3], ['15', 3]]\n",
      "False\n",
      "True\n"
     ]
    }
   ],
   "source": [
    "print(l3)\n",
    "print(3 in l3)\n",
    "l3 = l3 + [[\"15\",3]]\n",
    "print([\"15\",3] in l3)"
   ]
  },
  {
   "cell_type": "code",
   "execution_count": 17,
   "id": "fe4300c5-e4bb-4b70-83aa-30295a947344",
   "metadata": {},
   "outputs": [
    {
     "name": "stdout",
     "output_type": "stream",
     "text": [
      "True\n",
      "True\n",
      "True\n"
     ]
    }
   ],
   "source": [
    "print(\"mer\" in \"merhaba\")\n",
    "x=y=100\n",
    "print(id(x)==id(y))\n",
    "print(x is y)"
   ]
  },
  {
   "cell_type": "code",
   "execution_count": 18,
   "id": "e023ee76-325e-4cd3-bee5-6771e7ce1a7e",
   "metadata": {},
   "outputs": [
    {
     "name": "stdout",
     "output_type": "stream",
     "text": [
      "if ici\n",
      "True\n",
      "son\n",
      "if dısı\n"
     ]
    }
   ],
   "source": [
    "#Condition\n",
    "\n",
    "if (10>2):\n",
    "    print(\"if ici\")\n",
    "    print(10>2)\n",
    "    print(\"son\")\n",
    "print(\"if dısı\")"
   ]
  },
  {
   "cell_type": "code",
   "execution_count": 20,
   "id": "bc4a4409-2fa8-4617-b98e-45dd6b6f06cf",
   "metadata": {},
   "outputs": [
    {
     "name": "stdout",
     "output_type": "stream",
     "text": [
      "5\n"
     ]
    }
   ],
   "source": [
    "durum=5\n",
    "\n",
    "if(durum==1):\n",
    "    print(1)\n",
    "if(durum==2):\n",
    "    print(2)\n",
    "if(durum==3):\n",
    "    print(3)\n",
    "if(durum==4):\n",
    "    print(4)\n",
    "if(durum==5):\n",
    "    print(5)"
   ]
  },
  {
   "cell_type": "code",
   "execution_count": 22,
   "id": "06e8ba54-302a-4753-ab92-7551ccb1fb47",
   "metadata": {},
   "outputs": [
    {
     "name": "stdout",
     "output_type": "stream",
     "text": [
      "5\n"
     ]
    }
   ],
   "source": [
    "if(durum==5):\n",
    "    print(5)\n",
    "elif(durum==4):\n",
    "    print(4)\n",
    "elif(durum==3):\n",
    "    print(3)\n",
    "elif(durum==2):\n",
    "    print(2)\n",
    "elif(durum==1):\n",
    "    print(1)"
   ]
  },
  {
   "cell_type": "code",
   "execution_count": 23,
   "id": "dfbd0fdd-b350-4916-a3af-16a779ba7a52",
   "metadata": {},
   "outputs": [
    {
     "name": "stdout",
     "output_type": "stream",
     "text": [
      "Değer 100'den küçük\n",
      "Değer 100\n",
      "Bye!\n"
     ]
    }
   ],
   "source": [
    "var = 100\n",
    "if var < 200:\n",
    "   print(\"Değer 100'den küçük\")\n",
    "   if var == 150:\n",
    "      print(\"Değer 150\")\n",
    "   elif var == 100:\n",
    "      print(\"Değer 100\")\n",
    "   elif var == 50:\n",
    "      print(\"Değer 50\")\n",
    "   elif var < 50:\n",
    "      print(\"Değer 50'den küçük\")\n",
    "else:\n",
    "   print(\"Değer 100'den büyük\")\n",
    "\n",
    "print(\"Bye!\")"
   ]
  },
  {
   "cell_type": "code",
   "execution_count": 26,
   "id": "e08adfba-cd54-45f1-be03-d4b0c1784be1",
   "metadata": {},
   "outputs": [
    {
     "name": "stdout",
     "output_type": "stream",
     "text": [
      "Değer 100\n",
      "Bye!\n"
     ]
    }
   ],
   "source": [
    "var = 100\n",
    "if ( var == 100 ) : print(\"Değer 100\")\n",
    "print(\"Bye!\")\n"
   ]
  }
 ],
 "metadata": {
  "kernelspec": {
   "display_name": "Python 3 (ipykernel)",
   "language": "python",
   "name": "python3"
  },
  "language_info": {
   "codemirror_mode": {
    "name": "ipython",
    "version": 3
   },
   "file_extension": ".py",
   "mimetype": "text/x-python",
   "name": "python",
   "nbconvert_exporter": "python",
   "pygments_lexer": "ipython3",
   "version": "3.11.7"
  }
 },
 "nbformat": 4,
 "nbformat_minor": 5
}
