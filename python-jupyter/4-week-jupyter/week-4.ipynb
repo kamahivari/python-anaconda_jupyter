{
 "cells": [
  {
   "cell_type": "code",
   "execution_count": 1,
   "id": "5458d143-7ff5-4c47-92bb-659b1d750ad5",
   "metadata": {},
   "outputs": [
    {
     "name": "stdout",
     "output_type": "stream",
     "text": [
      "['physics', 'chemistry', 1997, 2000]\n",
      "list1[0]:  physics\n",
      "list1[1]:  2\n",
      "list2[1:5]:  [2, 3, 4, 5]\n",
      "list1[-2]:  1997\n"
     ]
    }
   ],
   "source": [
    "#07.3 : List\n",
    "list1 = ['physics', 'chemistry', 1997, 2000]\n",
    "list2 = [1, 2, 3, 4, 5, 6, 7 ]\n",
    "print(list1)\n",
    "print(\"list1[0]: \", list1[0])\n",
    "print(\"list1[1]: \", list2[1])\n",
    "print(\"list2[1:5]: \", list2[1:5])\n",
    "#print(\"list1[9]:\", list2[9]) #index out of range hatası alınır.\n",
    "print(\"list1[-2]: \", list1[-2])"
   ]
  },
  {
   "cell_type": "code",
   "execution_count": 7,
   "id": "feedafda-17d8-48d5-8bba-9902c3a6a148",
   "metadata": {},
   "outputs": [
    {
     "name": "stdout",
     "output_type": "stream",
     "text": [
      "Mevcut veri index 2 : \n",
      "1997\n",
      "Yeni veri index 2 : \n",
      "2001\n",
      "['physics', 'chemistry', 2001, 2000, 57.12]\n",
      "['physics', 'chemistry', 2001, 2000, 57.12, [1, 2, 3, 4, 5, 6, 7]]\n",
      "['physics', 'chemistry', 2001, 2000, 57.12]\n"
     ]
    }
   ],
   "source": [
    "list1 = ['physics', 'chemistry', 1997, 2000]\n",
    "print(\"Mevcut veri index 2 : \")\n",
    "print(list1[2])\n",
    "list1[2] = 2001; #güncelleme satırı\n",
    "print(\"Yeni veri index 2 : \")\n",
    "print(list1[2])\n",
    "list1.append(57.12)\n",
    "print(list1)\n",
    "list1.append(list2)\n",
    "print(list1)\n",
    "del list1[5]\n",
    "print(list1)"
   ]
  },
  {
   "cell_type": "code",
   "execution_count": 10,
   "id": "b4132d12-dd53-40d4-a7c7-8a1e877adbfb",
   "metadata": {},
   "outputs": [
    {
     "data": {
      "text/plain": [
       "5"
      ]
     },
     "execution_count": 10,
     "metadata": {},
     "output_type": "execute_result"
    }
   ],
   "source": [
    "len(list1)\n"
   ]
  },
  {
   "cell_type": "code",
   "execution_count": 11,
   "id": "a31a6db2-7220-4207-bf72-40e9307a6275",
   "metadata": {},
   "outputs": [
    {
     "name": "stdout",
     "output_type": "stream",
     "text": [
      "<class 'int'>\n"
     ]
    }
   ],
   "source": [
    "print(type(len(list1)))"
   ]
  },
  {
   "cell_type": "code",
   "execution_count": 19,
   "id": "8657410c-4346-4367-8fb8-6d587d53d2b8",
   "metadata": {},
   "outputs": [
    {
     "name": "stdout",
     "output_type": "stream",
     "text": [
      "['physics', 'chemistry', 2001, 2000, 57.12, 1, 2, 3, 4, 5, 6, 7]\n"
     ]
    },
    {
     "data": {
      "text/plain": [
       "['physics',\n",
       " 'chemistry',\n",
       " 2001,\n",
       " 2000,\n",
       " 57.12,\n",
       " 'physics',\n",
       " 'chemistry',\n",
       " 2001,\n",
       " 2000,\n",
       " 57.12]"
      ]
     },
     "execution_count": 19,
     "metadata": {},
     "output_type": "execute_result"
    }
   ],
   "source": [
    "l=list1+list2\n",
    "print(l)\n",
    "list1*2\n"
   ]
  },
  {
   "cell_type": "code",
   "execution_count": 25,
   "id": "b93eca1c-077c-4d40-81f8-4dce9bbbc742",
   "metadata": {},
   "outputs": [
    {
     "name": "stdout",
     "output_type": "stream",
     "text": [
      "True\n",
      "physics\n",
      "chemistry\n",
      "2001\n",
      "2000\n",
      "57.12\n",
      "1\n",
      "2\n",
      "3\n",
      "4\n",
      "5\n",
      "6\n",
      "7\n",
      "['physics', 'chemistry', 2001, 2000, 57.12, 1, 2, 3, 4, 5, 6, 7, 1, 2, 3, 4, 5, 6, 7]\n"
     ]
    }
   ],
   "source": [
    "print(7 in l)\n",
    "for a in list1:\n",
    "    print(a)\n",
    "l.count(2)\n",
    "list1.extend(list2)\n",
    "print(list1)"
   ]
  },
  {
   "cell_type": "code",
   "execution_count": 32,
   "id": "bca69ae1-d0f7-44f5-b8a8-0c2985a10a10",
   "metadata": {},
   "outputs": [
    {
     "name": "stdout",
     "output_type": "stream",
     "text": [
      "[2, 'newinstance', 1, 7, 6, 5, 4, 3, 2, 1, 57.12, 2000, 2001, 'chemistry', 'newinstance', 'newinstance', 'newinstance', 'newinstance', 'newinstance', 'newinstance', 'physics']\n"
     ]
    },
    {
     "data": {
      "text/plain": [
       "'physics'"
      ]
     },
     "execution_count": 32,
     "metadata": {},
     "output_type": "execute_result"
    }
   ],
   "source": [
    "list1.insert(1,\"newinstance\")\n",
    "print(list1)\n",
    "list1.pop() #stack, no argument default: last obj\n"
   ]
  },
  {
   "cell_type": "code",
   "execution_count": 37,
   "id": "67374a34-6cb2-4016-9054-59f62a5041f9",
   "metadata": {},
   "outputs": [
    {
     "name": "stdout",
     "output_type": "stream",
     "text": [
      "['newinstance', 'newinstance', 'newinstance', 'newinstance', 'newinstance', 'newinstance', 'chemistry', 2001, 2000, 57.12, 1, 2, 3, 4, 5, 6, 7, 1, 'newinstance', 2]\n"
     ]
    }
   ],
   "source": [
    "list1.reverse()\n",
    "print(list1)\n"
   ]
  },
  {
   "cell_type": "code",
   "execution_count": 45,
   "id": "21d7b6c0-1e17-4d83-b595-d7e5d48d3989",
   "metadata": {},
   "outputs": [
    {
     "name": "stdout",
     "output_type": "stream",
     "text": [
      "[3, 7, 12, 45, 45, 77, 432]\n",
      "<class 'NoneType'>\n"
     ]
    }
   ],
   "source": [
    "#list1.sort() #'<' not supported between instances of 'int' and 'str'\n",
    "ls = [3,45,7,12,432,45,77]\n",
    "ls.sort()\n",
    "print(ls)\n",
    "print(type(ls.sort()))"
   ]
  },
  {
   "cell_type": "code",
   "execution_count": 46,
   "id": "c50fc02e-b1fb-44d2-84b9-3c63ccc1b56d",
   "metadata": {},
   "outputs": [
    {
     "name": "stdout",
     "output_type": "stream",
     "text": [
      "Count - 123 :  0\n",
      "Count - zara :  1\n",
      "Count - xyz :  2\n",
      "List(Sıralamadan önce) :  ['xyz', 'zara', 'abc', 'xyz']\n",
      "List(Sıralamadan sonra) :  ['abc', 'xyz', 'xyz', 'zara']\n"
     ]
    }
   ],
   "source": [
    "aList = ['xyz', 'zara', 'abc', 'xyz'];\n",
    "\n",
    "print(\"Count - 123 : \", aList.count(123))\n",
    "print(\"Count - zara : \", aList.count('zara'))\n",
    "print(\"Count - xyz : \", aList.count('xyz'))\n",
    "\n",
    "print(\"List(Sıralamadan önce) : \", aList)\n",
    "aList.sort()\n",
    "print(\"List(Sıralamadan sonra) : \", aList)"
   ]
  },
  {
   "cell_type": "code",
   "execution_count": 47,
   "id": "f86d21e0-8349-4eff-9809-8c6b105f414a",
   "metadata": {},
   "outputs": [
    {
     "name": "stdout",
     "output_type": "stream",
     "text": [
      "tup1[0]:  physics\n",
      "tup2[1:5]:  (2, 3, 4, 5)\n"
     ]
    }
   ],
   "source": [
    "#07-4 : Tuples\n",
    "\n",
    "tup1 = ('physics', 'chemistry', 1997, 2000)\n",
    "tup2 = (1, 2, 3, 4, 5, 6, 7 )\n",
    "print(\"tup1[0]: \", tup1[0])\n",
    "print(\"tup2[1:5]: \", tup2[1:5])"
   ]
  },
  {
   "cell_type": "code",
   "execution_count": 48,
   "id": "f555ba88-914a-439d-a709-6260b6581775",
   "metadata": {},
   "outputs": [
    {
     "name": "stdout",
     "output_type": "stream",
     "text": [
      "(12, 34.56, 'abc', 'xyz')\n"
     ]
    }
   ],
   "source": [
    "tup1 = (12, 34.56)\n",
    "tup2 = ('abc', 'xyz')\n",
    "\n",
    "# Tuple için geçerli bir işlem değil\n",
    "# tup1[0] = 100;\n",
    "\n",
    "# Yeni bir tuple ve birleştirme işlemi.\n",
    "tup3 = tup1 + tup2\n",
    "print(tup3)"
   ]
  },
  {
   "cell_type": "code",
   "execution_count": 49,
   "id": "79a32d0d-2292-4531-b5e8-4277a165c965",
   "metadata": {},
   "outputs": [
    {
     "name": "stdout",
     "output_type": "stream",
     "text": [
      "<class 'tuple'>\n"
     ]
    }
   ],
   "source": [
    "print(type(tup3))"
   ]
  },
  {
   "cell_type": "code",
   "execution_count": 53,
   "id": "345a45b7-f5cc-41fc-a04c-e508c9003d3e",
   "metadata": {},
   "outputs": [
    {
     "name": "stdout",
     "output_type": "stream",
     "text": [
      "<class 'int'>\n"
     ]
    }
   ],
   "source": [
    "tup4=(6)\n",
    "print(type(tup4))\n",
    "#single variable tuple no create\n",
    "\n"
   ]
  },
  {
   "cell_type": "code",
   "execution_count": 57,
   "id": "5016b3be-4d46-49c7-979b-ca26f7e2a0e0",
   "metadata": {},
   "outputs": [
    {
     "name": "stdout",
     "output_type": "stream",
     "text": [
      "<class 'tuple'>\n"
     ]
    }
   ],
   "source": [
    "tup5=(6,)\n",
    "tup6=()#empty tuple\n",
    "print(type(tup5))\n",
    "#single variable tuple creation\n",
    "\n"
   ]
  },
  {
   "cell_type": "code",
   "execution_count": 65,
   "id": "497f496e-90ca-430b-ab4f-9fbbc51179ed",
   "metadata": {},
   "outputs": [
    {
     "name": "stdout",
     "output_type": "stream",
     "text": [
      "dict['Name']:  Zara\n",
      "dict['Age']:  7\n"
     ]
    }
   ],
   "source": [
    "#07-5 : Dictionary\n",
    "\n",
    "dict = {'Name': 'Zara', 'Age': 7, 'Class': 'First'}\n",
    "print(\"dict['Name']: \", dict['Name'])\n",
    "print(\"dict['Age']: \", dict['Age'])"
   ]
  },
  {
   "cell_type": "code",
   "execution_count": 62,
   "id": "af7d58e2-3d0f-46ef-830f-c428a0eb783e",
   "metadata": {},
   "outputs": [
    {
     "name": "stdout",
     "output_type": "stream",
     "text": [
      "dict['Age']:  8\n",
      "dict['School']:  DPS School\n"
     ]
    }
   ],
   "source": [
    "dict['Age'] = 8 # Güncelleme\n",
    "dict['School'] = \"DPS School\" # Yeni bir anahtar ve değer ekleme\n",
    "#değerler görüntüleniyor.\n",
    "print(\"dict['Age']: \", dict['Age'])\n",
    "print(\"dict['School']: \", dict['School'])"
   ]
  },
  {
   "cell_type": "code",
   "execution_count": 66,
   "id": "8b9afed5-cb2d-4a32-bf9c-3fbb5b94b57a",
   "metadata": {},
   "outputs": [
    {
     "name": "stdout",
     "output_type": "stream",
     "text": [
      "dict['Age']:  dict['Age']\n"
     ]
    }
   ],
   "source": [
    "del dict['Name'] # 'Name' anahtarını siler\n",
    "dict.clear()     # Tüm anahtarları ve değerlerini siler\n",
    "del dict        # Tüm sözlüğü siler\n",
    "print(\"dict['Age']: \", dict['Age']) #silme işlemi ardından anahtara ulaşılamaz."
   ]
  },
  {
   "cell_type": "code",
   "execution_count": 68,
   "id": "b83e6795-99d6-437a-871e-78e97948c089",
   "metadata": {},
   "outputs": [
    {
     "name": "stdout",
     "output_type": "stream",
     "text": [
      "dict['Name']:  Manni\n"
     ]
    }
   ],
   "source": [
    "dict1 = {'Name': 'Zara', 'Age': 7, 'Name': 'Manni'}\n",
    "print(\"dict['Name']: \", dict['Name'])"
   ]
  },
  {
   "cell_type": "code",
   "execution_count": 71,
   "id": "56026277-2f20-4d10-af7e-349f9aec5e15",
   "metadata": {},
   "outputs": [
    {
     "data": {
      "text/plain": [
       "2"
      ]
     },
     "execution_count": 71,
     "metadata": {},
     "output_type": "execute_result"
    }
   ],
   "source": [
    "len(dict1)\n"
   ]
  },
  {
   "cell_type": "code",
   "execution_count": 72,
   "id": "d5e883bf-13ff-4cef-a45a-b6db4f91dd04",
   "metadata": {},
   "outputs": [
    {
     "data": {
      "text/plain": [
       "\"{'Name': 'Manni', 'Age': 7}\""
      ]
     },
     "execution_count": 72,
     "metadata": {},
     "output_type": "execute_result"
    }
   ],
   "source": [
    "str(dict1)"
   ]
  },
  {
   "cell_type": "code",
   "execution_count": 73,
   "id": "f440c98c-a760-464e-a2fa-4b46c6752e61",
   "metadata": {},
   "outputs": [
    {
     "name": "stdout",
     "output_type": "stream",
     "text": [
      "Yeni Dictionary : {'name': None, 'age': None, 'sex': None}\n",
      "Yeni Dictionary : {'name': 10, 'age': 10, 'sex': 10}\n"
     ]
    }
   ],
   "source": [
    "seq = ('name', 'age', 'sex')\n",
    "dict = dict.fromkeys(seq)\n",
    "print(\"Yeni Dictionary : %s\" %  str(dict))\n",
    "\n",
    "dict = dict.fromkeys(seq, 10)\n",
    "print(\"Yeni Dictionary : %s\" %  str(dict))"
   ]
  },
  {
   "cell_type": "code",
   "execution_count": 195,
   "id": "ef67b07c-0692-4691-aa5c-f455383677f3",
   "metadata": {},
   "outputs": [
    {
     "name": "stdout",
     "output_type": "stream",
     "text": [
      "Ticks değeri 12:00am, Ocak 1, 1970' den beri: 1710946628.7835553\n"
     ]
    }
   ],
   "source": [
    "#07-6 : Date and Time\n",
    "import time #zamanla ilgili işlemleri yapmak için gereklidir.\n",
    "\n",
    "#UNIX time\n",
    "ticks = time.time()\n",
    "print(\"Ticks değeri 12:00am, Ocak 1, 1970' den beri:\", ticks)\n"
   ]
  },
  {
   "cell_type": "code",
   "execution_count": 196,
   "id": "fa8d8516-93f5-4956-b9fc-a9d7d6f34080",
   "metadata": {},
   "outputs": [
    {
     "name": "stdout",
     "output_type": "stream",
     "text": [
      "Şu anki zaman : time.struct_time(tm_year=2024, tm_mon=3, tm_mday=20, tm_hour=17, tm_min=57, tm_sec=13, tm_wday=2, tm_yday=80, tm_isdst=0)\n"
     ]
    }
   ],
   "source": [
    "#time tuple\n",
    "\n",
    "localtime = time.localtime(time.time())\n",
    "print(\"Şu anki zaman :\", localtime)"
   ]
  },
  {
   "cell_type": "code",
   "execution_count": 197,
   "id": "2bd78984-33e1-45d5-b8f2-2585edc2289a",
   "metadata": {},
   "outputs": [
    {
     "name": "stdout",
     "output_type": "stream",
     "text": [
      "Gösterim:\n",
      "    January 2018\n",
      "Mo Tu We Th Fr Sa Su\n",
      " 1  2  3  4  5  6  7\n",
      " 8  9 10 11 12 13 14\n",
      "15 16 17 18 19 20 21\n",
      "22 23 24 25 26 27 28\n",
      "29 30 31\n",
      "\n"
     ]
    }
   ],
   "source": [
    "#calendar module\n",
    "import calendar #calendar kullanmak için\n",
    "\n",
    "cal = calendar.month(2018, 1)\n",
    "print(\"Gösterim:\")\n",
    "print(cal)"
   ]
  }
 ],
 "metadata": {
  "kernelspec": {
   "display_name": "Python 3 (ipykernel)",
   "language": "python",
   "name": "python3"
  },
  "language_info": {
   "codemirror_mode": {
    "name": "ipython",
    "version": 3
   },
   "file_extension": ".py",
   "mimetype": "text/x-python",
   "name": "python",
   "nbconvert_exporter": "python",
   "pygments_lexer": "ipython3",
   "version": "3.11.7"
  }
 },
 "nbformat": 4,
 "nbformat_minor": 5
}
