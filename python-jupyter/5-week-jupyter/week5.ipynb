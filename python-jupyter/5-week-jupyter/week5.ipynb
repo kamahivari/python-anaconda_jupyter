{
 "cells": [
  {
   "cell_type": "code",
   "execution_count": 1,
   "id": "bf4d280a-38a3-4b8e-a8f9-e70017db09a0",
   "metadata": {},
   "outputs": [],
   "source": [
    "def topla(x,y):\n",
    "    return x+y\n",
    "    "
   ]
  },
  {
   "cell_type": "code",
   "execution_count": 2,
   "id": "8e4e78d7-5490-4d84-afde-6c7d67dcc0db",
   "metadata": {},
   "outputs": [
    {
     "name": "stdout",
     "output_type": "stream",
     "text": [
      "11\n"
     ]
    }
   ],
   "source": [
    "print(topla(6,5))"
   ]
  },
  {
   "cell_type": "code",
   "execution_count": 3,
   "id": "5601e3b1-e109-4d80-b341-0515dad9b19a",
   "metadata": {},
   "outputs": [],
   "source": [
    "del topla\n",
    "#çalistirilmadi, topla() fonk yok edilebilir"
   ]
  },
  {
   "cell_type": "code",
   "execution_count": 4,
   "id": "f5816a60-09e2-48c8-bb89-c304cbca5f94",
   "metadata": {},
   "outputs": [
    {
     "ename": "NameError",
     "evalue": "name 'topla' is not defined",
     "output_type": "error",
     "traceback": [
      "\u001b[1;31m---------------------------------------------------------------------------\u001b[0m",
      "\u001b[1;31mNameError\u001b[0m                                 Traceback (most recent call last)",
      "Cell \u001b[1;32mIn[4], line 1\u001b[0m\n\u001b[1;32m----> 1\u001b[0m topla(\u001b[38;5;241m5\u001b[39m,\u001b[38;5;241m5\u001b[39m)\n",
      "\u001b[1;31mNameError\u001b[0m: name 'topla' is not defined"
     ]
    }
   ],
   "source": [
    "topla(5,5)"
   ]
  },
  {
   "cell_type": "code",
   "execution_count": null,
   "id": "589a8dde-8df4-4eef-b6f1-2d4d374fd49c",
   "metadata": {},
   "outputs": [],
   "source": [
    "def topla1(a,b):\n",
    "    \"ikinci fonksiyon\"\n",
    "    return (a*2)+(b*2)"
   ]
  },
  {
   "cell_type": "code",
   "execution_count": null,
   "id": "63477ab7-f4d3-413e-8828-3b5222273132",
   "metadata": {},
   "outputs": [],
   "source": [
    "topla1(6,3)"
   ]
  },
  {
   "cell_type": "code",
   "execution_count": null,
   "id": "7402bd71-557c-4559-99f0-3a54e4991e7b",
   "metadata": {},
   "outputs": [],
   "source": [
    "l=[23,12,545,3222]\n",
    "def topla(l1):\n",
    "    return sum(l1)\n",
    "print(topla(l))"
   ]
  },
  {
   "cell_type": "code",
   "execution_count": null,
   "id": "56db5ec8-3953-41e7-a6d8-846e4ba83815",
   "metadata": {},
   "outputs": [],
   "source": [
    "#topla([4,\"merhaba\",\"dsaasd\",2,3])\n",
    "#Error verir çünkü <int> + <str> yapılamaz"
   ]
  },
  {
   "cell_type": "code",
   "execution_count": null,
   "id": "066477c0-5ac2-4caa-a7c5-77215c85ae4d",
   "metadata": {},
   "outputs": [],
   "source": [
    "l2=[23,\"merhaba\",342,3.2,232.3,\"deneme\"]\n",
    "def topla2(l):\n",
    "    for eleman  in l:\n",
    "        print(type(eleman))\n",
    "topla2(l2)"
   ]
  },
  {
   "cell_type": "code",
   "execution_count": null,
   "id": "50420a85-f957-4a5e-804e-9bbe5238ff7f",
   "metadata": {},
   "outputs": [],
   "source": [
    "#As the classinfo for version was passed as int, the isinstance method returns a false. This is how you use the isinstance() method.\n",
    "#isinstance(eleman,[<str>,<int>,<float>...])\n",
    "\n",
    "def topla2(l):\n",
    "    toplam=0\n",
    "    for eleman in l:\n",
    "        if(isinstance(eleman,int) or isinstance(eleman,float)):\n",
    "            toplam+=eleman\n",
    "    return toplam\n"
   ]
  },
  {
   "cell_type": "code",
   "execution_count": null,
   "id": "8ffd95c1-3b91-4e0c-b405-3ef3b18ed6a7",
   "metadata": {},
   "outputs": [],
   "source": [
    "topla2([\"deneme\",2,3.5,\"merhaba\",22.5,[342,2443],(\"dff\",\"ssd\",342),{2:12}])"
   ]
  },
  {
   "cell_type": "code",
   "execution_count": null,
   "id": "8ac6b774-98e5-46f1-ac4c-3db01e5779ad",
   "metadata": {},
   "outputs": [],
   "source": [
    "l3=[23,1,\"deneme\",\"merhaba\",1.2]\n"
   ]
  },
  {
   "cell_type": "code",
   "execution_count": null,
   "id": "e9b4efc5-2e14-4d7c-abd4-d18a0d62b80c",
   "metadata": {},
   "outputs": [],
   "source": [
    "def list_ekle(l,eleman):\n",
    "    l.append(eleman)\n",
    "    return\n"
   ]
  },
  {
   "cell_type": "code",
   "execution_count": null,
   "id": "80ef49c9-62b0-463d-87d8-55c605997c29",
   "metadata": {},
   "outputs": [],
   "source": [
    "list_ekle(l3,40)\n",
    "print(l3)"
   ]
  },
  {
   "cell_type": "code",
   "execution_count": null,
   "id": "923a0a4f-3b75-4fd0-acef-79bcfddcd90f",
   "metadata": {},
   "outputs": [],
   "source": [
    "def list_degistir(l1):\n",
    "    l1=[-2,-4,-7]\n",
    "    return"
   ]
  },
  {
   "cell_type": "code",
   "execution_count": null,
   "id": "12bac32e-3e64-475a-b360-5db7c9ccbb47",
   "metadata": {},
   "outputs": [],
   "source": [
    "list_degistir(l3)\n",
    "print(l3)"
   ]
  },
  {
   "cell_type": "code",
   "execution_count": null,
   "id": "8252ffdf-cd2c-4b29-b800-ac468e5274de",
   "metadata": {},
   "outputs": [],
   "source": [
    "def list_degistir1(l1):\n",
    "    l1=[-2,-4,-7]\n",
    "    return l1\n",
    "#local variable adress , dışarı aktarıldı"
   ]
  },
  {
   "cell_type": "code",
   "execution_count": null,
   "id": "7c9c1f2e-62dc-458a-b4b8-cfaf641809fb",
   "metadata": {},
   "outputs": [],
   "source": [
    "#dışarı aktarılan adres bir değişken üzerinde tutuldu\n",
    "x = list_degistir1(l3)\n",
    "print(x)\n",
    "print(l3)"
   ]
  },
  {
   "cell_type": "code",
   "execution_count": null,
   "id": "2722e08f-754e-41e5-a805-69a194acc903",
   "metadata": {},
   "outputs": [],
   "source": [
    "#l3 ve x'in adresleri\n",
    "print(\"l3 : %s  x : %s\" % (id(x),id(l3)))"
   ]
  },
  {
   "cell_type": "code",
   "execution_count": null,
   "id": "69aa9305-b4d1-486e-8233-ed942416aa26",
   "metadata": {},
   "outputs": [],
   "source": [
    "#Eger atamayı direkt l3 içine atarsan l3 content ve adress degisir\n",
    "\n",
    "l3 = x \n",
    "print(\"l3 : %s x : %s\" % (id(l3),id(x)))\n",
    "print(l3)"
   ]
  },
  {
   "cell_type": "code",
   "execution_count": null,
   "id": "f29a596f-e04a-4726-99af-bd2f6dfc3905",
   "metadata": {},
   "outputs": [],
   "source": [
    "#function argumans\n",
    "#1-gerekli arguman\n",
    "\n",
    "def topla(x):\n",
    "    return x+10\n"
   ]
  },
  {
   "cell_type": "code",
   "execution_count": null,
   "id": "5cced06d-3b72-42ab-9e0e-57754afaf9d2",
   "metadata": {},
   "outputs": [],
   "source": [
    "#topla()\n",
    "#TypeError: topla() missing 1 required positional argument: 'x'\n"
   ]
  },
  {
   "cell_type": "code",
   "execution_count": null,
   "id": "0f147b4a-7e88-4f5a-a5a7-121a4cb0e02d",
   "metadata": {},
   "outputs": [],
   "source": [
    "#2-default argumans\n",
    "\n",
    "def topla(x=35,y=15):\n",
    "    return x+10"
   ]
  },
  {
   "cell_type": "code",
   "execution_count": null,
   "id": "b42313cb-2323-4097-9937-4c08d2a76cbd",
   "metadata": {},
   "outputs": [],
   "source": [
    "print(topla())\n",
    "print(topla(50))\n",
    "#print(topla(3,1))\n",
    "#TypeError: topla() takes from 0 to 1 positional arguments but 2 were given\n"
   ]
  },
  {
   "cell_type": "code",
   "execution_count": null,
   "id": "4a2e711e-2d27-41c0-b64c-09ddab9eac56",
   "metadata": {},
   "outputs": [],
   "source": [
    "#optional arguman gondermek\n",
    "\n",
    "#print(topla( ,6))\n",
    "#error\n",
    "\n",
    "def top(x=35,y=35):\n",
    "    return x+y"
   ]
  },
  {
   "cell_type": "code",
   "execution_count": null,
   "id": "7a35fdc7-a7f6-413f-ada6-0f3490107507",
   "metadata": {},
   "outputs": [],
   "source": [
    "print(top(_,1))"
   ]
  },
  {
   "cell_type": "code",
   "execution_count": null,
   "id": "c7df4876-8224-4ee0-85bb-c4285600fead",
   "metadata": {},
   "outputs": [],
   "source": [
    "print(top(y=6))"
   ]
  },
  {
   "cell_type": "code",
   "execution_count": null,
   "id": "cb08ac70-ec2b-48d6-bfc4-dbae3eea2704",
   "metadata": {},
   "outputs": [],
   "source": [
    "#different sequence\n",
    "print(top(y=34,x=1))"
   ]
  },
  {
   "cell_type": "code",
   "execution_count": null,
   "id": "9202f3f6-f937-4bfd-b0fb-8e093941faa2",
   "metadata": {},
   "outputs": [],
   "source": [
    "#unlimited argumans function\n",
    "\n",
    "#top(3,4,5)\n",
    "#TypeError: top() takes from 0 to 2 positional arguments but 3 were given\n",
    "\n",
    "def goster(*sayilar):\n",
    "    for par in sayilar:\n",
    "        print(par)\n"
   ]
  },
  {
   "cell_type": "code",
   "execution_count": null,
   "id": "03f0263d-0258-4535-bd0c-f188fa0b31ca",
   "metadata": {},
   "outputs": [],
   "source": [
    "goster()\n",
    "goster(2,3)\n",
    "goster(2,3,5,6,7,[342,32,1,3],(\"ders\",\"onur\"))"
   ]
  },
  {
   "cell_type": "code",
   "execution_count": null,
   "id": "e1656708-4891-49e7-b5da-03efd75fce09",
   "metadata": {},
   "outputs": [],
   "source": [
    "#lambda function(anonim/nameless func)\n",
    "topla1 = lambda x,y : x+y\n",
    "topla1(3,4)"
   ]
  },
  {
   "cell_type": "code",
   "execution_count": null,
   "id": "823f0bec-f5a3-4c05-ba4d-87cc9a73e05f",
   "metadata": {},
   "outputs": [],
   "source": [
    "#Scope\n",
    "#global variable\n",
    "t=10\n",
    "def carp(x):\n",
    "    return x*t\n",
    "print(carp(3))\n"
   ]
  },
  {
   "cell_type": "code",
   "execution_count": null,
   "id": "69bed755-6345-48ba-b890-fcfdb1ec25b7",
   "metadata": {},
   "outputs": [],
   "source": [
    "#kernal restart\n",
    "#scenario-1\n",
    "def carp(x):\n",
    "    return x*t\n",
    "print(carp(3))\n",
    "t=10\n",
    "#NameError: name 't' is not defined"
   ]
  },
  {
   "cell_type": "code",
   "execution_count": 6,
   "id": "8de4bbbb-42da-43d2-bb44-f01d2a9b4c5f",
   "metadata": {},
   "outputs": [
    {
     "name": "stdout",
     "output_type": "stream",
     "text": [
      "10\n",
      "10\n",
      "6\n",
      "10\n"
     ]
    }
   ],
   "source": [
    "#scenario-2 \n",
    "#local variable - scope\n",
    "\n",
    "t=10\n",
    "print(t)\n",
    "def carp(x,t):\n",
    "    return x*t\n",
    "print(t)\n",
    "print(carp(3,2))\n",
    "print(t)\n"
   ]
  },
  {
   "cell_type": "code",
   "execution_count": 8,
   "id": "9fbc8918-0ebe-4b68-a5b6-579e7b8c58dd",
   "metadata": {},
   "outputs": [
    {
     "name": "stdout",
     "output_type": "stream",
     "text": [
      "10\n",
      "10\n",
      "(3, 2, 6)\n",
      "10\n"
     ]
    }
   ],
   "source": [
    "#access local variable\n",
    "t=10\n",
    "print(t)\n",
    "def carp(x,t):\n",
    "    return x,t,x*t\n",
    "print(t)\n",
    "print(carp(3,2))\n",
    "print(t)"
   ]
  },
  {
   "cell_type": "code",
   "execution_count": 9,
   "id": "535c8ecb-30c1-4a77-8869-7b58b91d70f0",
   "metadata": {},
   "outputs": [
    {
     "name": "stdout",
     "output_type": "stream",
     "text": [
      "12\n",
      "14\n",
      "168\n"
     ]
    }
   ],
   "source": [
    "a,b,c = carp(12,14)\n",
    "print(a)\n",
    "print(b)\n",
    "print(c)\n"
   ]
  },
  {
   "cell_type": "code",
   "execution_count": 10,
   "id": "5d19d897-0cf5-47b5-8a43-de89ff8bc33c",
   "metadata": {},
   "outputs": [
    {
     "name": "stdout",
     "output_type": "stream",
     "text": [
      "3 12\n"
     ]
    }
   ],
   "source": [
    "_,x,y = carp(4,3)\n",
    "print(x,y)"
   ]
  },
  {
   "cell_type": "code",
   "execution_count": 14,
   "id": "1f8dbfbb-9c19-4eb0-a097-57467659735f",
   "metadata": {},
   "outputs": [
    {
     "ename": "ValueError",
     "evalue": "too many values to unpack (expected 2)",
     "output_type": "error",
     "traceback": [
      "\u001b[1;31m---------------------------------------------------------------------------\u001b[0m",
      "\u001b[1;31mValueError\u001b[0m                                Traceback (most recent call last)",
      "Cell \u001b[1;32mIn[14], line 1\u001b[0m\n\u001b[1;32m----> 1\u001b[0m x,y \u001b[38;5;241m=\u001b[39m carp(\u001b[38;5;241m4\u001b[39m,\u001b[38;5;241m3\u001b[39m)\n\u001b[0;32m      2\u001b[0m \u001b[38;5;28mprint\u001b[39m(x,y)\n",
      "\u001b[1;31mValueError\u001b[0m: too many values to unpack (expected 2)"
     ]
    }
   ],
   "source": [
    "x,y = carp(4,3)\n",
    "print(x,y)\n",
    "#ValueError: too many values to unpack (expected 2)\n"
   ]
  },
  {
   "cell_type": "code",
   "execution_count": 18,
   "id": "f8b74f47-8a59-4bf3-b1ed-d86fcbf32c3e",
   "metadata": {},
   "outputs": [
    {
     "name": "stdout",
     "output_type": "stream",
     "text": [
      "Fonksiyonun içi toplam:  30\n",
      "Fonksiyonun dışındaki toplam:  30\n"
     ]
    }
   ],
   "source": [
    "toplam = 0; \n",
    "# toplama fonksiyonu\n",
    "def toplama( arg1, arg2 ):\n",
    "   # Toplama fonksiyonu\n",
    "   global toplam # Global değişken yapıldı\n",
    "   toplam = arg1 + arg2 # Local değişken\n",
    "   print(\"Fonksiyonun içi toplam: \", toplam)\n",
    "   return toplam\n",
    "\n",
    "# Fonksiyonu çağırma\n",
    "toplama( 10, 20 )\n",
    "print(\"Fonksiyonun dışındaki toplam: \", toplam)"
   ]
  },
  {
   "cell_type": "code",
   "execution_count": 20,
   "id": "6664ad4b-c75f-4b83-880e-8011df026307",
   "metadata": {},
   "outputs": [
    {
     "name": "stdout",
     "output_type": "stream",
     "text": [
      "Fonksiyonun içi toplam:  30\n",
      "Fonksiyonun dışındaki toplam:  0\n"
     ]
    }
   ],
   "source": [
    "toplam = 0; \n",
    "# toplama fonksiyonu\n",
    "def toplama( arg1, arg2 ):\n",
    "   # Toplama fonksiyonu\n",
    "   #global kaldırırsak ve local olarak kalirsa\n",
    "   toplam = arg1 + arg2 # Local değişken\n",
    "   print(\"Fonksiyonun içi toplam: \", toplam)\n",
    "   return toplam\n",
    "\n",
    "# Fonksiyonu çağırma\n",
    "toplama( 10, 20 )\n",
    "print(\"Fonksiyonun dışındaki toplam: \", toplam)\n",
    "\n",
    "# fonksiyon dışındaki global olan toplam degiskeni değeri değişmedi"
   ]
  }
 ],
 "metadata": {
  "kernelspec": {
   "display_name": "Python 3 (ipykernel)",
   "language": "python",
   "name": "python3"
  },
  "language_info": {
   "codemirror_mode": {
    "name": "ipython",
    "version": 3
   },
   "file_extension": ".py",
   "mimetype": "text/x-python",
   "name": "python",
   "nbconvert_exporter": "python",
   "pygments_lexer": "ipython3",
   "version": "3.11.7"
  }
 },
 "nbformat": 4,
 "nbformat_minor": 5
}
