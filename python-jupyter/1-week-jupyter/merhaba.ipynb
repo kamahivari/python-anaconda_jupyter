{
 "cells": [
  {
   "cell_type": "code",
   "execution_count": 1,
   "id": "cdabc799-c5ab-4238-b2c6-54854d38b64f",
   "metadata": {},
   "outputs": [
    {
     "name": "stdout",
     "output_type": "stream",
     "text": [
      "merhaba jupyter\n"
     ]
    }
   ],
   "source": [
    "print(\"merhaba jupyter\")"
   ]
  },
  {
   "cell_type": "code",
   "execution_count": 2,
   "id": "048a00a4-f8df-4788-97be-0039f3deeedc",
   "metadata": {},
   "outputs": [],
   "source": [
    "deneme=\"deneme\"\n",
    "Deneme=100"
   ]
  },
  {
   "cell_type": "code",
   "execution_count": 3,
   "id": "125371a9-446d-48b7-9bc2-3a8a63d9ef80",
   "metadata": {},
   "outputs": [
    {
     "name": "stdout",
     "output_type": "stream",
     "text": [
      "Dogru\n"
     ]
    }
   ],
   "source": [
    "if(Deneme==100):\n",
    "    print(\"Dogru\")\n",
    "else:\n",
    "    print(\"yanlis\")"
   ]
  },
  {
   "cell_type": "code",
   "execution_count": 4,
   "id": "c55860e5-e8a9-4498-9518-432526a37bdc",
   "metadata": {},
   "outputs": [],
   "source": [
    "gunler=[\"pazartesi\",\"sali\",\n",
    "        \"carsamba\",\"persembe\"]\n",
    "        "
   ]
  },
  {
   "cell_type": "code",
   "execution_count": 11,
   "id": "94fe8e1f-2221-40d4-9403-9ec76c63241a",
   "metadata": {},
   "outputs": [
    {
     "name": "stdout",
     "output_type": "stream",
     "text": [
      "60\n"
     ]
    }
   ],
   "source": [
    "a=10\n",
    "b=20\n",
    "c=30\n",
    "d=a+b\\\n",
    "+c\n",
    "print(d)\n"
   ]
  },
  {
   "cell_type": "code",
   "execution_count": 13,
   "id": "0a15ae83-c7ca-4c65-b5bd-ea072c39294a",
   "metadata": {},
   "outputs": [
    {
     "name": "stdout",
     "output_type": "stream",
     "text": [
      "Bu bir paragraftır. Birden\n",
      "fazla satır veya cümleden oluşmuştur.\n"
     ]
    }
   ],
   "source": [
    "kelime = 'kelime'\n",
    "cumle = \"Bu bir cümledir.\"\n",
    "paragraf = \"\"\"Bu bir paragraftır. Birden\n",
    "fazla satır veya cümleden oluşmuştur.\"\"\"\n",
    "print(paragraf)"
   ]
  },
  {
   "cell_type": "code",
   "execution_count": null,
   "id": "cb62d690-5fdf-4f25-aab4-79989965c19a",
   "metadata": {},
   "outputs": [],
   "source": []
  }
 ],
 "metadata": {
  "kernelspec": {
   "display_name": "Python 3 (ipykernel)",
   "language": "python",
   "name": "python3"
  },
  "language_info": {
   "codemirror_mode": {
    "name": "ipython",
    "version": 3
   },
   "file_extension": ".py",
   "mimetype": "text/x-python",
   "name": "python",
   "nbconvert_exporter": "python",
   "pygments_lexer": "ipython3",
   "version": "3.11.7"
  }
 },
 "nbformat": 4,
 "nbformat_minor": 5
}
