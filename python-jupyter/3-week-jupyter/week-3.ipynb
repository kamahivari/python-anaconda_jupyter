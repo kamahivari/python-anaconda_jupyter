{
 "cells": [
  {
   "cell_type": "code",
   "execution_count": 1,
   "id": "beb597b9-cade-49cd-8093-61f742e12a82",
   "metadata": {},
   "outputs": [
    {
     "name": "stdout",
     "output_type": "stream",
     "text": [
      "No: 0\n",
      "No: 1\n",
      "No: 2\n",
      "No: 3\n",
      "No: 4\n",
      "No: 5\n",
      "No: 6\n",
      "No: 7\n",
      "No: 8\n",
      "No: 9\n",
      "while bitti\n",
      "Bye!\n"
     ]
    }
   ],
   "source": [
    "#Döngüler\n",
    "#while\n",
    "count = 0\n",
    "while (count < 10):\n",
    "   print('No:', count)\n",
    "   count = count + 1\n",
    "else:\n",
    "    print(\"while bitti\")\n",
    "\n",
    "print(\"Bye!\")"
   ]
  },
  {
   "cell_type": "code",
   "execution_count": 2,
   "id": "e5ba47d8-a3b2-46f9-ba2a-7282a543f004",
   "metadata": {},
   "outputs": [
    {
     "name": "stdout",
     "output_type": "stream",
     "text": [
      "0  sayısı 5'ten küçük\n",
      "1  sayısı 5'ten küçük\n",
      "2  sayısı 5'ten küçük\n",
      "3  sayısı 5'ten küçük\n",
      "4  sayısı 5'ten küçük\n",
      "5  sayısı 5'ten küçük değil.\n"
     ]
    }
   ],
   "source": [
    "count = 0\n",
    "while count < 5:\n",
    "   print(count, \" sayısı 5'ten küçük\")\n",
    "   count = count + 1\n",
    "else:\n",
    "   print(count, \" sayısı 5'ten küçük değil.\")"
   ]
  },
  {
   "cell_type": "code",
   "execution_count": 3,
   "id": "f6e5fdaa-205b-45d9-a620-9c04b526257c",
   "metadata": {},
   "outputs": [
    {
     "name": "stdout",
     "output_type": "stream",
     "text": [
      "2\n",
      "4\n",
      "6\n",
      "8\n",
      "10\n",
      "12\n",
      "14\n",
      "16\n",
      "18\n"
     ]
    }
   ],
   "source": [
    "sayac = 1\n",
    "while sayac < 10:print(sayac*2);sayac+=1"
   ]
  },
  {
   "cell_type": "code",
   "execution_count": 4,
   "id": "c53e3e7d-9c8e-4dac-98d8-770d5d85396f",
   "metadata": {},
   "outputs": [
    {
     "name": "stdout",
     "output_type": "stream",
     "text": [
      "M\n",
      "e\n",
      "r\n",
      "h\n",
      "a\n",
      "b\n",
      "a\n",
      " \n",
      "P\n",
      "y\n",
      "t\n",
      "h\n",
      "o\n",
      "n\n"
     ]
    }
   ],
   "source": [
    "#FOR döngüsü\n",
    "\n",
    "#string örneği\n",
    "\n",
    "for karakter in \"Merhaba Python\":\n",
    "    print(karakter)"
   ]
  },
  {
   "cell_type": "code",
   "execution_count": 5,
   "id": "03c7077e-e06b-4825-bd54-c936edc53138",
   "metadata": {},
   "outputs": [
    {
     "name": "stdout",
     "output_type": "stream",
     "text": [
      "45\n",
      "56\n",
      "deneme\n",
      "45.3\n"
     ]
    }
   ],
   "source": [
    "#listede dolaşmak\n",
    "l = [45,56,\"deneme\",45.3]\n",
    "for thel in l:\n",
    "    print(thel)"
   ]
  },
  {
   "cell_type": "code",
   "execution_count": 6,
   "id": "ea134564-662d-4261-a11f-0e7fe74e77af",
   "metadata": {},
   "outputs": [
    {
     "name": "stdout",
     "output_type": "stream",
     "text": [
      "Geçerli meyve: banana\n",
      "Geçerli meyve: apple\n",
      "Geçerli meyve: mango\n",
      "Bye!\n"
     ]
    }
   ],
   "source": [
    "#listeye index üzerinden ulaşmak istersek\n",
    "#İndeks sırası ile öğelere ulaşım\n",
    "fruits = ['banana', 'apple',  'mango']\n",
    "meyveler = ['banana', 'apple',  'mango']\n",
    "for index in range(len(fruits)):        \n",
    "   print('Geçerli meyve:', meyveler[index]) #index ile ulaşım\n",
    "\n",
    "print(\"Bye!\")"
   ]
  },
  {
   "cell_type": "code",
   "execution_count": 7,
   "id": "8f210231-ab3a-452a-b3b9-190a1a2b900f",
   "metadata": {},
   "outputs": [
    {
     "name": "stdout",
     "output_type": "stream",
     "text": [
      "45\n",
      "56\n",
      "deneme\n",
      "45.3\n",
      "4\n",
      "range(0, 4)\n",
      "[0, 1, 2, 3]\n"
     ]
    }
   ],
   "source": [
    "for i in range(len(l)):\n",
    "    print(l[i])\n",
    "print(len(l))\n",
    "print(range(len(l)))  \n",
    "l1=list(range(len(l)))\n",
    "print(l1)"
   ]
  },
  {
   "cell_type": "code",
   "execution_count": 8,
   "id": "b07167ec-c905-4f12-8603-4366cc9d0e36",
   "metadata": {},
   "outputs": [
    {
     "name": "stdout",
     "output_type": "stream",
     "text": [
      "0\n",
      "1\n",
      "2\n",
      "3\n",
      "4\n",
      "5\n",
      "6\n",
      "7\n",
      "8\n",
      "9\n"
     ]
    }
   ],
   "source": [
    "#range([start],stop,[step])\n",
    "\n",
    "for i in range(10):\n",
    "    print(i)\n"
   ]
  },
  {
   "cell_type": "code",
   "execution_count": 9,
   "id": "7d21bd58-bcfc-40be-b016-46c7daab20e8",
   "metadata": {},
   "outputs": [
    {
     "name": "stdout",
     "output_type": "stream",
     "text": [
      "4\n",
      "5\n",
      "6\n",
      "7\n",
      "8\n",
      "9\n"
     ]
    }
   ],
   "source": [
    "for i in range(4,10):\n",
    "    print(i)"
   ]
  },
  {
   "cell_type": "code",
   "execution_count": 10,
   "id": "344c9371-e17e-4a07-8dfe-2dfd21ae3ecf",
   "metadata": {},
   "outputs": [
    {
     "name": "stdout",
     "output_type": "stream",
     "text": [
      "4\n",
      "6\n",
      "8\n"
     ]
    }
   ],
   "source": [
    "for i in range(4,10,2):\n",
    "    print(i)\n",
    "    "
   ]
  },
  {
   "cell_type": "code",
   "execution_count": 11,
   "id": "4179b978-d95c-4596-997f-7819d249dde4",
   "metadata": {},
   "outputs": [
    {
     "name": "stdout",
     "output_type": "stream",
     "text": [
      "0\n",
      "2\n",
      "4\n",
      "6\n",
      "8\n",
      "10\n"
     ]
    }
   ],
   "source": [
    "#break\n",
    "i=0\n",
    "while True:\n",
    "    print(i)\n",
    "    if(i>=10):\n",
    "        break\n",
    "    i+=2"
   ]
  },
  {
   "cell_type": "code",
   "execution_count": 12,
   "id": "d5328616-5e39-4c0a-b861-1e2886de0c59",
   "metadata": {},
   "outputs": [
    {
     "name": "stdout",
     "output_type": "stream",
     "text": [
      "2\n",
      "4\n",
      "6\n",
      "8\n",
      "12\n",
      "14\n",
      "16\n",
      "18\n",
      "20\n"
     ]
    }
   ],
   "source": [
    "#continue\n",
    "\n",
    "i=0\n",
    "while True:\n",
    "    i+=2\n",
    "    if(i==10):\n",
    "        continue\n",
    "    print(i)\n",
    "    if(i>=20):\n",
    "        break\n"
   ]
  },
  {
   "cell_type": "code",
   "execution_count": 13,
   "id": "d07788fd-1319-48e3-8b36-f37bfef9cc5d",
   "metadata": {},
   "outputs": [],
   "source": [
    "#pass \n",
    "\n",
    "if True:\n",
    "    #sonra yapılacak\n",
    "    pass\n"
   ]
  },
  {
   "cell_type": "code",
   "execution_count": 14,
   "id": "1e42366c-ed7c-49f0-b975-6c4a7d3e4a48",
   "metadata": {},
   "outputs": [
    {
     "name": "stdout",
     "output_type": "stream",
     "text": [
      "2\n",
      "3\n",
      "6\n",
      "109\n",
      "218\n",
      "327\n",
      "Asal değil\n"
     ]
    }
   ],
   "source": [
    "#asal sayi örnegi\n",
    "\n",
    "sayi = 654 #herhangi bir sayı yazılabilir\n",
    "asal = True\n",
    "for i in range(2, sayi):\n",
    "    if sayi % i == 0:\n",
    "        print(i)\n",
    "        asal = False\n",
    "        #break\n",
    "\n",
    "if asal == True:\n",
    "    print(\"Asal sayı\")\n",
    "else:\n",
    "    print(\"Asal değil\")"
   ]
  },
  {
   "cell_type": "code",
   "execution_count": 15,
   "id": "c7c472ba-313b-4f91-8270-932d8879788f",
   "metadata": {},
   "outputs": [
    {
     "name": "stdout",
     "output_type": "stream",
     "text": [
      "3.141592653589793\n",
      "2.718281828459045\n",
      "3.1\n",
      "<class 'int'>\n",
      "enbuyuk :6 en kucuk : -12\n",
      "32\n",
      "32\n"
     ]
    }
   ],
   "source": [
    "# 7-BÖLÜM : Degisken tipine göre metotlar\n",
    "\n",
    "#7.1 - sayısal metotlar\n",
    "\n",
    "import math\n",
    "print(math.pi)\n",
    "print(math.e)\n",
    "print(abs(-3.1))\n",
    "enbuyuk=max(6,3,2,-12,-3)\n",
    "enkucuk=min(6,3,2,-12,-3)\n",
    "print(type(enbuyuk))\n",
    "print(\"enbuyuk :\" + str(enbuyuk), \"en kucuk : \" + str(enkucuk))\n",
    "\n",
    "print(2**5)\n",
    "print(pow(2,5))"
   ]
  },
  {
   "cell_type": "code",
   "execution_count": 16,
   "id": "77690969-5365-4196-9b0e-c0c8e9576c00",
   "metadata": {},
   "outputs": [
    {
     "name": "stdout",
     "output_type": "stream",
     "text": [
      "3\n",
      "3.14159\n"
     ]
    }
   ],
   "source": [
    "print(round(math.pi))\n",
    "print(round(math.pi,5))"
   ]
  },
  {
   "cell_type": "code",
   "execution_count": 17,
   "id": "6bd5f671-94b2-45af-b726-cb315ea098bb",
   "metadata": {},
   "outputs": [
    {
     "data": {
      "text/plain": [
       "'P'"
      ]
     },
     "execution_count": 17,
     "metadata": {},
     "output_type": "execute_result"
    }
   ],
   "source": [
    "#random sayi üretme\n",
    "import random\n",
    "random.choice(\"Merhaba Python\")\n"
   ]
  },
  {
   "cell_type": "code",
   "execution_count": 18,
   "id": "b76e9f4a-3def-4d4c-8197-4843e7146a83",
   "metadata": {},
   "outputs": [
    {
     "data": {
      "text/plain": [
       "0.6400474303358956"
      ]
     },
     "execution_count": 18,
     "metadata": {},
     "output_type": "execute_result"
    }
   ],
   "source": [
    "random.random()\n"
   ]
  },
  {
   "cell_type": "code",
   "execution_count": 19,
   "id": "be39efc1-e999-4e41-9d4c-775d372b9d43",
   "metadata": {},
   "outputs": [
    {
     "name": "stdout",
     "output_type": "stream",
     "text": [
      "['a', 'b', 'c', 'd', 'e', 'f', 'g', 'h', 'i', 'j', 'k', 'l', 'm', 'n', 'o', 'p', 'q', 'r', 's', 't', 'u', 'v', 'w', 'x', 'y', 'z']\n"
     ]
    },
    {
     "data": {
      "text/plain": [
       "'x'"
      ]
     },
     "execution_count": 19,
     "metadata": {},
     "output_type": "execute_result"
    }
   ],
   "source": [
    "#soru : random alfabeden karakter çekebilmek \n",
    "\n",
    "import string\n",
    "string.ascii_lowercase\n",
    "l=list(string.ascii_lowercase)\n",
    "print(l)\n",
    "random.choice(l)"
   ]
  },
  {
   "cell_type": "code",
   "execution_count": 20,
   "id": "ef6e1844-37be-4f7f-81eb-0972a7797150",
   "metadata": {},
   "outputs": [
    {
     "name": "stdout",
     "output_type": "stream",
     "text": [
      "['a', 'b', 'c', 'd', 'e', 'f', 'g', 'h', 'i', 'j', 'k', 'l', 'm', 'n', 'o', 'p', 'q', 'r', 's', 't', 'u', 'v', 'w', 'x', 'y', 'z']\n"
     ]
    }
   ],
   "source": [
    "l1=list(map(chr,range(97,123)))\n",
    "print(l1)"
   ]
  },
  {
   "cell_type": "code",
   "execution_count": 21,
   "id": "71ec9c49-0da7-4fe5-9e49-4754e17248d3",
   "metadata": {},
   "outputs": [
    {
     "data": {
      "text/plain": [
       "27"
      ]
     },
     "execution_count": 21,
     "metadata": {},
     "output_type": "execute_result"
    }
   ],
   "source": [
    "random.randrange(0,30,3)"
   ]
  },
  {
   "cell_type": "code",
   "execution_count": 22,
   "id": "33b0583b-de71-4207-854d-6f63fce047a7",
   "metadata": {},
   "outputs": [],
   "source": [
    "list = [3.5,4,5,\"deneme\",\"x\"]\n",
    "#random.choice(list)\n",
    "random.seed(4)\n"
   ]
  },
  {
   "cell_type": "code",
   "execution_count": 23,
   "id": "b6b93313-53b0-4eae-97f4-cea76f0a83f7",
   "metadata": {},
   "outputs": [
    {
     "name": "stdout",
     "output_type": "stream",
     "text": [
      "['deneme', 'x', 3.5, 5, 4]\n"
     ]
    }
   ],
   "source": [
    "random.shuffle(list)\n",
    "print(list)"
   ]
  },
  {
   "cell_type": "code",
   "execution_count": 24,
   "id": "2832ae78-66b1-4aba-a4d4-7170a5179729",
   "metadata": {},
   "outputs": [
    {
     "name": "stdout",
     "output_type": "stream",
     "text": [
      "Merhaba\n",
      "Python\n",
      "\tDünyası\n",
      "Merhaba\\nPython\\n\\r\\tDünyası\n"
     ]
    }
   ],
   "source": [
    "print(\"Merhaba\\nPython\\n\\r\\tDünyası\")\n",
    "print(r\"Merhaba\\nPython\\n\\r\\tDünyası\")"
   ]
  },
  {
   "cell_type": "code",
   "execution_count": 25,
   "id": "47fbb268-a2d3-4ce7-a782-ac35d13e7606",
   "metadata": {},
   "outputs": [
    {
     "name": "stdout",
     "output_type": "stream",
     "text": [
      "Merhaba Onur.Günaydın45\n",
      "Merhaba Onur Günaydın 45\n",
      "Merhaba Ahmet\n",
      "Merhaba \n",
      "Ahmet \n"
     ]
    }
   ],
   "source": [
    "isim=\"Onur\"\n",
    "gün=\"Günaydın\"\n",
    "sayi=45\n",
    "print(\"Merhaba \"+ isim +\".\"+ gün + str(sayi))\n",
    "print(\"Merhaba %s %s %d\" % (isim,gün,sayi))\n",
    "print(\"Merhaba \\\n",
    "Ahmet\")\n",
    "print(\"\"\"Merhaba \n",
    "Ahmet \"\"\")\n"
   ]
  },
  {
   "cell_type": "code",
   "execution_count": 26,
   "id": "a2f040d2-6d06-4919-9430-14c1a53fd2df",
   "metadata": {},
   "outputs": [
    {
     "name": "stdout",
     "output_type": "stream",
     "text": [
      "Onur\n",
      "6\n",
      "2\n"
     ]
    }
   ],
   "source": [
    "#string metotları /hazır metotlar\n",
    "\n",
    "print(\"onur\".capitalize()) #TR karakter destegi yoktur\n",
    "print(\"sdadasdaadsasascxzvxv\".count(\"a\"))\n",
    "print(\"sdadasdaadsasascxzvxv\".count(\"a\",5,9))"
   ]
  },
  {
   "cell_type": "code",
   "execution_count": 27,
   "id": "450274cd-a44d-44b3-aa84-38c29d4f5b8c",
   "metadata": {},
   "outputs": [
    {
     "name": "stdout",
     "output_type": "stream",
     "text": [
      "Files and directories in ' C:\\Users\\Onur\\Documents\\IISExpress\\config ' :\n",
      "['applicationhost.config', 'aspnet.config', 'redirection.config']\n",
      "current path:  ['.ipynb_checkpoints', 'week-3.ipynb']\n"
     ]
    }
   ],
   "source": [
    "#python list files in a directory\n",
    "\n",
    "import os\n",
    "path=\"C:\\\\Users\\\\Onur\\\\Documents\\\\IISExpress\\\\config\"\n",
    "dir_list=os.listdir(path)\n",
    "print(\"Files and directories in '\", path, \"' :\")\n",
    "print(dir_list)\n",
    "dir_list1=os.listdir()\n",
    "print(\"current path: \",dir_list1)"
   ]
  },
  {
   "cell_type": "code",
   "execution_count": 28,
   "id": "30a71895-f315-4195-a68b-91bcc0f3f169",
   "metadata": {},
   "outputs": [
    {
     "data": {
      "text/plain": [
       "True"
      ]
     },
     "execution_count": 28,
     "metadata": {},
     "output_type": "execute_result"
    }
   ],
   "source": [
    "dir_list[2].endswith(\".config\")"
   ]
  },
  {
   "cell_type": "code",
   "execution_count": 29,
   "id": "aae5705c-880d-4e4d-8336-beff8f074353",
   "metadata": {},
   "outputs": [
    {
     "name": "stdout",
     "output_type": "stream",
     "text": [
      "applicationhost.config : True\n",
      "aspnet.config : True\n",
      "redirection.config : True\n"
     ]
    }
   ],
   "source": [
    "for dosyaismi in dir_list:\n",
    "    print(dosyaismi,\":\",dosyaismi.endswith(\".config\"))"
   ]
  },
  {
   "cell_type": "code",
   "execution_count": 30,
   "id": "eb9f50a9-5514-414b-a64a-d2ba4825ff43",
   "metadata": {},
   "outputs": [
    {
     "name": "stdout",
     "output_type": "stream",
     "text": [
      "['a', 'p', 'p', 'l', 'i', 'c', 'a', 't', 'i', 'o', 'n', 'h', 'o', 's', 't', '.', 'c', 'o', 'n', 'f', 'i', 'g']\n",
      "['a', 'p', 'p', 'l', 'i', 'c', 'a', 't', 'i', 'o', 'n', 'h', 'o', 's', 't', '.', 'c', 'o', 'n', 'f', 'i', 'g', 'a', 's', 'p', 'n', 'e', 't', '.', 'c', 'o', 'n', 'f', 'i', 'g']\n",
      "['a', 'p', 'p', 'l', 'i', 'c', 'a', 't', 'i', 'o', 'n', 'h', 'o', 's', 't', '.', 'c', 'o', 'n', 'f', 'i', 'g', 'a', 's', 'p', 'n', 'e', 't', '.', 'c', 'o', 'n', 'f', 'i', 'g', 'r', 'e', 'd', 'i', 'r', 'e', 'c', 't', 'i', 'o', 'n', '.', 'c', 'o', 'n', 'f', 'i', 'g']\n"
     ]
    }
   ],
   "source": [
    "l_temp=[]\n",
    "for dosyaismi in dir_list:\n",
    "    if(dosyaismi.endswith(\".config\")):\n",
    "       l_temp+=dosyaismi\n",
    "    print(l_temp)"
   ]
  },
  {
   "cell_type": "code",
   "execution_count": 31,
   "id": "6dbbaa6b-abb0-40fd-b350-be0120eead4e",
   "metadata": {},
   "outputs": [
    {
     "name": "stdout",
     "output_type": "stream",
     "text": [
      "['applicationhost.config', 'aspnet.config', 'redirection.config']\n"
     ]
    }
   ],
   "source": [
    "l2_temp=[]\n",
    "for dosyaismi in dir_list:\n",
    "    if(dosyaismi.endswith(\".config\")):\n",
    "        l2_temp.append(dosyaismi)\n",
    "print(l2_temp)"
   ]
  },
  {
   "cell_type": "code",
   "execution_count": 32,
   "id": "5a204d0b-74f0-4bc8-8160-84ca271414dc",
   "metadata": {},
   "outputs": [
    {
     "data": {
      "text/plain": [
       "1"
      ]
     },
     "execution_count": 32,
     "metadata": {},
     "output_type": "execute_result"
    }
   ],
   "source": [
    "s=\"Merhaba deneme işlemi\"\n",
    "s.find(\"e\")\n"
   ]
  },
  {
   "cell_type": "code",
   "execution_count": 33,
   "id": "fcbd4eb2-289a-48a2-b25d-ea8a543a6519",
   "metadata": {},
   "outputs": [
    {
     "name": "stdout",
     "output_type": "stream",
     "text": [
      "1\n",
      "1\n",
      "9\n",
      "9\n",
      "9\n",
      "9\n",
      "9\n",
      "9\n",
      "9\n",
      "9\n",
      "11\n",
      "11\n",
      "13\n",
      "13\n",
      "18\n",
      "18\n",
      "18\n",
      "18\n",
      "18\n",
      "-1\n",
      "-1\n"
     ]
    }
   ],
   "source": [
    "for i in range(len(s)):\n",
    "    print(s.find(\"e\",i))\n",
    "    i=s.find(\"e\") + 1"
   ]
  },
  {
   "cell_type": "code",
   "execution_count": 34,
   "id": "53bb2d1e-9c54-4606-a5a3-357f32c96bbb",
   "metadata": {},
   "outputs": [
    {
     "name": "stdout",
     "output_type": "stream",
     "text": [
      "1\n",
      "9\n",
      "11\n",
      "13\n",
      "18\n",
      "-1\n"
     ]
    }
   ],
   "source": [
    "i=0\n",
    "while i<len(s):\n",
    "    print(s.find(\"e\",i))\n",
    "    i=s.find(\"e\",i)+1\n",
    "    if(i==0):\n",
    "        break"
   ]
  },
  {
   "cell_type": "code",
   "execution_count": 37,
   "id": "655f7851-792a-4a22-8d17-6574d155fcb2",
   "metadata": {},
   "outputs": [
    {
     "name": "stdout",
     "output_type": "stream",
     "text": [
      "[1, 9, 11, 13, 18]\n"
     ]
    }
   ],
   "source": [
    "i=0\n",
    "ls=[]\n",
    "while i<len(s): \n",
    "    i=s.find(\"e\",i)+1\n",
    "    if(i==0):\n",
    "        break\n",
    "    else:\n",
    "        ls.append(i-1)\n",
    "print(ls)"
   ]
  },
  {
   "cell_type": "code",
   "execution_count": 39,
   "id": "6bb70d52-8247-476f-9c97-51ff236d9465",
   "metadata": {},
   "outputs": [
    {
     "name": "stdout",
     "output_type": "stream",
     "text": [
      "a-b-c\n"
     ]
    }
   ],
   "source": [
    "s = \"-\";\n",
    "seq = (\"a\", \"b\", \"c\"); # Bir tuple\n",
    "print(s.join(seq))"
   ]
  },
  {
   "cell_type": "code",
   "execution_count": 41,
   "id": "b19efc3c-68cf-43e4-a353-a4204674b180",
   "metadata": {},
   "outputs": [
    {
     "name": "stdout",
     "output_type": "stream",
     "text": [
      "John#Peter#Vicky\n",
      "<class 'str'>\n"
     ]
    }
   ],
   "source": [
    "myTuple = (\"John\", \"Peter\", \"Vicky\")\n",
    "\n",
    "x = \"#\".join(myTuple)\n",
    "\n",
    "print(x)\n",
    "print(type(x))"
   ]
  },
  {
   "cell_type": "code",
   "execution_count": 47,
   "id": "45a85713-b724-409f-9019-04b214ea26fd",
   "metadata": {},
   "outputs": [
    {
     "name": "stdout",
     "output_type": "stream",
     "text": [
      "['Deneme', '12', '3432', 'aSDA', '567hgh', '231sad']\n"
     ]
    }
   ],
   "source": [
    "st = \"Deneme,12,3432,aSDA,567hgh,231sad\"\n",
    "nlist=[]\n",
    "nlist=st.split(\",\")\n",
    "print(nlist)"
   ]
  },
  {
   "cell_type": "code",
   "execution_count": 48,
   "id": "4f18f444-0332-4e15-bfb1-aa2f751d7037",
   "metadata": {},
   "outputs": [
    {
     "name": "stdout",
     "output_type": "stream",
     "text": [
      "0\n",
      "1\n",
      "2\n",
      "3\n",
      "4\n",
      "5\n",
      "6\n",
      "7\n",
      "8\n",
      "9\n"
     ]
    }
   ],
   "source": [
    "#zfill()\n",
    "\n",
    "for i in range(10):\n",
    "    print(i)"
   ]
  },
  {
   "cell_type": "code",
   "execution_count": 52,
   "id": "b7d103d0-ecf7-4cf8-95b7-645f8d0ee64b",
   "metadata": {},
   "outputs": [
    {
     "name": "stdout",
     "output_type": "stream",
     "text": [
      "0000\n",
      "0001\n",
      "0002\n",
      "0003\n",
      "0004\n",
      "0005\n",
      "0006\n",
      "0007\n",
      "0008\n",
      "0009\n",
      "00010\n",
      "00011\n",
      "00012\n",
      "00013\n",
      "00014\n",
      "00015\n",
      "00016\n",
      "00017\n",
      "00018\n",
      "00019\n",
      "00020\n",
      "00021\n",
      "00022\n",
      "00023\n",
      "00024\n",
      "00025\n",
      "00026\n",
      "00027\n",
      "00028\n",
      "00029\n",
      "00030\n",
      "00031\n",
      "00032\n",
      "00033\n",
      "00034\n",
      "00035\n",
      "00036\n",
      "00037\n",
      "00038\n",
      "00039\n",
      "00040\n",
      "00041\n",
      "00042\n",
      "00043\n",
      "00044\n",
      "00045\n",
      "00046\n",
      "00047\n",
      "00048\n",
      "00049\n",
      "00050\n",
      "00051\n",
      "00052\n",
      "00053\n",
      "00054\n",
      "00055\n",
      "00056\n",
      "00057\n",
      "00058\n",
      "00059\n",
      "00060\n",
      "00061\n",
      "00062\n",
      "00063\n",
      "00064\n",
      "00065\n",
      "00066\n",
      "00067\n",
      "00068\n",
      "00069\n",
      "00070\n",
      "00071\n",
      "00072\n",
      "00073\n",
      "00074\n",
      "00075\n",
      "00076\n",
      "00077\n",
      "00078\n",
      "00079\n",
      "00080\n",
      "00081\n",
      "00082\n",
      "00083\n",
      "00084\n",
      "00085\n",
      "00086\n",
      "00087\n",
      "00088\n",
      "00089\n",
      "00090\n",
      "00091\n",
      "00092\n",
      "00093\n",
      "00094\n",
      "00095\n",
      "00096\n",
      "00097\n",
      "00098\n",
      "00099\n"
     ]
    }
   ],
   "source": [
    "for i in range(100):\n",
    "    print(\"000\"+str(i))"
   ]
  },
  {
   "cell_type": "code",
   "execution_count": 54,
   "id": "9e9556c7-1780-4e6b-a99b-6b6a12c77a2f",
   "metadata": {},
   "outputs": [
    {
     "name": "stdout",
     "output_type": "stream",
     "text": [
      "00000\n",
      "00001\n",
      "00002\n",
      "00003\n",
      "00004\n",
      "00005\n",
      "00006\n",
      "00007\n",
      "00008\n",
      "00009\n",
      "00010\n",
      "00011\n",
      "00012\n",
      "00013\n",
      "00014\n",
      "00015\n",
      "00016\n",
      "00017\n",
      "00018\n",
      "00019\n",
      "00020\n",
      "00021\n",
      "00022\n",
      "00023\n",
      "00024\n",
      "00025\n",
      "00026\n",
      "00027\n",
      "00028\n",
      "00029\n",
      "00030\n",
      "00031\n",
      "00032\n",
      "00033\n",
      "00034\n",
      "00035\n",
      "00036\n",
      "00037\n",
      "00038\n",
      "00039\n",
      "00040\n",
      "00041\n",
      "00042\n",
      "00043\n",
      "00044\n",
      "00045\n",
      "00046\n",
      "00047\n",
      "00048\n",
      "00049\n",
      "00050\n",
      "00051\n",
      "00052\n",
      "00053\n",
      "00054\n",
      "00055\n",
      "00056\n",
      "00057\n",
      "00058\n",
      "00059\n",
      "00060\n",
      "00061\n",
      "00062\n",
      "00063\n",
      "00064\n",
      "00065\n",
      "00066\n",
      "00067\n",
      "00068\n",
      "00069\n",
      "00070\n",
      "00071\n",
      "00072\n",
      "00073\n",
      "00074\n",
      "00075\n",
      "00076\n",
      "00077\n",
      "00078\n",
      "00079\n",
      "00080\n",
      "00081\n",
      "00082\n",
      "00083\n",
      "00084\n",
      "00085\n",
      "00086\n",
      "00087\n",
      "00088\n",
      "00089\n",
      "00090\n",
      "00091\n",
      "00092\n",
      "00093\n",
      "00094\n",
      "00095\n",
      "00096\n",
      "00097\n",
      "00098\n",
      "00099\n"
     ]
    }
   ],
   "source": [
    "for i in range(100):\n",
    "    print(str(i).zfill(5))"
   ]
  },
  {
   "cell_type": "code",
   "execution_count": 55,
   "id": "7a5892a2-57e2-43ef-bae9-d52e9dd65436",
   "metadata": {},
   "outputs": [
    {
     "name": "stdout",
     "output_type": "stream",
     "text": [
      "str.count(sub, 4, 40) :  2\n",
      "str.count(sub) :  1\n",
      "str.find(sub, 4, 40) :  7\n",
      "str.find(sub) :  21\n",
      "a,b,c\n",
      "28\n",
      "['örnek', 'bir', 'metin', '....', 'woww!!!']\n"
     ]
    }
   ],
   "source": [
    "str = \"örnek bir metin .... woww!!!\";\n",
    "sub = \"i\";\n",
    "print(\"str.count(sub, 4, 40) : \", str.count(sub, 4, 40))\n",
    "sub = \"wow\";\n",
    "\n",
    "print(\"str.count(sub) : \", str.count(sub))\n",
    "sub = \"i\";\n",
    "print(\"str.find(sub, 4, 40) : \", str.find(sub, 4, 40))\n",
    "sub = \"wow\";\n",
    "print(\"str.find(sub) : \", str.find(sub))\n",
    "\n",
    "s = \",\";\n",
    "seq = (\"a\", \"b\", \"c\"); # Bir tuple\n",
    "print(s.join(seq))\n",
    "\n",
    "print(len(str))\n",
    "\n",
    "print(str.split(' '))"
   ]
  },
  {
   "cell_type": "code",
   "execution_count": 57,
   "id": "00d5ddd4-73cd-4b58-a3d9-c88d04d26791",
   "metadata": {},
   "outputs": [
    {
     "data": {
      "text/plain": [
       "0"
      ]
     },
     "execution_count": 57,
     "metadata": {},
     "output_type": "execute_result"
    }
   ],
   "source": [
    "#Ekstra -----------------------------\n",
    "\n",
    "def find(str, ch):\n",
    "    for ltr in str:\n",
    "        if ltr == ch:\n",
    "            return str.index(ltr)\n",
    "find(\"ooottat\", \"o\")"
   ]
  },
  {
   "cell_type": "code",
   "execution_count": 60,
   "id": "56d80efd-29e6-4813-8a09-112836698569",
   "metadata": {},
   "outputs": [
    {
     "name": "stdout",
     "output_type": "stream",
     "text": [
      "[0, 1, 2]\n"
     ]
    }
   ],
   "source": [
    "def find(s, ch):\n",
    "    return [i for i, ltr in enumerate(s) if ltr == ch]\n",
    "x = find(\"ooottat\", \"o\")\n",
    "print(x)"
   ]
  },
  {
   "cell_type": "code",
   "execution_count": null,
   "id": "b5fefed9-210a-4b37-b9f7-0b2898fa64bf",
   "metadata": {},
   "outputs": [],
   "source": []
  }
 ],
 "metadata": {
  "kernelspec": {
   "display_name": "Python 3 (ipykernel)",
   "language": "python",
   "name": "python3"
  },
  "language_info": {
   "codemirror_mode": {
    "name": "ipython",
    "version": 3
   },
   "file_extension": ".py",
   "mimetype": "text/x-python",
   "name": "python",
   "nbconvert_exporter": "python",
   "pygments_lexer": "ipython3",
   "version": "3.11.7"
  }
 },
 "nbformat": 4,
 "nbformat_minor": 5
}
