{
 "cells": [
  {
   "cell_type": "code",
   "execution_count": 11,
   "id": "85a8aa48-f14d-40d7-8816-dfeaa29abac5",
   "metadata": {},
   "outputs": [
    {
     "name": "stdout",
     "output_type": "stream",
     "text": [
      "Merhaba\n"
     ]
    }
   ],
   "source": [
    "#nested funct\n",
    "\n",
    "def yaz_msg(msg):\n",
    "# Dış bir değişken,\n",
    "\n",
    "    def yaz():\n",
    "    # İçteki fonksiyondan bu değişkene ulaşılıyor.\n",
    "        print(msg)\n",
    "\n",
    "    yaz()\n",
    "\n",
    "# Test edelim\n",
    "yaz_msg(\"Merhaba\")"
   ]
  },
  {
   "cell_type": "code",
   "execution_count": 28,
   "id": "3fc5aaec-ba29-46ae-8143-8e217fe2af6a",
   "metadata": {},
   "outputs": [
    {
     "name": "stdout",
     "output_type": "stream",
     "text": [
      "Merhaba\n"
     ]
    }
   ],
   "source": [
    "#closure\n",
    "\n",
    "def yaz_msg(msg):\n",
    "\n",
    "    def yaz():\n",
    "        print(msg)\n",
    "    \n",
    "    return yaz\n",
    "\n",
    "# Test edelim\n",
    "diger = yaz_msg(\"Merhaba\")\n",
    "diger()"
   ]
  },
  {
   "cell_type": "code",
   "execution_count": 13,
   "id": "c1d55a10-5d0a-4e36-b0f2-252e865df196",
   "metadata": {},
   "outputs": [
    {
     "name": "stdout",
     "output_type": "stream",
     "text": [
      "merhaba\n"
     ]
    }
   ],
   "source": [
    "x=yaz_msg(\"merhaba\")\n",
    "x()"
   ]
  },
  {
   "cell_type": "code",
   "execution_count": 16,
   "id": "d2277078-8155-403b-a6ff-dccb215f7445",
   "metadata": {},
   "outputs": [
    {
     "name": "stdout",
     "output_type": "stream",
     "text": [
      "merhaba\n",
      "140726898494224\n"
     ]
    }
   ],
   "source": [
    "print(id(x()))\n"
   ]
  },
  {
   "cell_type": "code",
   "execution_count": 20,
   "id": "5aa95892-0c52-4d11-9213-72a95e20722f",
   "metadata": {},
   "outputs": [
    {
     "ename": "NameError",
     "evalue": "name 'x' is not defined",
     "output_type": "error",
     "traceback": [
      "\u001b[1;31m---------------------------------------------------------------------------\u001b[0m",
      "\u001b[1;31mNameError\u001b[0m                                 Traceback (most recent call last)",
      "Cell \u001b[1;32mIn[20], line 1\u001b[0m\n\u001b[1;32m----> 1\u001b[0m \u001b[38;5;28;01mdel\u001b[39;00m x\n\u001b[0;32m      2\u001b[0m x\n",
      "\u001b[1;31mNameError\u001b[0m: name 'x' is not defined"
     ]
    }
   ],
   "source": [
    "del x\n",
    "x"
   ]
  },
  {
   "cell_type": "code",
   "execution_count": 21,
   "id": "edbb3e4a-c5ba-4caa-a0d4-998d88d07737",
   "metadata": {},
   "outputs": [
    {
     "name": "stdout",
     "output_type": "stream",
     "text": [
      "27\n",
      "15\n",
      "30\n"
     ]
    }
   ],
   "source": [
    "def carpma_yap(n):\n",
    "    def carp(x):\n",
    "        return x * n\n",
    "    return carp\n",
    "\n",
    "kere3 = carpma_yap(3)\n",
    "kere5 = carpma_yap(5)\n",
    "\n",
    "print(kere3(9))\n",
    "print(kere5(3))\n",
    "print(kere5(kere3(2))) #esnekliğe bir örnek"
   ]
  },
  {
   "cell_type": "code",
   "execution_count": 26,
   "id": "3c805cd0-9469-4963-ae26-44a596248626",
   "metadata": {},
   "outputs": [],
   "source": [
    "# closure adress : __closure__\n",
    "\n",
    "carpma_yap.__closure__\n"
   ]
  },
  {
   "cell_type": "code",
   "execution_count": 27,
   "id": "32a082c9-193d-44fa-9469-0817435dc96d",
   "metadata": {},
   "outputs": [
    {
     "data": {
      "text/plain": [
       "(<cell at 0x0000021995DB8520: int object at 0x00007FFD88E0C368>,)"
      ]
     },
     "execution_count": 27,
     "metadata": {},
     "output_type": "execute_result"
    }
   ],
   "source": [
    "kere3.__closure__"
   ]
  },
  {
   "cell_type": "code",
   "execution_count": 29,
   "id": "ce3d028d-dbcf-4a73-aa29-724054580752",
   "metadata": {},
   "outputs": [
    {
     "name": "stdout",
     "output_type": "stream",
     "text": [
      "Merhaba\n",
      "Merhaba\n",
      "2308910222688\n",
      "2308910222688\n"
     ]
    }
   ],
   "source": [
    "#Decorators\n",
    "\n",
    "def ilk_func(msg):\n",
    "    print(msg)    \n",
    "\n",
    "ilk_func(\"Merhaba\")\n",
    "\n",
    "ikinci = ilk_func\n",
    "ikinci(\"Merhaba\")\n",
    "\n",
    "print(id(ilk_func))\n",
    "print(id(ikinci))"
   ]
  },
  {
   "cell_type": "code",
   "execution_count": 30,
   "id": "4d2a2276-3b52-478f-b0a5-4727f20b7929",
   "metadata": {},
   "outputs": [
    {
     "name": "stdout",
     "output_type": "stream",
     "text": [
      "Merhaba\n"
     ]
    }
   ],
   "source": [
    "def cagrilan():\n",
    "    def donen():\n",
    "        print(\"Merhaba\")\n",
    "    return donen\n",
    "\n",
    "yeni = cagrilan()\n",
    "yeni()"
   ]
  },
  {
   "cell_type": "code",
   "execution_count": 33,
   "id": "a3d531b6-b2ea-480b-9855-a0b2cba6f2fe",
   "metadata": {},
   "outputs": [
    {
     "name": "stdout",
     "output_type": "stream",
     "text": [
      "Ana fonksiyon\n",
      "Decorate durum\n",
      "Ana fonksiyon\n"
     ]
    }
   ],
   "source": [
    "def decorator_ornek(func):\n",
    "    def ic_fonksiyon():\n",
    "        print(\"Decorate durum\")\n",
    "        func()\n",
    "    return ic_fonksiyon\n",
    "\n",
    "def fonksiyon():\n",
    "    print(\"Ana fonksiyon\")\n",
    "    \n",
    "\n",
    "fonksiyon()\n",
    "nesne = decorator_ornek(fonksiyon)\n",
    "nesne()"
   ]
  },
  {
   "cell_type": "code",
   "execution_count": 34,
   "id": "219578f1-4162-4bbf-86a1-af369fb33ffe",
   "metadata": {},
   "outputs": [
    {
     "name": "stdout",
     "output_type": "stream",
     "text": [
      "Decorate durum\n",
      "Ana fonksiyon 2\n"
     ]
    }
   ],
   "source": [
    "#annotater decorator\n",
    "\n",
    "@decorator_ornek\n",
    "def fonksiyon():\n",
    "    print(\"Ana fonksiyon 2\")\n",
    "    \n",
    "fonksiyon()"
   ]
  },
  {
   "cell_type": "code",
   "execution_count": 35,
   "id": "ec081dca-e244-4d70-b674-20c303f0cc4b",
   "metadata": {},
   "outputs": [
    {
     "name": "stdout",
     "output_type": "stream",
     "text": [
      "Bölme işlemi:  2 and 5\n",
      "0.4\n",
      "Bölme işlemi:  0 and 5\n",
      "0.0\n",
      "Bölme işlemi:  2 and 0\n",
      "Hoooppp, böyle bir bölme olmaz.\n",
      "None\n"
     ]
    }
   ],
   "source": [
    "def akilli_bolme(func):\n",
    "    def inner(a,b):\n",
    "        print(\"Bölme işlemi: \", a, \"and\" , b)\n",
    "        if b == 0:\n",
    "            print(\"Hoooppp, böyle bir bölme olmaz.\")\n",
    "            return\n",
    "        return func(a,b)\n",
    "    return inner\n",
    "\n",
    "@akilli_bolme\n",
    "def bol(a,b):\n",
    "    return a/b\n",
    "\n",
    "print(bol(2,5))\n",
    "print(bol(0,5))\n",
    "print(bol(2,0))"
   ]
  },
  {
   "cell_type": "code",
   "execution_count": 40,
   "id": "152edce0-d7cc-4bca-ac84-2474c39121fd",
   "metadata": {},
   "outputs": [
    {
     "name": "stdout",
     "output_type": "stream",
     "text": [
      "******************************\n",
      "%%%%%%%%%%%%%%%%%%%%%%%%%%%%%%\n",
      "Merhaba\n",
      "%%%%%%%%%%%%%%%%%%%%%%%%%%%%%%\n",
      "******************************\n"
     ]
    }
   ],
   "source": [
    "#decorators chaining \n",
    "\n",
    "def yildiz(func):\n",
    "    def inner(*args, **kwargs):\n",
    "        print(\"*\" * 30)\n",
    "        func(*args, **kwargs)\n",
    "        print(\"*\" * 30)\n",
    "    return inner\n",
    "\n",
    "def yuzde(func):\n",
    "    def inner(*args, **kwargs):\n",
    "        print(\"%\" * 30)\n",
    "        func(*args, **kwargs)\n",
    "        print(\"%\" * 30)\n",
    "    return inner\n",
    "\n",
    "@yildiz\n",
    "@yuzde\n",
    "def yaz(msg):\n",
    "    print(msg)\n",
    "\n",
    "yaz(\"Merhaba\")"
   ]
  },
  {
   "cell_type": "code",
   "execution_count": 43,
   "id": "0f5be6b9-aaa9-411d-baf8-edd3f88961bc",
   "metadata": {},
   "outputs": [
    {
     "name": "stdout",
     "output_type": "stream",
     "text": [
      "Function 'long_time' executed in 25.2653s\n"
     ]
    }
   ],
   "source": [
    "#decorator timer examp : \"geeksforgeeks\"\n",
    "\n",
    "from time import time \n",
    "\n",
    "\n",
    "def timer_func(func): \n",
    "\t# This function shows the execution time of \n",
    "\t# the function object passed \n",
    "\tdef wrap_func(*args, **kwargs): \n",
    "\t\tt1 = time() \n",
    "\t\tresult = func(*args, **kwargs) \n",
    "\t\tt2 = time() \n",
    "\t\tprint(f'Function {func.__name__!r} executed in {(t2-t1):.4f}s') \n",
    "\t\treturn result \n",
    "\treturn wrap_func \n",
    "\n",
    "\n",
    "@timer_func\n",
    "def long_time(n): \n",
    "\tfor i in range(n): \n",
    "\t\tfor j in range(100000000): \n",
    "\t\t\ti*j \n",
    "\n",
    "\n",
    "long_time(5) \n"
   ]
  },
  {
   "cell_type": "code",
   "execution_count": null,
   "id": "6b69d381-d52e-4b51-9b44-6ddf6e22fd4d",
   "metadata": {},
   "outputs": [],
   "source": []
  }
 ],
 "metadata": {
  "kernelspec": {
   "display_name": "Python 3 (ipykernel)",
   "language": "python",
   "name": "python3"
  },
  "language_info": {
   "codemirror_mode": {
    "name": "ipython",
    "version": 3
   },
   "file_extension": ".py",
   "mimetype": "text/x-python",
   "name": "python",
   "nbconvert_exporter": "python",
   "pygments_lexer": "ipython3",
   "version": "3.11.7"
  }
 },
 "nbformat": 4,
 "nbformat_minor": 5
}
