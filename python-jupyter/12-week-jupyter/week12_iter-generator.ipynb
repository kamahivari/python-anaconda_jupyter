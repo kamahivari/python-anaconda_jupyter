{
 "cells": [
  {
   "cell_type": "code",
   "execution_count": 22,
   "id": "4da2c3f1-349a-4b20-bbb6-37877fa46e52",
   "metadata": {},
   "outputs": [],
   "source": [
    "#iterators\n",
    "\n",
    "liste = [34,56,'deneme',34.5]\n",
    "my_iter = iter(liste)\n"
   ]
  },
  {
   "cell_type": "code",
   "execution_count": 12,
   "id": "5a242d64-d67c-4fb2-8ddc-33cbc978f5be",
   "metadata": {},
   "outputs": [
    {
     "name": "stdout",
     "output_type": "stream",
     "text": [
      "56\n"
     ]
    }
   ],
   "source": [
    "print(next(my_iter))"
   ]
  },
  {
   "cell_type": "code",
   "execution_count": 13,
   "id": "10da7f58-ba28-4dfe-8c39-c792cbbb957d",
   "metadata": {},
   "outputs": [
    {
     "name": "stdout",
     "output_type": "stream",
     "text": [
      "34\n",
      "56\n",
      "deneme\n",
      "34.5\n"
     ]
    }
   ],
   "source": [
    "for l in liste:\n",
    "    print(l)"
   ]
  },
  {
   "cell_type": "code",
   "execution_count": 23,
   "id": "4abe37c4-ab5f-4905-8b65-4f072c46a4a4",
   "metadata": {},
   "outputs": [
    {
     "name": "stdout",
     "output_type": "stream",
     "text": [
      "34\n",
      "56\n",
      "deneme\n",
      "34.5\n"
     ]
    }
   ],
   "source": [
    "while True:\n",
    "    try:\n",
    "        print(next(my_iter))\n",
    "    except StopIteration:\n",
    "        break\n"
   ]
  },
  {
   "cell_type": "code",
   "execution_count": 34,
   "id": "f06f5f2c-8802-4122-a760-71c632d43b8a",
   "metadata": {},
   "outputs": [],
   "source": [
    "#kendi iterator sinifini olustur\n",
    "\n",
    "class UsAl:\n",
    "    'Belirtilen sayıya kadar üs hesaplayan sınıf'\n",
    "\n",
    "    def __init__(self, bitis = 0):\n",
    "        self.bitis = bitis\n",
    "\n",
    "    def __iter__(self):\n",
    "        self.n = 0\n",
    "        return self\n",
    "\n",
    "    def __next__(self):\n",
    "        if self.n <= self.bitis:\n",
    "            result = 2 ** self.n\n",
    "            self.n += 1\n",
    "            return result\n",
    "        else:\n",
    "            raise StopIteration\n",
    "\n"
   ]
  },
  {
   "cell_type": "code",
   "execution_count": 45,
   "id": "50630a49-6fa0-4f92-9939-4012ff89d444",
   "metadata": {},
   "outputs": [],
   "source": [
    "list = UsAl(4)\n",
    "i= iter(list)\n",
    "\n"
   ]
  },
  {
   "cell_type": "code",
   "execution_count": 50,
   "id": "b508d54a-db75-4643-9a80-8f3f3fd40ca2",
   "metadata": {},
   "outputs": [
    {
     "name": "stdout",
     "output_type": "stream",
     "text": [
      "16\n"
     ]
    }
   ],
   "source": [
    "print(next(i))"
   ]
  },
  {
   "cell_type": "code",
   "execution_count": 51,
   "id": "60c53349-7b62-4e12-bbee-75e7397f8de7",
   "metadata": {},
   "outputs": [
    {
     "name": "stdout",
     "output_type": "stream",
     "text": [
      "1\n",
      "2\n",
      "4\n",
      "8\n",
      "16\n"
     ]
    }
   ],
   "source": [
    "# FOR döngüsü ile aynisini yapabiliriz.\n",
    "\n",
    "for i in range(5):\n",
    "    print(2**i)"
   ]
  },
  {
   "cell_type": "code",
   "execution_count": 52,
   "id": "5a16dfe8-fbdd-4e08-ab50-0d71c4d86939",
   "metadata": {},
   "outputs": [
    {
     "name": "stdout",
     "output_type": "stream",
     "text": [
      "Birinci\n",
      "1\n",
      "İkinci\n",
      "2\n",
      "Üçüncü\n",
      "3\n"
     ]
    }
   ],
   "source": [
    "#Generators\n",
    "\n",
    "# Basit bir generator\n",
    "def my_gen():\n",
    "    i = 1\n",
    "    print('Birinci')\n",
    "    yield i\n",
    "\n",
    "    i += 1\n",
    "    print('İkinci')\n",
    "    yield i\n",
    "\n",
    "    i += 1\n",
    "    print('Üçüncü')\n",
    "    yield i\n",
    "\n",
    "a = my_gen()\n",
    "print(next(a))\n",
    "print(next(a))\n",
    "print(next(a))"
   ]
  },
  {
   "cell_type": "code",
   "execution_count": 53,
   "id": "3f5ac645-ac75-4fe3-9f1e-2c9d4c0226c9",
   "metadata": {},
   "outputs": [
    {
     "name": "stdout",
     "output_type": "stream",
     "text": [
      "a\n",
      "b\n",
      "a\n",
      "h\n",
      "r\n",
      "e\n",
      "m\n"
     ]
    }
   ],
   "source": [
    "#Döngü içeren generator\n",
    "\n",
    "def rev_str(my_str):\n",
    "    'Döngülü yield'\n",
    "    length = len(my_str)\n",
    "    for i in range(length - 1,-1,-1):\n",
    "        yield my_str[i] \n",
    "\n",
    "for char in rev_str(\"merhaba\"):\n",
    "     print(char)"
   ]
  },
  {
   "cell_type": "code",
   "execution_count": 54,
   "id": "af3e4125-5a5a-4bab-b1de-df5b6302f2ed",
   "metadata": {},
   "outputs": [
    {
     "name": "stdout",
     "output_type": "stream",
     "text": [
      "[1, 9, 36, 100]\n"
     ]
    }
   ],
   "source": [
    "#compherension\n",
    "\n",
    "my_list = [1,3,6,10]\n",
    "for i in range(len(my_list)):\n",
    "    my_list[i]**=2\n",
    "print(my_list)"
   ]
  },
  {
   "cell_type": "code",
   "execution_count": 56,
   "id": "5ecc33a6-b4fa-48f1-b35b-c5832b333ef3",
   "metadata": {},
   "outputs": [
    {
     "name": "stdout",
     "output_type": "stream",
     "text": [
      "[49, 3136, 1024, 12100]\n"
     ]
    }
   ],
   "source": [
    "#list compherension\n",
    "\n",
    "my_list1 = [7,56,32,110]\n",
    "my_list2 = [x**2 for x in my_list1]\n",
    "print(my_list2)"
   ]
  },
  {
   "cell_type": "code",
   "execution_count": 68,
   "id": "a21ac7c7-eeee-4489-a1fa-804daef34e14",
   "metadata": {},
   "outputs": [],
   "source": [
    "#generator alternatif , bellek verimliligi\n",
    "\n",
    "l = (x**2 for x in my_list1)\n",
    "a = iter(l)"
   ]
  },
  {
   "cell_type": "code",
   "execution_count": 65,
   "id": "f3b4d326-83b5-42aa-86ec-3cb94c684605",
   "metadata": {},
   "outputs": [
    {
     "name": "stdout",
     "output_type": "stream",
     "text": [
      "49\n"
     ]
    }
   ],
   "source": [
    "print(next(a))"
   ]
  },
  {
   "cell_type": "code",
   "execution_count": 66,
   "id": "77a862ed-95b1-4db4-95c0-42d7f130c5ea",
   "metadata": {},
   "outputs": [
    {
     "data": {
      "text/plain": [
       "11378"
      ]
     },
     "execution_count": 66,
     "metadata": {},
     "output_type": "execute_result"
    }
   ],
   "source": [
    "sum([x**2 for x in my_list])"
   ]
  },
  {
   "cell_type": "code",
   "execution_count": 67,
   "id": "9e1707ef-fdee-4ff4-969f-39b5adab46c4",
   "metadata": {},
   "outputs": [
    {
     "data": {
      "text/plain": [
       "10000"
      ]
     },
     "execution_count": 67,
     "metadata": {},
     "output_type": "execute_result"
    }
   ],
   "source": [
    "max([x**2 for x in my_list])"
   ]
  },
  {
   "cell_type": "code",
   "execution_count": 71,
   "id": "ac0fe99e-c055-48a9-a604-9456bac49e05",
   "metadata": {},
   "outputs": [
    {
     "name": "stdout",
     "output_type": "stream",
     "text": [
      "<generator object <genexpr> at 0x0000028296FF2E90>\n"
     ]
    }
   ],
   "source": [
    "x = (x**2 for x in my_list1)\n",
    "print(x)"
   ]
  },
  {
   "cell_type": "code",
   "execution_count": 72,
   "id": "37f330fb-e1cf-450a-83f6-ecffc3ab7967",
   "metadata": {},
   "outputs": [
    {
     "name": "stdout",
     "output_type": "stream",
     "text": [
      "0\n",
      "1\n",
      "1\n",
      "2\n",
      "3\n",
      "\n",
      "Using for in loop\n",
      "0\n",
      "1\n",
      "1\n",
      "2\n",
      "3\n"
     ]
    }
   ],
   "source": [
    "#fibonacci examp\n",
    "\n",
    "# A simple generator for Fibonacci Numbers \n",
    "def fib(limit): \n",
    "      \n",
    "    # Initialize first two Fibonacci Numbers  \n",
    "    a, b = 0, 1\n",
    "  \n",
    "    # One by one yield next Fibonacci Number \n",
    "    while a < limit: \n",
    "        yield a \n",
    "        a, b = b, a + b \n",
    "  \n",
    "# Create a generator object \n",
    "x = fib(5) \n",
    "  \n",
    "# Iterating over the generator object using next \n",
    "# In Python 3, __next__() \n",
    "print(next(x))  \n",
    "print(next(x)) \n",
    "print(next(x)) \n",
    "print(next(x)) \n",
    "print(next(x)) \n",
    "  \n",
    "# Iterating over the generator object using for \n",
    "# in loop. \n",
    "print(\"\\nUsing for in loop\") \n",
    "for i in fib(5):  \n",
    "    print(i)"
   ]
  },
  {
   "cell_type": "code",
   "execution_count": null,
   "id": "8f030ad1-e871-4041-b599-d36d90274874",
   "metadata": {},
   "outputs": [],
   "source": []
  }
 ],
 "metadata": {
  "kernelspec": {
   "display_name": "Python 3 (ipykernel)",
   "language": "python",
   "name": "python3"
  },
  "language_info": {
   "codemirror_mode": {
    "name": "ipython",
    "version": 3
   },
   "file_extension": ".py",
   "mimetype": "text/x-python",
   "name": "python",
   "nbconvert_exporter": "python",
   "pygments_lexer": "ipython3",
   "version": "3.11.7"
  }
 },
 "nbformat": 4,
 "nbformat_minor": 5
}
