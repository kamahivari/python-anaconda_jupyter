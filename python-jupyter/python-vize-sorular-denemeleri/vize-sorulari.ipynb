{
 "cells": [
  {
   "cell_type": "code",
   "execution_count": 1,
   "id": "552b9966-c411-4cf9-bae6-e3e3e9958e38",
   "metadata": {},
   "outputs": [
    {
     "name": "stdout",
     "output_type": "stream",
     "text": [
      "True\n"
     ]
    }
   ],
   "source": [
    "#vize sorulari ; ornekler\n",
    "l=['1',2.5,3.0]\n",
    "print(3 in l)"
   ]
  },
  {
   "cell_type": "code",
   "execution_count": 2,
   "id": "fd1c00c3-c510-4823-a26f-8ffa91c04d95",
   "metadata": {},
   "outputs": [
    {
     "name": "stdout",
     "output_type": "stream",
     "text": [
      "1\n",
      "2\n",
      "3\n"
     ]
    }
   ],
   "source": [
    "i=1\n",
    "while i<6:\n",
    "    print(i)\n",
    "    if i==3:\n",
    "        break\n",
    "    i+=1\n",
    "\n",
    "    "
   ]
  },
  {
   "cell_type": "code",
   "execution_count": 3,
   "id": "59055760-a280-4f4c-a9f4-0bf89e0c13bf",
   "metadata": {},
   "outputs": [],
   "source": [
    "def nprint(message,n):\n",
    "    while(n>0):\n",
    "        print(message)\n",
    "    n=1\n",
    "    print('z',5)\n"
   ]
  },
  {
   "cell_type": "code",
   "execution_count": 4,
   "id": "2f1550db-9e77-4d02-b6dd-da66e5493755",
   "metadata": {},
   "outputs": [],
   "source": [
    "a=5\n",
    "a*=3\n",
    "a/=3\n"
   ]
  },
  {
   "cell_type": "code",
   "execution_count": 5,
   "id": "8b8ba2a1-fbac-4562-8af0-2c8fb1259f1e",
   "metadata": {},
   "outputs": [
    {
     "name": "stdout",
     "output_type": "stream",
     "text": [
      "5.0\n"
     ]
    }
   ],
   "source": [
    "print(a)"
   ]
  },
  {
   "cell_type": "code",
   "execution_count": 6,
   "id": "441c4af9-1445-439f-b10f-6ecbc0e8f586",
   "metadata": {},
   "outputs": [
    {
     "data": {
      "text/plain": [
       "False"
      ]
     },
     "execution_count": 6,
     "metadata": {},
     "output_type": "execute_result"
    }
   ],
   "source": [
    "16 in [2,4,6,8,10]"
   ]
  },
  {
   "cell_type": "code",
   "execution_count": 11,
   "id": "5f4f55ac-2975-4a93-9aed-f30caed152d6",
   "metadata": {},
   "outputs": [
    {
     "ename": "TypeError",
     "evalue": "'tuple' object does not support item assignment",
     "output_type": "error",
     "traceback": [
      "\u001b[1;31m---------------------------------------------------------------------------\u001b[0m",
      "\u001b[1;31mTypeError\u001b[0m                                 Traceback (most recent call last)",
      "Cell \u001b[1;32mIn[11], line 2\u001b[0m\n\u001b[0;32m      1\u001b[0m a\u001b[38;5;241m=\u001b[39m(\u001b[38;5;241m1\u001b[39m,\u001b[38;5;241m2\u001b[39m)\n\u001b[1;32m----> 2\u001b[0m a[\u001b[38;5;241m0\u001b[39m] \u001b[38;5;241m+\u001b[39m\u001b[38;5;241m=\u001b[39m\u001b[38;5;241m1\u001b[39m\n",
      "\u001b[1;31mTypeError\u001b[0m: 'tuple' object does not support item assignment"
     ]
    }
   ],
   "source": [
    "a=(1,2)\n",
    "a[0] +=1\n"
   ]
  },
  {
   "cell_type": "code",
   "execution_count": 10,
   "id": "ddc39e41-a933-459c-8dfe-a2753f341ca3",
   "metadata": {},
   "outputs": [
    {
     "data": {
      "text/plain": [
       "False"
      ]
     },
     "execution_count": 10,
     "metadata": {},
     "output_type": "execute_result"
    }
   ],
   "source": [
    "a,b=2,4\n",
    "a is b\n"
   ]
  },
  {
   "cell_type": "code",
   "execution_count": 9,
   "id": "d693be65-1254-486d-bb9b-e6c22c48d0ee",
   "metadata": {},
   "outputs": [
    {
     "data": {
      "text/plain": [
       "True"
      ]
     },
     "execution_count": 9,
     "metadata": {},
     "output_type": "execute_result"
    }
   ],
   "source": [
    "6 in [2,4,6,8,10]"
   ]
  },
  {
   "cell_type": "code",
   "execution_count": 8,
   "id": "efd26af1-9678-4251-a090-36814875a7a2",
   "metadata": {},
   "outputs": [
    {
     "name": "stdout",
     "output_type": "stream",
     "text": [
      "[1, 2, 1, 2]\n"
     ]
    }
   ],
   "source": [
    "l1=[1,2]\n",
    "print(l1*2)"
   ]
  },
  {
   "cell_type": "code",
   "execution_count": null,
   "id": "eea70f13-2c60-4bb3-8398-851f4676c9c5",
   "metadata": {},
   "outputs": [],
   "source": [
    "i=1\n",
    "while True:\n",
    "    if(i%2==0):\n",
    "        break\n",
    "    print(i)\n",
    "    i+=2\n"
   ]
  },
  {
   "cell_type": "code",
   "execution_count": 12,
   "id": "fb8b64be-658d-409b-841b-1b93f2b7f423",
   "metadata": {},
   "outputs": [
    {
     "name": "stdout",
     "output_type": "stream",
     "text": [
      "1\n"
     ]
    }
   ],
   "source": [
    "d={\"tek\":1}\n",
    "\n",
    "print(d[\"tek\"])"
   ]
  },
  {
   "cell_type": "code",
   "execution_count": 13,
   "id": "4769a8a4-411b-494b-ac46-29f376fbddf7",
   "metadata": {},
   "outputs": [
    {
     "name": "stdout",
     "output_type": "stream",
     "text": [
      "dict_values([4, 6, 8])\n"
     ]
    }
   ],
   "source": [
    "d={2:4,4:6,6:8}\n",
    "print(d.values())\n"
   ]
  },
  {
   "cell_type": "code",
   "execution_count": 14,
   "id": "53b6c4f3-d7ce-4dd2-95c4-b077ab5dea65",
   "metadata": {},
   "outputs": [
    {
     "name": "stdout",
     "output_type": "stream",
     "text": [
      "(1, 3, 1, 3)\n"
     ]
    }
   ],
   "source": [
    "tt=(1,3)\n",
    "print(tt*2)"
   ]
  },
  {
   "cell_type": "code",
   "execution_count": 16,
   "id": "8c7b4500-29b2-47b0-ac65-c3f0f2872306",
   "metadata": {},
   "outputs": [
    {
     "name": "stdout",
     "output_type": "stream",
     "text": [
      "[0, 0, 0, 0, 0, 10, 10, 10, 10, 10]\n",
      "S1\n",
      "S3\n",
      "S4\n"
     ]
    }
   ],
   "source": [
    "try:\n",
    "    list=5*[0]+5*[10]\n",
    "    print(list)\n",
    "    x=list[9]\n",
    "    print('S1')\n",
    "except IndexError:\n",
    "    print('S2')\n",
    "else:\n",
    "    print('S3')\n",
    "finally:\n",
    "    print('S4')\n",
    "    "
   ]
  },
  {
   "cell_type": "code",
   "execution_count": 17,
   "id": "ceec73ea-58a1-437a-82ce-e88e68c4db71",
   "metadata": {},
   "outputs": [
    {
     "name": "stdout",
     "output_type": "stream",
     "text": [
      "3\n"
     ]
    }
   ],
   "source": [
    "for i in range(1,10):\n",
    "    if((i+2)%5==0):\n",
    "        break\n",
    "print(i)\n"
   ]
  },
  {
   "cell_type": "code",
   "execution_count": 18,
   "id": "6d1ccfc8-1645-44d3-966d-73a99be56eed",
   "metadata": {},
   "outputs": [
    {
     "data": {
      "text/plain": [
       "'m'"
      ]
     },
     "execution_count": 18,
     "metadata": {},
     "output_type": "execute_result"
    }
   ],
   "source": [
    "\"merhaba\"[0]"
   ]
  },
  {
   "cell_type": "code",
   "execution_count": 31,
   "id": "70229cbc-d032-4a33-8ee3-d6efddbb443b",
   "metadata": {},
   "outputs": [],
   "source": [
    "var=10\n",
    "\n",
    "while var>10:\n",
    "    var-=1\n",
    "    if var%4==0 or var%3==0:\n",
    "        continue\n",
    "    print(var)\n"
   ]
  },
  {
   "cell_type": "code",
   "execution_count": 32,
   "id": "862b8e13-d12a-4ede-a7a4-03aa3eb4ecf1",
   "metadata": {},
   "outputs": [
    {
     "name": "stdout",
     "output_type": "stream",
     "text": [
      "dict_keys([2, 4, 6])\n"
     ]
    }
   ],
   "source": [
    "d={2:4,4:6,6:8}\n",
    "print(d.keys())"
   ]
  },
  {
   "cell_type": "code",
   "execution_count": 33,
   "id": "eba690de-6438-4525-aaa2-fdea0187f12e",
   "metadata": {},
   "outputs": [
    {
     "name": "stdout",
     "output_type": "stream",
     "text": [
      "Merhaba...Python\n"
     ]
    }
   ],
   "source": [
    "s=\"Merhaba...\\\n",
    "Python\"\n",
    "\n",
    "print(s)"
   ]
  },
  {
   "cell_type": "code",
   "execution_count": 34,
   "id": "f51adfa7-bdd9-4d88-b387-d26e1e70eefe",
   "metadata": {},
   "outputs": [
    {
     "name": "stdout",
     "output_type": "stream",
     "text": [
      "10\n"
     ]
    }
   ],
   "source": [
    "y=5*[0]+5*[10]\n",
    "p=y[9]\n",
    "\n",
    "print(p)\n"
   ]
  },
  {
   "cell_type": "code",
   "execution_count": 35,
   "id": "c10d66e7-2f5d-4948-8ce2-c4c5f3e344b6",
   "metadata": {},
   "outputs": [
    {
     "data": {
      "text/plain": [
       "True"
      ]
     },
     "execution_count": 35,
     "metadata": {},
     "output_type": "execute_result"
    }
   ],
   "source": [
    "int(144)==144"
   ]
  },
  {
   "cell_type": "code",
   "execution_count": 36,
   "id": "e5140050-5701-4912-828d-3942f2d32e75",
   "metadata": {},
   "outputs": [
    {
     "data": {
      "text/plain": [
       "True"
      ]
     },
     "execution_count": 36,
     "metadata": {},
     "output_type": "execute_result"
    }
   ],
   "source": [
    "int('144')==144"
   ]
  },
  {
   "cell_type": "code",
   "execution_count": 37,
   "id": "641792a7-a1c4-4c38-af9e-f77d4eb19d9f",
   "metadata": {},
   "outputs": [
    {
     "data": {
      "text/plain": [
       "True"
      ]
     },
     "execution_count": 37,
     "metadata": {},
     "output_type": "execute_result"
    }
   ],
   "source": [
    "int(144.0)==144"
   ]
  },
  {
   "cell_type": "code",
   "execution_count": 38,
   "id": "cd853f4b-eb38-43f6-ba41-3ca48403851c",
   "metadata": {},
   "outputs": [
    {
     "data": {
      "text/plain": [
       "int"
      ]
     },
     "execution_count": 38,
     "metadata": {},
     "output_type": "execute_result"
    }
   ],
   "source": [
    "type(p)"
   ]
  },
  {
   "cell_type": "code",
   "execution_count": 39,
   "id": "cdad656f-0328-4b27-b864-d217698e198f",
   "metadata": {},
   "outputs": [],
   "source": [
    "a,b=2,4\n",
    "a,b=b,a\n"
   ]
  },
  {
   "cell_type": "code",
   "execution_count": 40,
   "id": "30191a1a-185d-49cc-b2c0-288f3da87aef",
   "metadata": {},
   "outputs": [
    {
     "name": "stdout",
     "output_type": "stream",
     "text": [
      "4 2\n"
     ]
    }
   ],
   "source": [
    "print(a,b)"
   ]
  },
  {
   "cell_type": "code",
   "execution_count": 41,
   "id": "03734b4e-eddf-45f4-9d6a-085e98872fd7",
   "metadata": {},
   "outputs": [
    {
     "name": "stdout",
     "output_type": "stream",
     "text": [
      "(2.23, 'john', 70.2)\n"
     ]
    }
   ],
   "source": [
    "t=('abcd',786,2.23,'john',70.2)\n",
    "print(t[2:])"
   ]
  },
  {
   "cell_type": "code",
   "execution_count": 42,
   "id": "0963db73-c41a-4526-a775-3564e6581511",
   "metadata": {},
   "outputs": [
    {
     "data": {
      "text/plain": [
       "'py'"
      ]
     },
     "execution_count": 42,
     "metadata": {},
     "output_type": "execute_result"
    }
   ],
   "source": [
    "'python'[:-4]"
   ]
  },
  {
   "cell_type": "code",
   "execution_count": 50,
   "id": "0db6df82-7e8c-430e-9c80-8b60c7e7e21c",
   "metadata": {},
   "outputs": [
    {
     "data": {
      "text/plain": [
       "'hon'"
      ]
     },
     "execution_count": 50,
     "metadata": {},
     "output_type": "execute_result"
    }
   ],
   "source": [
    "'python'[-3:]"
   ]
  },
  {
   "cell_type": "code",
   "execution_count": 51,
   "id": "ff48df77-c11d-4769-9810-3435bbcaceef",
   "metadata": {},
   "outputs": [
    {
     "data": {
      "text/plain": [
       "'p'"
      ]
     },
     "execution_count": 51,
     "metadata": {},
     "output_type": "execute_result"
    }
   ],
   "source": [
    "'python'[:-5]"
   ]
  },
  {
   "cell_type": "code",
   "execution_count": 53,
   "id": "715f3c78-bdbd-41e3-b432-1bfed202eae4",
   "metadata": {},
   "outputs": [
    {
     "name": "stdout",
     "output_type": "stream",
     "text": [
      "15\n",
      "14\n",
      "13\n",
      "12\n",
      "11\n"
     ]
    }
   ],
   "source": [
    "def rev_func(x,length):\n",
    "    print(x[length-1])\n",
    "    if length>1:\n",
    "        rev_func(x,length-1)\n",
    "    else:\n",
    "        return\n",
    "\n",
    "\n",
    "x=[11,12,13,14,15]\n",
    "rev_func(x,5)\n"
   ]
  },
  {
   "cell_type": "code",
   "execution_count": 54,
   "id": "af160a26-8af7-4076-9650-47f14cc4eb9f",
   "metadata": {},
   "outputs": [
    {
     "name": "stdout",
     "output_type": "stream",
     "text": [
      "1\n",
      "11\n",
      "13\n",
      "17\n",
      "19\n"
     ]
    }
   ],
   "source": [
    "for var in range(20):\n",
    "    if var%7==0 or var%3==0 or var%5==0 or var%2==0:\n",
    "        continue\n",
    "    print(var)"
   ]
  },
  {
   "cell_type": "code",
   "execution_count": 55,
   "id": "d81b6290-f823-489c-a9d7-96682fe9d94b",
   "metadata": {},
   "outputs": [
    {
     "ename": "IndexError",
     "evalue": "Replacement index 1 out of range for positional args tuple",
     "output_type": "error",
     "traceback": [
      "\u001b[1;31m---------------------------------------------------------------------------\u001b[0m",
      "\u001b[1;31mIndexError\u001b[0m                                Traceback (most recent call last)",
      "Cell \u001b[1;32mIn[55], line 1\u001b[0m\n\u001b[1;32m----> 1\u001b[0m \u001b[38;5;28mprint\u001b[39m(\u001b[38;5;124m'\u001b[39m\u001b[38;5;132;01m{deg1}\u001b[39;00m\u001b[38;5;124m ve \u001b[39m\u001b[38;5;124m\"\u001b[39m\u001b[38;5;132;01m{1}\u001b[39;00m\u001b[38;5;124m!\u001b[39m\u001b[38;5;124m\"\u001b[39m\u001b[38;5;124m'\u001b[39m\u001b[38;5;241m.\u001b[39mformat(deg1\u001b[38;5;241m=\u001b[39m\u001b[38;5;124m'\u001b[39m\u001b[38;5;124mMerhaba\u001b[39m\u001b[38;5;124m'\u001b[39m,deg2\u001b[38;5;241m=\u001b[39m\u001b[38;5;124m'\u001b[39m\u001b[38;5;124mPython\u001b[39m\u001b[38;5;124m'\u001b[39m))\n",
      "\u001b[1;31mIndexError\u001b[0m: Replacement index 1 out of range for positional args tuple"
     ]
    }
   ],
   "source": [
    "print('{deg1} ve \"{1}!\"'.format(deg1='Merhaba',deg2='Python'))"
   ]
  },
  {
   "cell_type": "code",
   "execution_count": 56,
   "id": "f064cd36-57e6-4507-a8c2-87cebb1ab531",
   "metadata": {},
   "outputs": [
    {
     "ename": "TypeError",
     "evalue": "'float' object cannot be interpreted as an integer",
     "output_type": "error",
     "traceback": [
      "\u001b[1;31m---------------------------------------------------------------------------\u001b[0m",
      "\u001b[1;31mTypeError\u001b[0m                                 Traceback (most recent call last)",
      "Cell \u001b[1;32mIn[56], line 2\u001b[0m\n\u001b[0;32m      1\u001b[0m s\n\u001b[1;32m----> 2\u001b[0m \u001b[38;5;28;01mfor\u001b[39;00m d \u001b[38;5;129;01min\u001b[39;00m \u001b[38;5;28mrange\u001b[39m(\u001b[38;5;241m0\u001b[39m,\u001b[38;5;241m5\u001b[39m,\u001b[38;5;241m0.1\u001b[39m):\n\u001b[0;32m      3\u001b[0m     s\u001b[38;5;241m+\u001b[39m\u001b[38;5;241m=\u001b[39md\n\u001b[0;32m      4\u001b[0m     \u001b[38;5;28mprint\u001b[39m(s\u001b[38;5;241m+\u001b[39m\u001b[38;5;124m\"\u001b[39m\u001b[38;5;124m10\u001b[39m\u001b[38;5;124m\"\u001b[39m)\n",
      "\u001b[1;31mTypeError\u001b[0m: 'float' object cannot be interpreted as an integer"
     ]
    }
   ],
   "source": [
    "s\n",
    "for d in range(0,5,0.1):\n",
    "    s+=d\n",
    "    print(s+\"10\")\n"
   ]
  },
  {
   "cell_type": "code",
   "execution_count": 59,
   "id": "04c54fc1-234f-4ab9-b1ee-77c9dc71a714",
   "metadata": {},
   "outputs": [
    {
     "ename": "IndentationError",
     "evalue": "unexpected indent (2262428124.py, line 2)",
     "output_type": "error",
     "traceback": [
      "\u001b[1;36m  Cell \u001b[1;32mIn[59], line 2\u001b[1;36m\u001b[0m\n\u001b[1;33m    b=19\u001b[0m\n\u001b[1;37m    ^\u001b[0m\n\u001b[1;31mIndentationError\u001b[0m\u001b[1;31m:\u001b[0m unexpected indent\n"
     ]
    }
   ],
   "source": [
    "print('hata var bir yerde')\n",
    "    b=19\n",
    "print('b: ' ,b);\n",
    "print('2ekle b ye : ' , b+2);\n"
   ]
  },
  {
   "cell_type": "code",
   "execution_count": 62,
   "id": "fc57daaf-feda-4629-806b-e1d4e6066945",
   "metadata": {},
   "outputs": [
    {
     "ename": "SyntaxError",
     "evalue": "non-default argument follows default argument (2120121230.py, line 1)",
     "output_type": "error",
     "traceback": [
      "\u001b[1;36m  Cell \u001b[1;32mIn[62], line 1\u001b[1;36m\u001b[0m\n\u001b[1;33m    def infoYaz(ad=\"minik\",yas):\u001b[0m\n\u001b[1;37m                           ^\u001b[0m\n\u001b[1;31mSyntaxError\u001b[0m\u001b[1;31m:\u001b[0m non-default argument follows default argument\n"
     ]
    }
   ],
   "source": [
    "def infoYaz(ad=\"minik\",yas):\n",
    "    print(\"Adi : \", ad,\"Yaşi:\",yas)\n",
    "    return"
   ]
  },
  {
   "cell_type": "code",
   "execution_count": 63,
   "id": "fd3eaa51-e936-4b2c-aac4-a47b58863ba9",
   "metadata": {},
   "outputs": [
    {
     "name": "stdout",
     "output_type": "stream",
     "text": [
      "True\n"
     ]
    }
   ],
   "source": [
    "print(3 in ['1',2.5,3.0])"
   ]
  },
  {
   "cell_type": "code",
   "execution_count": 64,
   "id": "1e928b35-d178-4781-9836-c1dc31793225",
   "metadata": {},
   "outputs": [
    {
     "ename": "TypeError",
     "evalue": "'tuple' object does not support item assignment",
     "output_type": "error",
     "traceback": [
      "\u001b[1;31m---------------------------------------------------------------------------\u001b[0m",
      "\u001b[1;31mTypeError\u001b[0m                                 Traceback (most recent call last)",
      "Cell \u001b[1;32mIn[64], line 2\u001b[0m\n\u001b[0;32m      1\u001b[0m a\u001b[38;5;241m=\u001b[39m(\u001b[38;5;241m1\u001b[39m,\u001b[38;5;241m2\u001b[39m)\n\u001b[1;32m----> 2\u001b[0m a[\u001b[38;5;241m0\u001b[39m]\u001b[38;5;241m+\u001b[39m\u001b[38;5;241m=\u001b[39m\u001b[38;5;241m1\u001b[39m\n",
      "\u001b[1;31mTypeError\u001b[0m: 'tuple' object does not support item assignment"
     ]
    }
   ],
   "source": [
    "a=(1,2)\n",
    "a[0]+=1\n"
   ]
  },
  {
   "cell_type": "code",
   "execution_count": 67,
   "id": "c3ec5be1-e007-428f-aeea-3e829fadd60c",
   "metadata": {},
   "outputs": [
    {
     "data": {
      "text/plain": [
       "2"
      ]
     },
     "execution_count": 67,
     "metadata": {},
     "output_type": "execute_result"
    }
   ],
   "source": [
    "5//2\n",
    "#asagi yuvarlar"
   ]
  },
  {
   "cell_type": "code",
   "execution_count": 66,
   "id": "28b79e6a-89fc-4793-83af-057a7e1a704d",
   "metadata": {},
   "outputs": [
    {
     "data": {
      "text/plain": [
       "2.5"
      ]
     },
     "execution_count": 66,
     "metadata": {},
     "output_type": "execute_result"
    }
   ],
   "source": [
    "5/2\n"
   ]
  },
  {
   "cell_type": "code",
   "execution_count": 68,
   "id": "13a040be-175a-4ff8-8910-068e7b14edea",
   "metadata": {},
   "outputs": [
    {
     "name": "stdout",
     "output_type": "stream",
     "text": [
      "Fonksiyon icindeki deger :  [10, 20, [1, 2]]\n",
      "Fonksiyon cagrildiktan sonra :  [10, 20, [1, 2]]\n"
     ]
    }
   ],
   "source": [
    "def beniDegistir(mylist):\n",
    "    mylist.append([1,2]);\n",
    "    print(\"Fonksiyon icindeki deger : \",mylist)\n",
    "    return\n",
    "mylist=[10,20]\n",
    "beniDegistir(mylist)\n",
    "print(\"Fonksiyon cagrildiktan sonra : \",mylist)\n",
    "\n"
   ]
  },
  {
   "cell_type": "code",
   "execution_count": 70,
   "id": "bfb9c8d7-967e-4002-b8f2-6a492fb86a61",
   "metadata": {},
   "outputs": [
    {
     "data": {
      "text/plain": [
       "int"
      ]
     },
     "execution_count": 70,
     "metadata": {},
     "output_type": "execute_result"
    }
   ],
   "source": [
    "type(5)"
   ]
  },
  {
   "cell_type": "code",
   "execution_count": 71,
   "id": "4ea957d1-50b1-493a-80fc-de342d9e4731",
   "metadata": {},
   "outputs": [
    {
     "data": {
      "text/plain": [
       "int"
      ]
     },
     "execution_count": 71,
     "metadata": {},
     "output_type": "execute_result"
    }
   ],
   "source": [
    "type(int(5))"
   ]
  },
  {
   "cell_type": "code",
   "execution_count": 74,
   "id": "d6f0e26b-cfc9-4330-a7bf-e5684a46c026",
   "metadata": {},
   "outputs": [
    {
     "data": {
      "text/plain": [
       "'u are doing well'"
      ]
     },
     "execution_count": 74,
     "metadata": {},
     "output_type": "execute_result"
    }
   ],
   "source": [
    "'you are doing well'[2:999]"
   ]
  },
  {
   "cell_type": "code",
   "execution_count": 75,
   "id": "334a4f40-e666-422b-9e0b-f26cc8d67430",
   "metadata": {},
   "outputs": [
    {
     "name": "stdout",
     "output_type": "stream",
     "text": [
      "10\n"
     ]
    }
   ],
   "source": [
    "lt1=lt2=[1,2,3,4,5]\n",
    "lt2[0]=10\n",
    "print(lt1[0])\n"
   ]
  }
 ],
 "metadata": {
  "kernelspec": {
   "display_name": "Python 3 (ipykernel)",
   "language": "python",
   "name": "python3"
  },
  "language_info": {
   "codemirror_mode": {
    "name": "ipython",
    "version": 3
   },
   "file_extension": ".py",
   "mimetype": "text/x-python",
   "name": "python",
   "nbconvert_exporter": "python",
   "pygments_lexer": "ipython3",
   "version": "3.11.7"
  }
 },
 "nbformat": 4,
 "nbformat_minor": 5
}
